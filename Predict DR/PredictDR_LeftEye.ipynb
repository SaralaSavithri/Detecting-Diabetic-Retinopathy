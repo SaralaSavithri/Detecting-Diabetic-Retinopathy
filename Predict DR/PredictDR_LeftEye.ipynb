{
 "cells": [
  {
   "cell_type": "markdown",
   "metadata": {},
   "source": [
    "### Import Libraries"
   ]
  },
  {
   "cell_type": "code",
   "execution_count": 1,
   "metadata": {},
   "outputs": [],
   "source": [
    "# Import required libraries\n",
    "\n",
    "import numpy as np\n",
    "import pandas as pd\n",
    "import matplotlib.pyplot as plt\n",
    "import seaborn as sns\n",
    "from sklearn.linear_model import LogisticRegression\n",
    "from sklearn.model_selection import train_test_split\n",
    "from sklearn.preprocessing import LabelEncoder, MinMaxScaler\n",
    "from sklearn.model_selection import train_test_split, cross_val_predict\n",
    "from sklearn.svm import SVC\n",
    "from sklearn.ensemble import RandomForestClassifier\n",
    "from sklearn.linear_model import SGDClassifier\n",
    "from sklearn.neighbors import KNeighborsClassifier\n",
    "from sklearn.naive_bayes import GaussianNB\n",
    "from sklearn.decomposition import PCA\n",
    "from xgboost import XGBClassifier\n",
    "from sklearn.preprocessing import LabelEncoder, MinMaxScaler\n",
    "from sklearn.metrics import confusion_matrix, precision_score, recall_score, f1_score\n",
    "import time\n",
    "import warnings\n",
    "import xlrd\n",
    "from pathlib import Path\n",
    "%matplotlib inline\n",
    "import re\n"
   ]
  },
  {
   "cell_type": "markdown",
   "metadata": {},
   "source": [
    "### Data Reading And Understanding"
   ]
  },
  {
   "cell_type": "code",
   "execution_count": 2,
   "metadata": {
    "scrolled": true
   },
   "outputs": [
    {
     "data": {
      "text/html": [
       "<div>\n",
       "<style scoped>\n",
       "    .dataframe tbody tr th:only-of-type {\n",
       "        vertical-align: middle;\n",
       "    }\n",
       "\n",
       "    .dataframe tbody tr th {\n",
       "        vertical-align: top;\n",
       "    }\n",
       "\n",
       "    .dataframe thead th {\n",
       "        text-align: right;\n",
       "    }\n",
       "</style>\n",
       "<table border=\"1\" class=\"dataframe\">\n",
       "  <thead>\n",
       "    <tr style=\"text-align: right;\">\n",
       "      <th></th>\n",
       "      <th>Eye Clinic No.</th>\n",
       "      <th>Last Name</th>\n",
       "      <th>Gender</th>\n",
       "      <th>Review Date</th>\n",
       "      <th>Age</th>\n",
       "      <th>Diagnosed Year</th>\n",
       "      <th>OD VA(Corrected)</th>\n",
       "      <th>OS VA(Corrected)</th>\n",
       "      <th>OD Retinopathy</th>\n",
       "      <th>OS Retinopathy</th>\n",
       "      <th>...</th>\n",
       "      <th>Unnamed: 20</th>\n",
       "      <th>Unnamed: 21</th>\n",
       "      <th>Unnamed: 22</th>\n",
       "      <th>Unnamed: 23</th>\n",
       "      <th>Unnamed: 24</th>\n",
       "      <th>Unnamed: 25</th>\n",
       "      <th>Unnamed: 26</th>\n",
       "      <th>Unnamed: 27</th>\n",
       "      <th>Unnamed: 28</th>\n",
       "      <th>Unnamed: 29</th>\n",
       "    </tr>\n",
       "  </thead>\n",
       "  <tbody>\n",
       "    <tr>\n",
       "      <th>0</th>\n",
       "      <td>2005</td>\n",
       "      <td>SUWARNA DR</td>\n",
       "      <td>F</td>\n",
       "      <td>2020-01-16 00:00:00</td>\n",
       "      <td>60</td>\n",
       "      <td>2010</td>\n",
       "      <td>(6/8)</td>\n",
       "      <td>-</td>\n",
       "      <td>NaN</td>\n",
       "      <td>NaN</td>\n",
       "      <td>...</td>\n",
       "      <td>NaN</td>\n",
       "      <td>NaN</td>\n",
       "      <td>NaN</td>\n",
       "      <td>NaN</td>\n",
       "      <td>NaN</td>\n",
       "      <td>NaN</td>\n",
       "      <td>NaN</td>\n",
       "      <td>NaN</td>\n",
       "      <td>NaN</td>\n",
       "      <td>NaN</td>\n",
       "    </tr>\n",
       "    <tr>\n",
       "      <th>1</th>\n",
       "      <td>2109</td>\n",
       "      <td>PIYADARSHANI RDD</td>\n",
       "      <td>F</td>\n",
       "      <td>2020-01-17 00:00:00</td>\n",
       "      <td>51</td>\n",
       "      <td>2010</td>\n",
       "      <td>(6/12)</td>\n",
       "      <td>(6/9)</td>\n",
       "      <td>NaN</td>\n",
       "      <td>NaN</td>\n",
       "      <td>...</td>\n",
       "      <td>NaN</td>\n",
       "      <td>NaN</td>\n",
       "      <td>NaN</td>\n",
       "      <td>NaN</td>\n",
       "      <td>NaN</td>\n",
       "      <td>NaN</td>\n",
       "      <td>NaN</td>\n",
       "      <td>NaN</td>\n",
       "      <td>NaN</td>\n",
       "      <td>NaN</td>\n",
       "    </tr>\n",
       "    <tr>\n",
       "      <th>2</th>\n",
       "      <td>6220</td>\n",
       "      <td>PERERA AN</td>\n",
       "      <td>F</td>\n",
       "      <td>2020-01-07 00:00:00</td>\n",
       "      <td>50</td>\n",
       "      <td>2015</td>\n",
       "      <td>(6/6)</td>\n",
       "      <td>(6/6-)</td>\n",
       "      <td>NaN</td>\n",
       "      <td>NaN</td>\n",
       "      <td>...</td>\n",
       "      <td>NaN</td>\n",
       "      <td>NaN</td>\n",
       "      <td>NaN</td>\n",
       "      <td>NaN</td>\n",
       "      <td>NaN</td>\n",
       "      <td>NaN</td>\n",
       "      <td>NaN</td>\n",
       "      <td>NaN</td>\n",
       "      <td>NaN</td>\n",
       "      <td>NaN</td>\n",
       "    </tr>\n",
       "    <tr>\n",
       "      <th>3</th>\n",
       "      <td>0001</td>\n",
       "      <td>MOHOTTI S</td>\n",
       "      <td>F</td>\n",
       "      <td>NaN</td>\n",
       "      <td>67</td>\n",
       "      <td>1999</td>\n",
       "      <td>6/6-</td>\n",
       "      <td>6/6-</td>\n",
       "      <td>N3</td>\n",
       "      <td>N2</td>\n",
       "      <td>...</td>\n",
       "      <td>NaN</td>\n",
       "      <td>NaN</td>\n",
       "      <td>NaN</td>\n",
       "      <td>NaN</td>\n",
       "      <td>NaN</td>\n",
       "      <td>NaN</td>\n",
       "      <td>NaN</td>\n",
       "      <td>NaN</td>\n",
       "      <td>NaN</td>\n",
       "      <td>NaN</td>\n",
       "    </tr>\n",
       "    <tr>\n",
       "      <th>4</th>\n",
       "      <td>0005</td>\n",
       "      <td>Kanthi P.S</td>\n",
       "      <td>F</td>\n",
       "      <td>2019-04-30 00:00:00</td>\n",
       "      <td>60</td>\n",
       "      <td>2018</td>\n",
       "      <td>6/12</td>\n",
       "      <td>6/6-</td>\n",
       "      <td>N0</td>\n",
       "      <td>N0</td>\n",
       "      <td>...</td>\n",
       "      <td>NaN</td>\n",
       "      <td>NaN</td>\n",
       "      <td>NaN</td>\n",
       "      <td>NaN</td>\n",
       "      <td>NaN</td>\n",
       "      <td>NaN</td>\n",
       "      <td>NaN</td>\n",
       "      <td>NaN</td>\n",
       "      <td>NaN</td>\n",
       "      <td>NaN</td>\n",
       "    </tr>\n",
       "  </tbody>\n",
       "</table>\n",
       "<p>5 rows × 30 columns</p>\n",
       "</div>"
      ],
      "text/plain": [
       "  Eye Clinic No.         Last Name Gender          Review Date Age  \\\n",
       "0           2005        SUWARNA DR      F  2020-01-16 00:00:00  60   \n",
       "1           2109  PIYADARSHANI RDD      F  2020-01-17 00:00:00  51   \n",
       "2           6220         PERERA AN      F  2020-01-07 00:00:00  50   \n",
       "3           0001         MOHOTTI S      F                  NaN  67   \n",
       "4           0005        Kanthi P.S      F  2019-04-30 00:00:00  60   \n",
       "\n",
       "  Diagnosed Year OD VA(Corrected) OS VA(Corrected) OD Retinopathy  \\\n",
       "0           2010            (6/8)                -            NaN   \n",
       "1           2010           (6/12)            (6/9)            NaN   \n",
       "2           2015            (6/6)           (6/6-)            NaN   \n",
       "3           1999             6/6-             6/6-             N3   \n",
       "4           2018             6/12             6/6-             N0   \n",
       "\n",
       "  OS Retinopathy  ... Unnamed: 20 Unnamed: 21 Unnamed: 22 Unnamed: 23  \\\n",
       "0            NaN  ...         NaN         NaN         NaN         NaN   \n",
       "1            NaN  ...         NaN         NaN         NaN         NaN   \n",
       "2            NaN  ...         NaN         NaN         NaN         NaN   \n",
       "3             N2  ...         NaN         NaN         NaN         NaN   \n",
       "4             N0  ...         NaN         NaN         NaN         NaN   \n",
       "\n",
       "  Unnamed: 24 Unnamed: 25  Unnamed: 26  Unnamed: 27  Unnamed: 28  Unnamed: 29  \n",
       "0         NaN         NaN          NaN          NaN          NaN          NaN  \n",
       "1         NaN         NaN          NaN          NaN          NaN          NaN  \n",
       "2         NaN         NaN          NaN          NaN          NaN          NaN  \n",
       "3         NaN         NaN          NaN          NaN          NaN          NaN  \n",
       "4         NaN         NaN          NaN          NaN          NaN          NaN  \n",
       "\n",
       "[5 rows x 30 columns]"
      ]
     },
     "execution_count": 2,
     "metadata": {},
     "output_type": "execute_result"
    }
   ],
   "source": [
    "# Promotion Table\n",
    "df = pd.read_excel('Diabetic Retinopathy Screening.xlsx')\n",
    "df.head()"
   ]
  },
  {
   "cell_type": "code",
   "execution_count": 3,
   "metadata": {},
   "outputs": [
    {
     "data": {
      "text/plain": [
       "Index(['Eye Clinic No.', 'Last Name', 'Gender', 'Review Date', 'Age',\n",
       "       'Diagnosed Year', 'OD VA(Corrected)', 'OS VA(Corrected)',\n",
       "       'OD Retinopathy', 'OS Retinopathy', 'OD Maculopathy', 'OS Maculopathy',\n",
       "       'OD Other findings', 'OS Other findings', 'Intervention', 'Next Review',\n",
       "       'Unnamed: 16', 'Unnamed: 17', 'Unnamed: 18', 'Unnamed: 19',\n",
       "       'Unnamed: 20', 'Unnamed: 21', 'Unnamed: 22', 'Unnamed: 23',\n",
       "       'Unnamed: 24', 'Unnamed: 25', 'Unnamed: 26', 'Unnamed: 27',\n",
       "       'Unnamed: 28', 'Unnamed: 29'],\n",
       "      dtype='object')"
      ]
     },
     "execution_count": 3,
     "metadata": {},
     "output_type": "execute_result"
    }
   ],
   "source": [
    "df.columns"
   ]
  },
  {
   "cell_type": "markdown",
   "metadata": {},
   "source": [
    "### Data Cleaning And Preparation"
   ]
  },
  {
   "cell_type": "code",
   "execution_count": 4,
   "metadata": {},
   "outputs": [],
   "source": [
    "#Dropping columns we do not require in the analysis.\n",
    "\n",
    "df.drop(['Review Date','OD Other findings', 'OS Other findings','Intervention','Next Review','OD Maculopathy',\n",
    "         'OS Maculopathy','Last Name','Unnamed: 16', 'Unnamed: 17', 'Unnamed: 18', 'Unnamed: 19',\n",
    "       'Unnamed: 20', 'Unnamed: 21', 'Unnamed: 22', 'Unnamed: 23',\n",
    "       'Unnamed: 24', 'Unnamed: 25', 'Unnamed: 26', 'Unnamed: 27',\n",
    "       'Unnamed: 28', 'Unnamed: 29'], axis = 1, inplace = True)"
   ]
  },
  {
   "cell_type": "code",
   "execution_count": 5,
   "metadata": {},
   "outputs": [
    {
     "data": {
      "text/plain": [
       "Index(['Eye Clinic No.', 'Gender', 'Age', 'Diagnosed Year', 'OD VA(Corrected)',\n",
       "       'OS VA(Corrected)', 'OD Retinopathy', 'OS Retinopathy'],\n",
       "      dtype='object')"
      ]
     },
     "execution_count": 5,
     "metadata": {},
     "output_type": "execute_result"
    }
   ],
   "source": [
    "df.columns"
   ]
  },
  {
   "cell_type": "code",
   "execution_count": 6,
   "metadata": {},
   "outputs": [],
   "source": [
    "# changing columns with rename() \n",
    "# Need to remove name spaces in the columns\n",
    "\n",
    "df = df.rename(columns = {\"Eye Clinic No.\": \"Eye_Clinic_No\", \n",
    "                            \"Diagnosed Year\":\"Diagnosed_Year\", \n",
    "                            \"OD VA(Corrected)\": \"Right_VA\",\n",
    "                         \"OS VA(Corrected)\": \"Left_VA\",\n",
    "                          \"OD Retinopathy\":\"Right_Retinopathy\",\n",
    "                          \"OS Retinopathy\":\"Left_Retinopathy\"}) "
   ]
  },
  {
   "cell_type": "code",
   "execution_count": 7,
   "metadata": {},
   "outputs": [
    {
     "data": {
      "text/plain": [
       "Index(['Eye_Clinic_No', 'Gender', 'Age', 'Diagnosed_Year', 'Right_VA',\n",
       "       'Left_VA', 'Right_Retinopathy', 'Left_Retinopathy'],\n",
       "      dtype='object')"
      ]
     },
     "execution_count": 7,
     "metadata": {},
     "output_type": "execute_result"
    }
   ],
   "source": [
    "df.columns"
   ]
  },
  {
   "cell_type": "code",
   "execution_count": 8,
   "metadata": {},
   "outputs": [],
   "source": [
    "df.replace(r'^\\s+$', np.nan, regex=True, inplace = True)\n",
    "df.replace('\\\\N', np.nan, inplace = True)"
   ]
  },
  {
   "cell_type": "code",
   "execution_count": 9,
   "metadata": {
    "scrolled": true
   },
   "outputs": [
    {
     "data": {
      "text/html": [
       "<div>\n",
       "<style scoped>\n",
       "    .dataframe tbody tr th:only-of-type {\n",
       "        vertical-align: middle;\n",
       "    }\n",
       "\n",
       "    .dataframe tbody tr th {\n",
       "        vertical-align: top;\n",
       "    }\n",
       "\n",
       "    .dataframe thead th {\n",
       "        text-align: right;\n",
       "    }\n",
       "</style>\n",
       "<table border=\"1\" class=\"dataframe\">\n",
       "  <thead>\n",
       "    <tr style=\"text-align: right;\">\n",
       "      <th></th>\n",
       "      <th>Eye_Clinic_No</th>\n",
       "      <th>Gender</th>\n",
       "      <th>Age</th>\n",
       "      <th>Diagnosed_Year</th>\n",
       "      <th>Right_VA</th>\n",
       "      <th>Left_VA</th>\n",
       "      <th>Right_Retinopathy</th>\n",
       "      <th>Left_Retinopathy</th>\n",
       "    </tr>\n",
       "  </thead>\n",
       "  <tbody>\n",
       "    <tr>\n",
       "      <th>count</th>\n",
       "      <td>1810</td>\n",
       "      <td>1804</td>\n",
       "      <td>1805</td>\n",
       "      <td>1799</td>\n",
       "      <td>1784</td>\n",
       "      <td>1746</td>\n",
       "      <td>1520</td>\n",
       "      <td>1522</td>\n",
       "    </tr>\n",
       "    <tr>\n",
       "      <th>unique</th>\n",
       "      <td>1708</td>\n",
       "      <td>6</td>\n",
       "      <td>63</td>\n",
       "      <td>44</td>\n",
       "      <td>65</td>\n",
       "      <td>71</td>\n",
       "      <td>15</td>\n",
       "      <td>19</td>\n",
       "    </tr>\n",
       "    <tr>\n",
       "      <th>top</th>\n",
       "      <td>1615</td>\n",
       "      <td>F</td>\n",
       "      <td>59</td>\n",
       "      <td>2009</td>\n",
       "      <td>6/6</td>\n",
       "      <td>6/6</td>\n",
       "      <td>N0</td>\n",
       "      <td>N0</td>\n",
       "    </tr>\n",
       "    <tr>\n",
       "      <th>freq</th>\n",
       "      <td>4</td>\n",
       "      <td>1179</td>\n",
       "      <td>86</td>\n",
       "      <td>188</td>\n",
       "      <td>306</td>\n",
       "      <td>300</td>\n",
       "      <td>896</td>\n",
       "      <td>885</td>\n",
       "    </tr>\n",
       "  </tbody>\n",
       "</table>\n",
       "</div>"
      ],
      "text/plain": [
       "       Eye_Clinic_No Gender   Age  Diagnosed_Year Right_VA Left_VA  \\\n",
       "count           1810   1804  1805            1799     1784    1746   \n",
       "unique          1708      6    63              44       65      71   \n",
       "top             1615      F    59            2009      6/6     6/6   \n",
       "freq               4   1179    86             188      306     300   \n",
       "\n",
       "       Right_Retinopathy Left_Retinopathy  \n",
       "count               1520             1522  \n",
       "unique                15               19  \n",
       "top                   N0               N0  \n",
       "freq                 896              885  "
      ]
     },
     "execution_count": 9,
     "metadata": {},
     "output_type": "execute_result"
    }
   ],
   "source": [
    "# Let's take a look at the statistical info of the dataset\n",
    "df.describe()"
   ]
  },
  {
   "cell_type": "code",
   "execution_count": 10,
   "metadata": {},
   "outputs": [
    {
     "data": {
      "text/html": [
       "<div>\n",
       "<style scoped>\n",
       "    .dataframe tbody tr th:only-of-type {\n",
       "        vertical-align: middle;\n",
       "    }\n",
       "\n",
       "    .dataframe tbody tr th {\n",
       "        vertical-align: top;\n",
       "    }\n",
       "\n",
       "    .dataframe thead th {\n",
       "        text-align: right;\n",
       "    }\n",
       "</style>\n",
       "<table border=\"1\" class=\"dataframe\">\n",
       "  <thead>\n",
       "    <tr style=\"text-align: right;\">\n",
       "      <th></th>\n",
       "      <th>Eye_Clinic_No</th>\n",
       "      <th>Gender</th>\n",
       "      <th>Age</th>\n",
       "      <th>Diagnosed_Year</th>\n",
       "      <th>Right_VA</th>\n",
       "      <th>Left_VA</th>\n",
       "      <th>Right_Retinopathy</th>\n",
       "      <th>Left_Retinopathy</th>\n",
       "    </tr>\n",
       "  </thead>\n",
       "  <tbody>\n",
       "    <tr>\n",
       "      <th>0</th>\n",
       "      <td>2005</td>\n",
       "      <td>F</td>\n",
       "      <td>60</td>\n",
       "      <td>2010</td>\n",
       "      <td>(6/8)</td>\n",
       "      <td>-</td>\n",
       "      <td>NaN</td>\n",
       "      <td>NaN</td>\n",
       "    </tr>\n",
       "    <tr>\n",
       "      <th>1</th>\n",
       "      <td>2109</td>\n",
       "      <td>F</td>\n",
       "      <td>51</td>\n",
       "      <td>2010</td>\n",
       "      <td>(6/12)</td>\n",
       "      <td>(6/9)</td>\n",
       "      <td>NaN</td>\n",
       "      <td>NaN</td>\n",
       "    </tr>\n",
       "    <tr>\n",
       "      <th>2</th>\n",
       "      <td>6220</td>\n",
       "      <td>F</td>\n",
       "      <td>50</td>\n",
       "      <td>2015</td>\n",
       "      <td>(6/6)</td>\n",
       "      <td>(6/6-)</td>\n",
       "      <td>NaN</td>\n",
       "      <td>NaN</td>\n",
       "    </tr>\n",
       "    <tr>\n",
       "      <th>3</th>\n",
       "      <td>0001</td>\n",
       "      <td>F</td>\n",
       "      <td>67</td>\n",
       "      <td>1999</td>\n",
       "      <td>6/6-</td>\n",
       "      <td>6/6-</td>\n",
       "      <td>N3</td>\n",
       "      <td>N2</td>\n",
       "    </tr>\n",
       "    <tr>\n",
       "      <th>4</th>\n",
       "      <td>0005</td>\n",
       "      <td>F</td>\n",
       "      <td>60</td>\n",
       "      <td>2018</td>\n",
       "      <td>6/12</td>\n",
       "      <td>6/6-</td>\n",
       "      <td>N0</td>\n",
       "      <td>N0</td>\n",
       "    </tr>\n",
       "  </tbody>\n",
       "</table>\n",
       "</div>"
      ],
      "text/plain": [
       "  Eye_Clinic_No Gender Age Diagnosed_Year Right_VA Left_VA Right_Retinopathy  \\\n",
       "0          2005      F  60           2010    (6/8)       -               NaN   \n",
       "1          2109      F  51           2010   (6/12)   (6/9)               NaN   \n",
       "2          6220      F  50           2015    (6/6)  (6/6-)               NaN   \n",
       "3          0001      F  67           1999     6/6-    6/6-                N3   \n",
       "4          0005      F  60           2018     6/12    6/6-                N0   \n",
       "\n",
       "  Left_Retinopathy  \n",
       "0              NaN  \n",
       "1              NaN  \n",
       "2              NaN  \n",
       "3               N2  \n",
       "4               N0  "
      ]
     },
     "execution_count": 10,
     "metadata": {},
     "output_type": "execute_result"
    }
   ],
   "source": [
    "df.head()"
   ]
  },
  {
   "cell_type": "code",
   "execution_count": 11,
   "metadata": {},
   "outputs": [
    {
     "name": "stdout",
     "output_type": "stream",
     "text": [
      "<class 'pandas.core.frame.DataFrame'>\n",
      "RangeIndex: 1818 entries, 0 to 1817\n",
      "Data columns (total 8 columns):\n",
      "Eye_Clinic_No        1810 non-null object\n",
      "Gender               1804 non-null object\n",
      "Age                  1805 non-null object\n",
      "Diagnosed_Year       1799 non-null object\n",
      "Right_VA             1784 non-null object\n",
      "Left_VA              1746 non-null object\n",
      "Right_Retinopathy    1520 non-null object\n",
      "Left_Retinopathy     1522 non-null object\n",
      "dtypes: object(8)\n",
      "memory usage: 113.7+ KB\n"
     ]
    }
   ],
   "source": [
    "# Get info about the dataset\n",
    "df.info()"
   ]
  },
  {
   "cell_type": "code",
   "execution_count": 12,
   "metadata": {
    "scrolled": true
   },
   "outputs": [
    {
     "data": {
      "text/plain": [
       "Eye_Clinic_No         0.44\n",
       "Gender                0.77\n",
       "Age                   0.72\n",
       "Diagnosed_Year        1.05\n",
       "Right_VA              1.87\n",
       "Left_VA               3.96\n",
       "Right_Retinopathy    16.39\n",
       "Left_Retinopathy     16.28\n",
       "dtype: float64"
      ]
     },
     "execution_count": 12,
     "metadata": {},
     "output_type": "execute_result"
    }
   ],
   "source": [
    "# let's check the null percentage for each column\n",
    "round(100*(df.isnull().sum()/len(df.index)), 2)"
   ]
  },
  {
   "cell_type": "markdown",
   "metadata": {},
   "source": [
    "##### Clean column Right_Retinopathy"
   ]
  },
  {
   "cell_type": "code",
   "execution_count": 13,
   "metadata": {},
   "outputs": [
    {
     "data": {
      "text/plain": [
       "array([nan, 'N3', 'N0', '-', 'N1', 'P3', 'N2', 'P1', 'P2', 'N4', 'NI',\n",
       "       'P4', 'CATARACT', 'OD Retinopathy', 'P0', 'n0'], dtype=object)"
      ]
     },
     "execution_count": 13,
     "metadata": {},
     "output_type": "execute_result"
    }
   ],
   "source": [
    "# Check the unique values in OD_Retinopathy\n",
    "df.Right_Retinopathy.unique()"
   ]
  },
  {
   "cell_type": "code",
   "execution_count": 14,
   "metadata": {},
   "outputs": [
    {
     "data": {
      "text/html": [
       "<div>\n",
       "<style scoped>\n",
       "    .dataframe tbody tr th:only-of-type {\n",
       "        vertical-align: middle;\n",
       "    }\n",
       "\n",
       "    .dataframe tbody tr th {\n",
       "        vertical-align: top;\n",
       "    }\n",
       "\n",
       "    .dataframe thead th {\n",
       "        text-align: right;\n",
       "    }\n",
       "</style>\n",
       "<table border=\"1\" class=\"dataframe\">\n",
       "  <thead>\n",
       "    <tr style=\"text-align: right;\">\n",
       "      <th></th>\n",
       "      <th>Eye_Clinic_No</th>\n",
       "      <th>Gender</th>\n",
       "      <th>Age</th>\n",
       "      <th>Diagnosed_Year</th>\n",
       "      <th>Right_VA</th>\n",
       "      <th>Left_VA</th>\n",
       "      <th>Right_Retinopathy</th>\n",
       "      <th>Left_Retinopathy</th>\n",
       "    </tr>\n",
       "  </thead>\n",
       "  <tbody>\n",
       "    <tr>\n",
       "      <th>3</th>\n",
       "      <td>0001</td>\n",
       "      <td>F</td>\n",
       "      <td>67</td>\n",
       "      <td>1999</td>\n",
       "      <td>6/6-</td>\n",
       "      <td>6/6-</td>\n",
       "      <td>N3</td>\n",
       "      <td>N2</td>\n",
       "    </tr>\n",
       "    <tr>\n",
       "      <th>4</th>\n",
       "      <td>0005</td>\n",
       "      <td>F</td>\n",
       "      <td>60</td>\n",
       "      <td>2018</td>\n",
       "      <td>6/12</td>\n",
       "      <td>6/6-</td>\n",
       "      <td>N0</td>\n",
       "      <td>N0</td>\n",
       "    </tr>\n",
       "    <tr>\n",
       "      <th>5</th>\n",
       "      <td>0027</td>\n",
       "      <td>F</td>\n",
       "      <td>57</td>\n",
       "      <td>2017</td>\n",
       "      <td>6/6</td>\n",
       "      <td>6/6</td>\n",
       "      <td>N0</td>\n",
       "      <td>N0</td>\n",
       "    </tr>\n",
       "    <tr>\n",
       "      <th>6</th>\n",
       "      <td>0028</td>\n",
       "      <td>M</td>\n",
       "      <td>70</td>\n",
       "      <td>2004</td>\n",
       "      <td>NaN</td>\n",
       "      <td>NaN</td>\n",
       "      <td>N0</td>\n",
       "      <td>N0</td>\n",
       "    </tr>\n",
       "    <tr>\n",
       "      <th>10</th>\n",
       "      <td>0034</td>\n",
       "      <td>M</td>\n",
       "      <td>66</td>\n",
       "      <td>1989</td>\n",
       "      <td>NaN</td>\n",
       "      <td>NaN</td>\n",
       "      <td>N1</td>\n",
       "      <td>N1</td>\n",
       "    </tr>\n",
       "  </tbody>\n",
       "</table>\n",
       "</div>"
      ],
      "text/plain": [
       "   Eye_Clinic_No Gender Age Diagnosed_Year Right_VA Left_VA Right_Retinopathy  \\\n",
       "3           0001      F  67           1999     6/6-    6/6-                N3   \n",
       "4           0005      F  60           2018     6/12    6/6-                N0   \n",
       "5           0027      F  57           2017      6/6     6/6                N0   \n",
       "6           0028      M  70           2004      NaN     NaN                N0   \n",
       "10          0034      M  66           1989      NaN     NaN                N1   \n",
       "\n",
       "   Left_Retinopathy  \n",
       "3                N2  \n",
       "4                N0  \n",
       "5                N0  \n",
       "6                N0  \n",
       "10               N1  "
      ]
     },
     "execution_count": 14,
     "metadata": {},
     "output_type": "execute_result"
    }
   ],
   "source": [
    "array = ['N0', 'N1','N2','N3','N4','P1','P2','P3']\n",
    "df_OD = df.loc[df['Right_Retinopathy'].isin(array)]\n",
    "df_OD.head()"
   ]
  },
  {
   "cell_type": "code",
   "execution_count": 15,
   "metadata": {},
   "outputs": [
    {
     "data": {
      "text/plain": [
       "array(['N3', 'N0', 'N1', 'P3', 'N2', 'P1', 'P2', 'N4'], dtype=object)"
      ]
     },
     "execution_count": 15,
     "metadata": {},
     "output_type": "execute_result"
    }
   ],
   "source": [
    "# Check the unique values in OD_Retinopathy\n",
    "df_OD.Right_Retinopathy.unique()"
   ]
  },
  {
   "cell_type": "code",
   "execution_count": 16,
   "metadata": {
    "collapsed": true
   },
   "outputs": [
    {
     "name": "stderr",
     "output_type": "stream",
     "text": [
      "C:\\Users\\saral\\AppData\\Local\\Continuum\\anaconda3\\lib\\site-packages\\ipykernel_launcher.py:1: SettingWithCopyWarning: \n",
      "A value is trying to be set on a copy of a slice from a DataFrame.\n",
      "Try using .loc[row_indexer,col_indexer] = value instead\n",
      "\n",
      "See the caveats in the documentation: http://pandas.pydata.org/pandas-docs/stable/indexing.html#indexing-view-versus-copy\n",
      "  \"\"\"Entry point for launching an IPython kernel.\n",
      "C:\\Users\\saral\\AppData\\Local\\Continuum\\anaconda3\\lib\\site-packages\\ipykernel_launcher.py:2: SettingWithCopyWarning: \n",
      "A value is trying to be set on a copy of a slice from a DataFrame.\n",
      "Try using .loc[row_indexer,col_indexer] = value instead\n",
      "\n",
      "See the caveats in the documentation: http://pandas.pydata.org/pandas-docs/stable/indexing.html#indexing-view-versus-copy\n",
      "  \n",
      "C:\\Users\\saral\\AppData\\Local\\Continuum\\anaconda3\\lib\\site-packages\\ipykernel_launcher.py:3: SettingWithCopyWarning: \n",
      "A value is trying to be set on a copy of a slice from a DataFrame.\n",
      "Try using .loc[row_indexer,col_indexer] = value instead\n",
      "\n",
      "See the caveats in the documentation: http://pandas.pydata.org/pandas-docs/stable/indexing.html#indexing-view-versus-copy\n",
      "  This is separate from the ipykernel package so we can avoid doing imports until\n",
      "C:\\Users\\saral\\AppData\\Local\\Continuum\\anaconda3\\lib\\site-packages\\ipykernel_launcher.py:4: SettingWithCopyWarning: \n",
      "A value is trying to be set on a copy of a slice from a DataFrame.\n",
      "Try using .loc[row_indexer,col_indexer] = value instead\n",
      "\n",
      "See the caveats in the documentation: http://pandas.pydata.org/pandas-docs/stable/indexing.html#indexing-view-versus-copy\n",
      "  after removing the cwd from sys.path.\n",
      "C:\\Users\\saral\\AppData\\Local\\Continuum\\anaconda3\\lib\\site-packages\\ipykernel_launcher.py:5: SettingWithCopyWarning: \n",
      "A value is trying to be set on a copy of a slice from a DataFrame.\n",
      "Try using .loc[row_indexer,col_indexer] = value instead\n",
      "\n",
      "See the caveats in the documentation: http://pandas.pydata.org/pandas-docs/stable/indexing.html#indexing-view-versus-copy\n",
      "  \"\"\"\n",
      "C:\\Users\\saral\\AppData\\Local\\Continuum\\anaconda3\\lib\\site-packages\\ipykernel_launcher.py:6: SettingWithCopyWarning: \n",
      "A value is trying to be set on a copy of a slice from a DataFrame.\n",
      "Try using .loc[row_indexer,col_indexer] = value instead\n",
      "\n",
      "See the caveats in the documentation: http://pandas.pydata.org/pandas-docs/stable/indexing.html#indexing-view-versus-copy\n",
      "  \n",
      "C:\\Users\\saral\\AppData\\Local\\Continuum\\anaconda3\\lib\\site-packages\\ipykernel_launcher.py:7: SettingWithCopyWarning: \n",
      "A value is trying to be set on a copy of a slice from a DataFrame.\n",
      "Try using .loc[row_indexer,col_indexer] = value instead\n",
      "\n",
      "See the caveats in the documentation: http://pandas.pydata.org/pandas-docs/stable/indexing.html#indexing-view-versus-copy\n",
      "  import sys\n",
      "C:\\Users\\saral\\AppData\\Local\\Continuum\\anaconda3\\lib\\site-packages\\ipykernel_launcher.py:8: SettingWithCopyWarning: \n",
      "A value is trying to be set on a copy of a slice from a DataFrame.\n",
      "Try using .loc[row_indexer,col_indexer] = value instead\n",
      "\n",
      "See the caveats in the documentation: http://pandas.pydata.org/pandas-docs/stable/indexing.html#indexing-view-versus-copy\n",
      "  \n"
     ]
    }
   ],
   "source": [
    "#replace values with a proper value\n",
    "\n",
    "df_OD['Right_Retinopathy'] = df_OD['Right_Retinopathy'].str.replace('N0', 'No_DR')\n",
    "df_OD['Right_Retinopathy'] = df_OD['Right_Retinopathy'].str.replace('N1', 'Mild_DR')\n",
    "df_OD['Right_Retinopathy'] = df_OD['Right_Retinopathy'].str.replace('N2', 'Moderate_DR')\n",
    "df_OD['Right_Retinopathy'] = df_OD['Right_Retinopathy'].str.replace('N3', 'Severe_DR')\n",
    "df_OD['Right_Retinopathy'] = df_OD['Right_Retinopathy'].str.replace('N4', 'Severe_DR')\n",
    "df_OD['Right_Retinopathy'] = df_OD['Right_Retinopathy'].str.replace('P1', 'PDR')\n",
    "df_OD['Right_Retinopathy'] = df_OD['Right_Retinopathy'].str.replace('P2', 'PDR')\n",
    "df_OD['Right_Retinopathy'] = df_OD['Right_Retinopathy'].str.replace('P3', 'PDR')\n"
   ]
  },
  {
   "cell_type": "code",
   "execution_count": 17,
   "metadata": {},
   "outputs": [
    {
     "data": {
      "text/plain": [
       "array(['Severe_DR', 'No_DR', 'Mild_DR', 'PDR', 'Moderate_DR'],\n",
       "      dtype=object)"
      ]
     },
     "execution_count": 17,
     "metadata": {},
     "output_type": "execute_result"
    }
   ],
   "source": [
    "# Check the unique values in OD_Retinopathy\n",
    "df_OD.Right_Retinopathy.unique()"
   ]
  },
  {
   "cell_type": "markdown",
   "metadata": {},
   "source": [
    "##### Clean column Left_Retinopathy"
   ]
  },
  {
   "cell_type": "code",
   "execution_count": 18,
   "metadata": {},
   "outputs": [
    {
     "data": {
      "text/plain": [
       "array(['N2', 'N0', 'N1', 'P3', 'N3', 'P1', '-', 'NO', 'P2', 'N4', 'p3',\n",
       "       'M0', 'M3', 'M1', 'M2'], dtype=object)"
      ]
     },
     "execution_count": 18,
     "metadata": {},
     "output_type": "execute_result"
    }
   ],
   "source": [
    "# Check the unique values in OS_Retinopathy\n",
    "df_OD.Left_Retinopathy.unique()"
   ]
  },
  {
   "cell_type": "code",
   "execution_count": 19,
   "metadata": {},
   "outputs": [
    {
     "data": {
      "text/html": [
       "<div>\n",
       "<style scoped>\n",
       "    .dataframe tbody tr th:only-of-type {\n",
       "        vertical-align: middle;\n",
       "    }\n",
       "\n",
       "    .dataframe tbody tr th {\n",
       "        vertical-align: top;\n",
       "    }\n",
       "\n",
       "    .dataframe thead th {\n",
       "        text-align: right;\n",
       "    }\n",
       "</style>\n",
       "<table border=\"1\" class=\"dataframe\">\n",
       "  <thead>\n",
       "    <tr style=\"text-align: right;\">\n",
       "      <th></th>\n",
       "      <th>Eye_Clinic_No</th>\n",
       "      <th>Gender</th>\n",
       "      <th>Age</th>\n",
       "      <th>Diagnosed_Year</th>\n",
       "      <th>Right_VA</th>\n",
       "      <th>Left_VA</th>\n",
       "      <th>Right_Retinopathy</th>\n",
       "      <th>Left_Retinopathy</th>\n",
       "    </tr>\n",
       "  </thead>\n",
       "  <tbody>\n",
       "    <tr>\n",
       "      <th>3</th>\n",
       "      <td>0001</td>\n",
       "      <td>F</td>\n",
       "      <td>67</td>\n",
       "      <td>1999</td>\n",
       "      <td>6/6-</td>\n",
       "      <td>6/6-</td>\n",
       "      <td>Severe_DR</td>\n",
       "      <td>N2</td>\n",
       "    </tr>\n",
       "    <tr>\n",
       "      <th>4</th>\n",
       "      <td>0005</td>\n",
       "      <td>F</td>\n",
       "      <td>60</td>\n",
       "      <td>2018</td>\n",
       "      <td>6/12</td>\n",
       "      <td>6/6-</td>\n",
       "      <td>No_DR</td>\n",
       "      <td>N0</td>\n",
       "    </tr>\n",
       "    <tr>\n",
       "      <th>5</th>\n",
       "      <td>0027</td>\n",
       "      <td>F</td>\n",
       "      <td>57</td>\n",
       "      <td>2017</td>\n",
       "      <td>6/6</td>\n",
       "      <td>6/6</td>\n",
       "      <td>No_DR</td>\n",
       "      <td>N0</td>\n",
       "    </tr>\n",
       "    <tr>\n",
       "      <th>6</th>\n",
       "      <td>0028</td>\n",
       "      <td>M</td>\n",
       "      <td>70</td>\n",
       "      <td>2004</td>\n",
       "      <td>NaN</td>\n",
       "      <td>NaN</td>\n",
       "      <td>No_DR</td>\n",
       "      <td>N0</td>\n",
       "    </tr>\n",
       "    <tr>\n",
       "      <th>10</th>\n",
       "      <td>0034</td>\n",
       "      <td>M</td>\n",
       "      <td>66</td>\n",
       "      <td>1989</td>\n",
       "      <td>NaN</td>\n",
       "      <td>NaN</td>\n",
       "      <td>Mild_DR</td>\n",
       "      <td>N1</td>\n",
       "    </tr>\n",
       "  </tbody>\n",
       "</table>\n",
       "</div>"
      ],
      "text/plain": [
       "   Eye_Clinic_No Gender Age Diagnosed_Year Right_VA Left_VA Right_Retinopathy  \\\n",
       "3           0001      F  67           1999     6/6-    6/6-         Severe_DR   \n",
       "4           0005      F  60           2018     6/12    6/6-             No_DR   \n",
       "5           0027      F  57           2017      6/6     6/6             No_DR   \n",
       "6           0028      M  70           2004      NaN     NaN             No_DR   \n",
       "10          0034      M  66           1989      NaN     NaN           Mild_DR   \n",
       "\n",
       "   Left_Retinopathy  \n",
       "3                N2  \n",
       "4                N0  \n",
       "5                N0  \n",
       "6                N0  \n",
       "10               N1  "
      ]
     },
     "execution_count": 19,
     "metadata": {},
     "output_type": "execute_result"
    }
   ],
   "source": [
    "array = ['N0', 'N1','N2','N3','N4','P1','P2','P3']\n",
    "df_OS = df_OD.loc[df_OD['Left_Retinopathy'].isin(array)]\n",
    "df_OS.head()"
   ]
  },
  {
   "cell_type": "code",
   "execution_count": 20,
   "metadata": {},
   "outputs": [
    {
     "name": "stderr",
     "output_type": "stream",
     "text": [
      "C:\\Users\\saral\\AppData\\Local\\Continuum\\anaconda3\\lib\\site-packages\\ipykernel_launcher.py:1: SettingWithCopyWarning: \n",
      "A value is trying to be set on a copy of a slice from a DataFrame.\n",
      "Try using .loc[row_indexer,col_indexer] = value instead\n",
      "\n",
      "See the caveats in the documentation: http://pandas.pydata.org/pandas-docs/stable/indexing.html#indexing-view-versus-copy\n",
      "  \"\"\"Entry point for launching an IPython kernel.\n",
      "C:\\Users\\saral\\AppData\\Local\\Continuum\\anaconda3\\lib\\site-packages\\ipykernel_launcher.py:2: SettingWithCopyWarning: \n",
      "A value is trying to be set on a copy of a slice from a DataFrame.\n",
      "Try using .loc[row_indexer,col_indexer] = value instead\n",
      "\n",
      "See the caveats in the documentation: http://pandas.pydata.org/pandas-docs/stable/indexing.html#indexing-view-versus-copy\n",
      "  \n",
      "C:\\Users\\saral\\AppData\\Local\\Continuum\\anaconda3\\lib\\site-packages\\ipykernel_launcher.py:3: SettingWithCopyWarning: \n",
      "A value is trying to be set on a copy of a slice from a DataFrame.\n",
      "Try using .loc[row_indexer,col_indexer] = value instead\n",
      "\n",
      "See the caveats in the documentation: http://pandas.pydata.org/pandas-docs/stable/indexing.html#indexing-view-versus-copy\n",
      "  This is separate from the ipykernel package so we can avoid doing imports until\n",
      "C:\\Users\\saral\\AppData\\Local\\Continuum\\anaconda3\\lib\\site-packages\\ipykernel_launcher.py:4: SettingWithCopyWarning: \n",
      "A value is trying to be set on a copy of a slice from a DataFrame.\n",
      "Try using .loc[row_indexer,col_indexer] = value instead\n",
      "\n",
      "See the caveats in the documentation: http://pandas.pydata.org/pandas-docs/stable/indexing.html#indexing-view-versus-copy\n",
      "  after removing the cwd from sys.path.\n",
      "C:\\Users\\saral\\AppData\\Local\\Continuum\\anaconda3\\lib\\site-packages\\ipykernel_launcher.py:5: SettingWithCopyWarning: \n",
      "A value is trying to be set on a copy of a slice from a DataFrame.\n",
      "Try using .loc[row_indexer,col_indexer] = value instead\n",
      "\n",
      "See the caveats in the documentation: http://pandas.pydata.org/pandas-docs/stable/indexing.html#indexing-view-versus-copy\n",
      "  \"\"\"\n",
      "C:\\Users\\saral\\AppData\\Local\\Continuum\\anaconda3\\lib\\site-packages\\ipykernel_launcher.py:6: SettingWithCopyWarning: \n",
      "A value is trying to be set on a copy of a slice from a DataFrame.\n",
      "Try using .loc[row_indexer,col_indexer] = value instead\n",
      "\n",
      "See the caveats in the documentation: http://pandas.pydata.org/pandas-docs/stable/indexing.html#indexing-view-versus-copy\n",
      "  \n",
      "C:\\Users\\saral\\AppData\\Local\\Continuum\\anaconda3\\lib\\site-packages\\ipykernel_launcher.py:7: SettingWithCopyWarning: \n",
      "A value is trying to be set on a copy of a slice from a DataFrame.\n",
      "Try using .loc[row_indexer,col_indexer] = value instead\n",
      "\n",
      "See the caveats in the documentation: http://pandas.pydata.org/pandas-docs/stable/indexing.html#indexing-view-versus-copy\n",
      "  import sys\n",
      "C:\\Users\\saral\\AppData\\Local\\Continuum\\anaconda3\\lib\\site-packages\\ipykernel_launcher.py:8: SettingWithCopyWarning: \n",
      "A value is trying to be set on a copy of a slice from a DataFrame.\n",
      "Try using .loc[row_indexer,col_indexer] = value instead\n",
      "\n",
      "See the caveats in the documentation: http://pandas.pydata.org/pandas-docs/stable/indexing.html#indexing-view-versus-copy\n",
      "  \n"
     ]
    }
   ],
   "source": [
    "df_OS['Left_Retinopathy'] = df_OS['Left_Retinopathy'].str.replace('N0', 'No_DR')\n",
    "df_OS['Left_Retinopathy'] = df_OS['Left_Retinopathy'].str.replace('N1', 'Mild_DR')\n",
    "df_OS['Left_Retinopathy'] = df_OS['Left_Retinopathy'].str.replace('N2', 'Moderate_DR')\n",
    "df_OS['Left_Retinopathy'] = df_OS['Left_Retinopathy'].str.replace('N3', 'Severe_DR')\n",
    "df_OS['Left_Retinopathy'] = df_OS['Left_Retinopathy'].str.replace('N4', 'Severe_DR')\n",
    "df_OS['Left_Retinopathy'] = df_OS['Left_Retinopathy'].str.replace('P1', 'PDR')\n",
    "df_OS['Left_Retinopathy'] = df_OS['Left_Retinopathy'].str.replace('P2', 'PDR')\n",
    "df_OS['Left_Retinopathy'] = df_OS['Left_Retinopathy'].str.replace('P3', 'PDR')\n"
   ]
  },
  {
   "cell_type": "code",
   "execution_count": 21,
   "metadata": {},
   "outputs": [
    {
     "data": {
      "text/plain": [
       "array(['Moderate_DR', 'No_DR', 'Mild_DR', 'PDR', 'Severe_DR'],\n",
       "      dtype=object)"
      ]
     },
     "execution_count": 21,
     "metadata": {},
     "output_type": "execute_result"
    }
   ],
   "source": [
    "# Check the unique values in OS_Retinopathy\n",
    "df_OS.Left_Retinopathy.unique()"
   ]
  },
  {
   "cell_type": "markdown",
   "metadata": {},
   "source": [
    "##### Clean column Gender"
   ]
  },
  {
   "cell_type": "code",
   "execution_count": 22,
   "metadata": {},
   "outputs": [
    {
     "data": {
      "text/plain": [
       "array(['F', 'M', nan, 'E', 'f', 'm'], dtype=object)"
      ]
     },
     "execution_count": 22,
     "metadata": {},
     "output_type": "execute_result"
    }
   ],
   "source": [
    "# Check the unique values in Gender\n",
    "df_OS.Gender.unique()"
   ]
  },
  {
   "cell_type": "code",
   "execution_count": 23,
   "metadata": {},
   "outputs": [
    {
     "data": {
      "text/plain": [
       "F    749\n",
       "M    376\n",
       "f      3\n",
       "m      2\n",
       "E      1\n",
       "Name: Gender, dtype: int64"
      ]
     },
     "execution_count": 23,
     "metadata": {},
     "output_type": "execute_result"
    }
   ],
   "source": [
    "df_OS.Gender.value_counts()"
   ]
  },
  {
   "cell_type": "code",
   "execution_count": 24,
   "metadata": {
    "scrolled": true
   },
   "outputs": [
    {
     "data": {
      "text/html": [
       "<div>\n",
       "<style scoped>\n",
       "    .dataframe tbody tr th:only-of-type {\n",
       "        vertical-align: middle;\n",
       "    }\n",
       "\n",
       "    .dataframe tbody tr th {\n",
       "        vertical-align: top;\n",
       "    }\n",
       "\n",
       "    .dataframe thead th {\n",
       "        text-align: right;\n",
       "    }\n",
       "</style>\n",
       "<table border=\"1\" class=\"dataframe\">\n",
       "  <thead>\n",
       "    <tr style=\"text-align: right;\">\n",
       "      <th></th>\n",
       "      <th>Eye_Clinic_No</th>\n",
       "      <th>Gender</th>\n",
       "      <th>Age</th>\n",
       "      <th>Diagnosed_Year</th>\n",
       "      <th>Right_VA</th>\n",
       "      <th>Left_VA</th>\n",
       "      <th>Right_Retinopathy</th>\n",
       "      <th>Left_Retinopathy</th>\n",
       "    </tr>\n",
       "  </thead>\n",
       "  <tbody>\n",
       "    <tr>\n",
       "      <th>3</th>\n",
       "      <td>0001</td>\n",
       "      <td>F</td>\n",
       "      <td>67</td>\n",
       "      <td>1999</td>\n",
       "      <td>6/6-</td>\n",
       "      <td>6/6-</td>\n",
       "      <td>Severe_DR</td>\n",
       "      <td>Moderate_DR</td>\n",
       "    </tr>\n",
       "    <tr>\n",
       "      <th>4</th>\n",
       "      <td>0005</td>\n",
       "      <td>F</td>\n",
       "      <td>60</td>\n",
       "      <td>2018</td>\n",
       "      <td>6/12</td>\n",
       "      <td>6/6-</td>\n",
       "      <td>No_DR</td>\n",
       "      <td>No_DR</td>\n",
       "    </tr>\n",
       "    <tr>\n",
       "      <th>5</th>\n",
       "      <td>0027</td>\n",
       "      <td>F</td>\n",
       "      <td>57</td>\n",
       "      <td>2017</td>\n",
       "      <td>6/6</td>\n",
       "      <td>6/6</td>\n",
       "      <td>No_DR</td>\n",
       "      <td>No_DR</td>\n",
       "    </tr>\n",
       "    <tr>\n",
       "      <th>6</th>\n",
       "      <td>0028</td>\n",
       "      <td>M</td>\n",
       "      <td>70</td>\n",
       "      <td>2004</td>\n",
       "      <td>NaN</td>\n",
       "      <td>NaN</td>\n",
       "      <td>No_DR</td>\n",
       "      <td>No_DR</td>\n",
       "    </tr>\n",
       "    <tr>\n",
       "      <th>10</th>\n",
       "      <td>0034</td>\n",
       "      <td>M</td>\n",
       "      <td>66</td>\n",
       "      <td>1989</td>\n",
       "      <td>NaN</td>\n",
       "      <td>NaN</td>\n",
       "      <td>Mild_DR</td>\n",
       "      <td>Mild_DR</td>\n",
       "    </tr>\n",
       "  </tbody>\n",
       "</table>\n",
       "</div>"
      ],
      "text/plain": [
       "   Eye_Clinic_No Gender Age Diagnosed_Year Right_VA Left_VA Right_Retinopathy  \\\n",
       "3           0001      F  67           1999     6/6-    6/6-         Severe_DR   \n",
       "4           0005      F  60           2018     6/12    6/6-             No_DR   \n",
       "5           0027      F  57           2017      6/6     6/6             No_DR   \n",
       "6           0028      M  70           2004      NaN     NaN             No_DR   \n",
       "10          0034      M  66           1989      NaN     NaN           Mild_DR   \n",
       "\n",
       "   Left_Retinopathy  \n",
       "3       Moderate_DR  \n",
       "4             No_DR  \n",
       "5             No_DR  \n",
       "6             No_DR  \n",
       "10          Mild_DR  "
      ]
     },
     "execution_count": 24,
     "metadata": {},
     "output_type": "execute_result"
    }
   ],
   "source": [
    "#take only relevent rows\n",
    "\n",
    "array = ['F','M']\n",
    "df_Gender = df_OS.loc[df_OS['Gender'].isin(array)]\n",
    "df_Gender.head()"
   ]
  },
  {
   "cell_type": "code",
   "execution_count": 25,
   "metadata": {},
   "outputs": [
    {
     "name": "stderr",
     "output_type": "stream",
     "text": [
      "C:\\Users\\saral\\AppData\\Local\\Continuum\\anaconda3\\lib\\site-packages\\ipykernel_launcher.py:1: SettingWithCopyWarning: \n",
      "A value is trying to be set on a copy of a slice from a DataFrame.\n",
      "Try using .loc[row_indexer,col_indexer] = value instead\n",
      "\n",
      "See the caveats in the documentation: http://pandas.pydata.org/pandas-docs/stable/indexing.html#indexing-view-versus-copy\n",
      "  \"\"\"Entry point for launching an IPython kernel.\n",
      "C:\\Users\\saral\\AppData\\Local\\Continuum\\anaconda3\\lib\\site-packages\\ipykernel_launcher.py:2: SettingWithCopyWarning: \n",
      "A value is trying to be set on a copy of a slice from a DataFrame.\n",
      "Try using .loc[row_indexer,col_indexer] = value instead\n",
      "\n",
      "See the caveats in the documentation: http://pandas.pydata.org/pandas-docs/stable/indexing.html#indexing-view-versus-copy\n",
      "  \n"
     ]
    }
   ],
   "source": [
    "#replace values with a proper value\n",
    "\n",
    "df_Gender['Gender'] = df_Gender['Gender'].str.replace('M', '1')\n",
    "df_Gender['Gender'] = df_Gender['Gender'].str.replace('F', '0')"
   ]
  },
  {
   "cell_type": "code",
   "execution_count": 26,
   "metadata": {},
   "outputs": [
    {
     "data": {
      "text/html": [
       "<div>\n",
       "<style scoped>\n",
       "    .dataframe tbody tr th:only-of-type {\n",
       "        vertical-align: middle;\n",
       "    }\n",
       "\n",
       "    .dataframe tbody tr th {\n",
       "        vertical-align: top;\n",
       "    }\n",
       "\n",
       "    .dataframe thead th {\n",
       "        text-align: right;\n",
       "    }\n",
       "</style>\n",
       "<table border=\"1\" class=\"dataframe\">\n",
       "  <thead>\n",
       "    <tr style=\"text-align: right;\">\n",
       "      <th></th>\n",
       "      <th>Eye_Clinic_No</th>\n",
       "      <th>Gender</th>\n",
       "      <th>Age</th>\n",
       "      <th>Diagnosed_Year</th>\n",
       "      <th>Right_VA</th>\n",
       "      <th>Left_VA</th>\n",
       "      <th>Right_Retinopathy</th>\n",
       "      <th>Left_Retinopathy</th>\n",
       "    </tr>\n",
       "  </thead>\n",
       "  <tbody>\n",
       "    <tr>\n",
       "      <th>3</th>\n",
       "      <td>0001</td>\n",
       "      <td>0</td>\n",
       "      <td>67</td>\n",
       "      <td>1999</td>\n",
       "      <td>6/6-</td>\n",
       "      <td>6/6-</td>\n",
       "      <td>Severe_DR</td>\n",
       "      <td>Moderate_DR</td>\n",
       "    </tr>\n",
       "    <tr>\n",
       "      <th>4</th>\n",
       "      <td>0005</td>\n",
       "      <td>0</td>\n",
       "      <td>60</td>\n",
       "      <td>2018</td>\n",
       "      <td>6/12</td>\n",
       "      <td>6/6-</td>\n",
       "      <td>No_DR</td>\n",
       "      <td>No_DR</td>\n",
       "    </tr>\n",
       "    <tr>\n",
       "      <th>5</th>\n",
       "      <td>0027</td>\n",
       "      <td>0</td>\n",
       "      <td>57</td>\n",
       "      <td>2017</td>\n",
       "      <td>6/6</td>\n",
       "      <td>6/6</td>\n",
       "      <td>No_DR</td>\n",
       "      <td>No_DR</td>\n",
       "    </tr>\n",
       "    <tr>\n",
       "      <th>6</th>\n",
       "      <td>0028</td>\n",
       "      <td>1</td>\n",
       "      <td>70</td>\n",
       "      <td>2004</td>\n",
       "      <td>NaN</td>\n",
       "      <td>NaN</td>\n",
       "      <td>No_DR</td>\n",
       "      <td>No_DR</td>\n",
       "    </tr>\n",
       "    <tr>\n",
       "      <th>10</th>\n",
       "      <td>0034</td>\n",
       "      <td>1</td>\n",
       "      <td>66</td>\n",
       "      <td>1989</td>\n",
       "      <td>NaN</td>\n",
       "      <td>NaN</td>\n",
       "      <td>Mild_DR</td>\n",
       "      <td>Mild_DR</td>\n",
       "    </tr>\n",
       "  </tbody>\n",
       "</table>\n",
       "</div>"
      ],
      "text/plain": [
       "   Eye_Clinic_No Gender Age Diagnosed_Year Right_VA Left_VA Right_Retinopathy  \\\n",
       "3           0001      0  67           1999     6/6-    6/6-         Severe_DR   \n",
       "4           0005      0  60           2018     6/12    6/6-             No_DR   \n",
       "5           0027      0  57           2017      6/6     6/6             No_DR   \n",
       "6           0028      1  70           2004      NaN     NaN             No_DR   \n",
       "10          0034      1  66           1989      NaN     NaN           Mild_DR   \n",
       "\n",
       "   Left_Retinopathy  \n",
       "3       Moderate_DR  \n",
       "4             No_DR  \n",
       "5             No_DR  \n",
       "6             No_DR  \n",
       "10          Mild_DR  "
      ]
     },
     "execution_count": 26,
     "metadata": {},
     "output_type": "execute_result"
    }
   ],
   "source": [
    "df_Gender.head()"
   ]
  },
  {
   "cell_type": "code",
   "execution_count": 27,
   "metadata": {},
   "outputs": [
    {
     "name": "stderr",
     "output_type": "stream",
     "text": [
      "C:\\Users\\saral\\AppData\\Local\\Continuum\\anaconda3\\lib\\site-packages\\ipykernel_launcher.py:1: SettingWithCopyWarning: \n",
      "A value is trying to be set on a copy of a slice from a DataFrame.\n",
      "Try using .loc[row_indexer,col_indexer] = value instead\n",
      "\n",
      "See the caveats in the documentation: http://pandas.pydata.org/pandas-docs/stable/indexing.html#indexing-view-versus-copy\n",
      "  \"\"\"Entry point for launching an IPython kernel.\n"
     ]
    }
   ],
   "source": [
    "#Convert to  int data type\n",
    "\n",
    "df_Gender['Gender'] = df_Gender['Gender'].astype(int)"
   ]
  },
  {
   "cell_type": "markdown",
   "metadata": {},
   "source": [
    "##### Clean column Diagnosed_Year"
   ]
  },
  {
   "cell_type": "code",
   "execution_count": 28,
   "metadata": {},
   "outputs": [
    {
     "data": {
      "text/plain": [
       "array([1999, 2018, 2017, 2004, 1989, 2003, 2016, 2009, 2011, 1993, 2014,\n",
       "       nan, 2012, 2019, 2000, 2007, 2015, 2008, 2013, 2010, 1995, 2005,\n",
       "       1990, 2006, 1006, 2002, 2001, 1998, 1994, '6/18', 1996, 1997, 1981,\n",
       "       1992, 1984, 1019, 1985, 1986, 1991, 5014, '(6/6)'], dtype=object)"
      ]
     },
     "execution_count": 28,
     "metadata": {},
     "output_type": "execute_result"
    }
   ],
   "source": [
    "# Check the unique values in Diagnosed_Year\n",
    "df_Gender.Diagnosed_Year.unique()"
   ]
  },
  {
   "cell_type": "code",
   "execution_count": 29,
   "metadata": {},
   "outputs": [
    {
     "data": {
      "text/html": [
       "<div>\n",
       "<style scoped>\n",
       "    .dataframe tbody tr th:only-of-type {\n",
       "        vertical-align: middle;\n",
       "    }\n",
       "\n",
       "    .dataframe tbody tr th {\n",
       "        vertical-align: top;\n",
       "    }\n",
       "\n",
       "    .dataframe thead th {\n",
       "        text-align: right;\n",
       "    }\n",
       "</style>\n",
       "<table border=\"1\" class=\"dataframe\">\n",
       "  <thead>\n",
       "    <tr style=\"text-align: right;\">\n",
       "      <th></th>\n",
       "      <th>Eye_Clinic_No</th>\n",
       "      <th>Gender</th>\n",
       "      <th>Age</th>\n",
       "      <th>Diagnosed_Year</th>\n",
       "      <th>Right_VA</th>\n",
       "      <th>Left_VA</th>\n",
       "      <th>Right_Retinopathy</th>\n",
       "      <th>Left_Retinopathy</th>\n",
       "    </tr>\n",
       "  </thead>\n",
       "  <tbody>\n",
       "    <tr>\n",
       "      <th>3</th>\n",
       "      <td>0001</td>\n",
       "      <td>0</td>\n",
       "      <td>67</td>\n",
       "      <td>1999</td>\n",
       "      <td>6/6-</td>\n",
       "      <td>6/6-</td>\n",
       "      <td>Severe_DR</td>\n",
       "      <td>Moderate_DR</td>\n",
       "    </tr>\n",
       "    <tr>\n",
       "      <th>4</th>\n",
       "      <td>0005</td>\n",
       "      <td>0</td>\n",
       "      <td>60</td>\n",
       "      <td>2018</td>\n",
       "      <td>6/12</td>\n",
       "      <td>6/6-</td>\n",
       "      <td>No_DR</td>\n",
       "      <td>No_DR</td>\n",
       "    </tr>\n",
       "    <tr>\n",
       "      <th>5</th>\n",
       "      <td>0027</td>\n",
       "      <td>0</td>\n",
       "      <td>57</td>\n",
       "      <td>2017</td>\n",
       "      <td>6/6</td>\n",
       "      <td>6/6</td>\n",
       "      <td>No_DR</td>\n",
       "      <td>No_DR</td>\n",
       "    </tr>\n",
       "    <tr>\n",
       "      <th>6</th>\n",
       "      <td>0028</td>\n",
       "      <td>1</td>\n",
       "      <td>70</td>\n",
       "      <td>2004</td>\n",
       "      <td>NaN</td>\n",
       "      <td>NaN</td>\n",
       "      <td>No_DR</td>\n",
       "      <td>No_DR</td>\n",
       "    </tr>\n",
       "    <tr>\n",
       "      <th>10</th>\n",
       "      <td>0034</td>\n",
       "      <td>1</td>\n",
       "      <td>66</td>\n",
       "      <td>1989</td>\n",
       "      <td>NaN</td>\n",
       "      <td>NaN</td>\n",
       "      <td>Mild_DR</td>\n",
       "      <td>Mild_DR</td>\n",
       "    </tr>\n",
       "  </tbody>\n",
       "</table>\n",
       "</div>"
      ],
      "text/plain": [
       "   Eye_Clinic_No  Gender Age Diagnosed_Year Right_VA Left_VA  \\\n",
       "3           0001       0  67           1999     6/6-    6/6-   \n",
       "4           0005       0  60           2018     6/12    6/6-   \n",
       "5           0027       0  57           2017      6/6     6/6   \n",
       "6           0028       1  70           2004      NaN     NaN   \n",
       "10          0034       1  66           1989      NaN     NaN   \n",
       "\n",
       "   Right_Retinopathy Left_Retinopathy  \n",
       "3          Severe_DR      Moderate_DR  \n",
       "4              No_DR            No_DR  \n",
       "5              No_DR            No_DR  \n",
       "6              No_DR            No_DR  \n",
       "10           Mild_DR          Mild_DR  "
      ]
     },
     "execution_count": 29,
     "metadata": {},
     "output_type": "execute_result"
    }
   ],
   "source": [
    "#extract relevent rows\n",
    "\n",
    "array = [1999, 2018, 2017, 2004, 1989, 2003, 2016, 2009, 2011, 1993, 2014,\n",
    "       2012, 2019, 2000, 2007, 2015, 2008, 2013, 2010, 1995, 2005,\n",
    "       1990, 2006, 2002, 2001, 1998, 1994, 1996, 1997, 1981,\n",
    "       1992, 1984, 1019, 1985, 1986, 1991]\n",
    "\n",
    "df_Year = df_Gender.loc[df_Gender['Diagnosed_Year'].isin(array)]\n",
    "df_Year.head()"
   ]
  },
  {
   "cell_type": "code",
   "execution_count": 30,
   "metadata": {},
   "outputs": [
    {
     "name": "stderr",
     "output_type": "stream",
     "text": [
      "C:\\Users\\saral\\AppData\\Local\\Continuum\\anaconda3\\lib\\site-packages\\ipykernel_launcher.py:1: SettingWithCopyWarning: \n",
      "A value is trying to be set on a copy of a slice from a DataFrame.\n",
      "Try using .loc[row_indexer,col_indexer] = value instead\n",
      "\n",
      "See the caveats in the documentation: http://pandas.pydata.org/pandas-docs/stable/indexing.html#indexing-view-versus-copy\n",
      "  \"\"\"Entry point for launching an IPython kernel.\n"
     ]
    }
   ],
   "source": [
    "df_Year['Diagnosed_Year'] = df_Year['Diagnosed_Year'].astype(int)"
   ]
  },
  {
   "cell_type": "code",
   "execution_count": 31,
   "metadata": {},
   "outputs": [
    {
     "name": "stderr",
     "output_type": "stream",
     "text": [
      "C:\\Users\\saral\\AppData\\Local\\Continuum\\anaconda3\\lib\\site-packages\\ipykernel_launcher.py:1: SettingWithCopyWarning: \n",
      "A value is trying to be set on a copy of a slice from a DataFrame.\n",
      "Try using .loc[row_indexer,col_indexer] = value instead\n",
      "\n",
      "See the caveats in the documentation: http://pandas.pydata.org/pandas-docs/stable/indexing.html#indexing-view-versus-copy\n",
      "  \"\"\"Entry point for launching an IPython kernel.\n"
     ]
    }
   ],
   "source": [
    "#Calculate the year difference\n",
    "\n",
    "df_Year['DiagnosedYears'] =  2020 - df_Year['Diagnosed_Year']"
   ]
  },
  {
   "cell_type": "code",
   "execution_count": 32,
   "metadata": {
    "scrolled": true
   },
   "outputs": [
    {
     "data": {
      "text/html": [
       "<div>\n",
       "<style scoped>\n",
       "    .dataframe tbody tr th:only-of-type {\n",
       "        vertical-align: middle;\n",
       "    }\n",
       "\n",
       "    .dataframe tbody tr th {\n",
       "        vertical-align: top;\n",
       "    }\n",
       "\n",
       "    .dataframe thead th {\n",
       "        text-align: right;\n",
       "    }\n",
       "</style>\n",
       "<table border=\"1\" class=\"dataframe\">\n",
       "  <thead>\n",
       "    <tr style=\"text-align: right;\">\n",
       "      <th></th>\n",
       "      <th>Eye_Clinic_No</th>\n",
       "      <th>Gender</th>\n",
       "      <th>Age</th>\n",
       "      <th>Diagnosed_Year</th>\n",
       "      <th>Right_VA</th>\n",
       "      <th>Left_VA</th>\n",
       "      <th>Right_Retinopathy</th>\n",
       "      <th>Left_Retinopathy</th>\n",
       "      <th>DiagnosedYears</th>\n",
       "    </tr>\n",
       "  </thead>\n",
       "  <tbody>\n",
       "    <tr>\n",
       "      <th>3</th>\n",
       "      <td>0001</td>\n",
       "      <td>0</td>\n",
       "      <td>67</td>\n",
       "      <td>1999</td>\n",
       "      <td>6/6-</td>\n",
       "      <td>6/6-</td>\n",
       "      <td>Severe_DR</td>\n",
       "      <td>Moderate_DR</td>\n",
       "      <td>21</td>\n",
       "    </tr>\n",
       "    <tr>\n",
       "      <th>4</th>\n",
       "      <td>0005</td>\n",
       "      <td>0</td>\n",
       "      <td>60</td>\n",
       "      <td>2018</td>\n",
       "      <td>6/12</td>\n",
       "      <td>6/6-</td>\n",
       "      <td>No_DR</td>\n",
       "      <td>No_DR</td>\n",
       "      <td>2</td>\n",
       "    </tr>\n",
       "    <tr>\n",
       "      <th>5</th>\n",
       "      <td>0027</td>\n",
       "      <td>0</td>\n",
       "      <td>57</td>\n",
       "      <td>2017</td>\n",
       "      <td>6/6</td>\n",
       "      <td>6/6</td>\n",
       "      <td>No_DR</td>\n",
       "      <td>No_DR</td>\n",
       "      <td>3</td>\n",
       "    </tr>\n",
       "    <tr>\n",
       "      <th>6</th>\n",
       "      <td>0028</td>\n",
       "      <td>1</td>\n",
       "      <td>70</td>\n",
       "      <td>2004</td>\n",
       "      <td>NaN</td>\n",
       "      <td>NaN</td>\n",
       "      <td>No_DR</td>\n",
       "      <td>No_DR</td>\n",
       "      <td>16</td>\n",
       "    </tr>\n",
       "    <tr>\n",
       "      <th>10</th>\n",
       "      <td>0034</td>\n",
       "      <td>1</td>\n",
       "      <td>66</td>\n",
       "      <td>1989</td>\n",
       "      <td>NaN</td>\n",
       "      <td>NaN</td>\n",
       "      <td>Mild_DR</td>\n",
       "      <td>Mild_DR</td>\n",
       "      <td>31</td>\n",
       "    </tr>\n",
       "  </tbody>\n",
       "</table>\n",
       "</div>"
      ],
      "text/plain": [
       "   Eye_Clinic_No  Gender Age  Diagnosed_Year Right_VA Left_VA  \\\n",
       "3           0001       0  67            1999     6/6-    6/6-   \n",
       "4           0005       0  60            2018     6/12    6/6-   \n",
       "5           0027       0  57            2017      6/6     6/6   \n",
       "6           0028       1  70            2004      NaN     NaN   \n",
       "10          0034       1  66            1989      NaN     NaN   \n",
       "\n",
       "   Right_Retinopathy Left_Retinopathy  DiagnosedYears  \n",
       "3          Severe_DR      Moderate_DR              21  \n",
       "4              No_DR            No_DR               2  \n",
       "5              No_DR            No_DR               3  \n",
       "6              No_DR            No_DR              16  \n",
       "10           Mild_DR          Mild_DR              31  "
      ]
     },
     "execution_count": 32,
     "metadata": {},
     "output_type": "execute_result"
    }
   ],
   "source": [
    "df_Year.head()"
   ]
  },
  {
   "cell_type": "markdown",
   "metadata": {},
   "source": [
    "##### Clean column Right_VA"
   ]
  },
  {
   "cell_type": "code",
   "execution_count": 33,
   "metadata": {},
   "outputs": [
    {
     "data": {
      "text/plain": [
       "array(['6/6-', '6/12', '6/6', nan, '6/36', '6/9-', '6/18', '6/24',\n",
       "       '(6/9+)', '6/12(-)', '6/9', '6/6(-)', '1/60', '6/60', '2/60',\n",
       "       '6/12+', '6/12-', 'HM', '3/60', '6/9+', '(6/6)', '(6/6-)', '6/24-',\n",
       "       '6/18+', '6/36+', '6/12=', '6/18-', '6/24+', '(6/9)', '6/60+',\n",
       "       '6/36-', '(6/18+)', '6/6/', '(3/60)', '(6/12)', '(6/24)', '(6/18)',\n",
       "       '(6/9-)', '(1/60)', '(2/60)', '(6/12+)', '(6/36+)', '(6/24-)',\n",
       "       '(6/6) ', '(6/36)', '(6/12-)', '(6/18-)', '(6/36-)', '6/18 +',\n",
       "       '6/18+_', '(6/24+)'], dtype=object)"
      ]
     },
     "execution_count": 33,
     "metadata": {},
     "output_type": "execute_result"
    }
   ],
   "source": [
    "# Check the unique values in OD_VA\n",
    "df_Year.Right_VA.unique()"
   ]
  },
  {
   "cell_type": "code",
   "execution_count": 34,
   "metadata": {},
   "outputs": [
    {
     "name": "stderr",
     "output_type": "stream",
     "text": [
      "C:\\Users\\saral\\AppData\\Local\\Continuum\\anaconda3\\lib\\site-packages\\ipykernel_launcher.py:1: SettingWithCopyWarning: \n",
      "A value is trying to be set on a copy of a slice from a DataFrame.\n",
      "Try using .loc[row_indexer,col_indexer] = value instead\n",
      "\n",
      "See the caveats in the documentation: http://pandas.pydata.org/pandas-docs/stable/indexing.html#indexing-view-versus-copy\n",
      "  \"\"\"Entry point for launching an IPython kernel.\n"
     ]
    }
   ],
   "source": [
    "df_Year['Right_VA'] = df_Year['Right_VA'].str.replace('[=+_()-]', '')"
   ]
  },
  {
   "cell_type": "code",
   "execution_count": 35,
   "metadata": {},
   "outputs": [
    {
     "data": {
      "text/plain": [
       "array(['6/6', '6/12', nan, '6/36', '6/9', '6/18', '6/24', '1/60', '6/60',\n",
       "       '2/60', 'HM', '3/60', '6/6/', '6/6 ', '6/18 '], dtype=object)"
      ]
     },
     "execution_count": 35,
     "metadata": {},
     "output_type": "execute_result"
    }
   ],
   "source": [
    "# Check the unique values in OD_VA\n",
    "df_Year.Right_VA.unique()"
   ]
  },
  {
   "cell_type": "code",
   "execution_count": 36,
   "metadata": {},
   "outputs": [
    {
     "name": "stderr",
     "output_type": "stream",
     "text": [
      "C:\\Users\\saral\\AppData\\Local\\Continuum\\anaconda3\\lib\\site-packages\\ipykernel_launcher.py:1: SettingWithCopyWarning: \n",
      "A value is trying to be set on a copy of a slice from a DataFrame.\n",
      "Try using .loc[row_indexer,col_indexer] = value instead\n",
      "\n",
      "See the caveats in the documentation: http://pandas.pydata.org/pandas-docs/stable/indexing.html#indexing-view-versus-copy\n",
      "  \"\"\"Entry point for launching an IPython kernel.\n"
     ]
    }
   ],
   "source": [
    "df_Year['Right_VA'] = df_Year['Right_VA'].str.replace(\" \", \"\")"
   ]
  },
  {
   "cell_type": "code",
   "execution_count": 37,
   "metadata": {},
   "outputs": [
    {
     "data": {
      "text/plain": [
       "array(['6/6', '6/12', nan, '6/36', '6/9', '6/18', '6/24', '1/60', '6/60',\n",
       "       '2/60', 'HM', '3/60', '6/6/'], dtype=object)"
      ]
     },
     "execution_count": 37,
     "metadata": {},
     "output_type": "execute_result"
    }
   ],
   "source": [
    "# Check the unique values in OD_VA\n",
    "df_Year.Right_VA.unique()"
   ]
  },
  {
   "cell_type": "code",
   "execution_count": 38,
   "metadata": {},
   "outputs": [
    {
     "name": "stderr",
     "output_type": "stream",
     "text": [
      "C:\\Users\\saral\\AppData\\Local\\Continuum\\anaconda3\\lib\\site-packages\\ipykernel_launcher.py:1: SettingWithCopyWarning: \n",
      "A value is trying to be set on a copy of a slice from a DataFrame.\n",
      "Try using .loc[row_indexer,col_indexer] = value instead\n",
      "\n",
      "See the caveats in the documentation: http://pandas.pydata.org/pandas-docs/stable/indexing.html#indexing-view-versus-copy\n",
      "  \"\"\"Entry point for launching an IPython kernel.\n"
     ]
    }
   ],
   "source": [
    "df_Year['Right_VA'] = df_Year['Right_VA'].str.replace('6/6/', '6/6')"
   ]
  },
  {
   "cell_type": "code",
   "execution_count": 39,
   "metadata": {},
   "outputs": [
    {
     "name": "stderr",
     "output_type": "stream",
     "text": [
      "C:\\Users\\saral\\AppData\\Local\\Continuum\\anaconda3\\lib\\site-packages\\ipykernel_launcher.py:1: SettingWithCopyWarning: \n",
      "A value is trying to be set on a copy of a slice from a DataFrame.\n",
      "Try using .loc[row_indexer,col_indexer] = value instead\n",
      "\n",
      "See the caveats in the documentation: http://pandas.pydata.org/pandas-docs/stable/indexing.html#indexing-view-versus-copy\n",
      "  \"\"\"Entry point for launching an IPython kernel.\n"
     ]
    }
   ],
   "source": [
    "df_Year['Right_VA'] = df_Year['Right_VA'].str.replace('6/60', '1')"
   ]
  },
  {
   "cell_type": "code",
   "execution_count": 40,
   "metadata": {},
   "outputs": [
    {
     "data": {
      "text/plain": [
       "array(['6/6', '6/12', nan, '6/36', '6/9', '6/18', '6/24', '1/60', '1',\n",
       "       '2/60', 'HM', '3/60'], dtype=object)"
      ]
     },
     "execution_count": 40,
     "metadata": {},
     "output_type": "execute_result"
    }
   ],
   "source": [
    "# Check the unique values in OD_VA\n",
    "df_Year.Right_VA.unique()"
   ]
  },
  {
   "cell_type": "code",
   "execution_count": 41,
   "metadata": {},
   "outputs": [
    {
     "data": {
      "text/html": [
       "<div>\n",
       "<style scoped>\n",
       "    .dataframe tbody tr th:only-of-type {\n",
       "        vertical-align: middle;\n",
       "    }\n",
       "\n",
       "    .dataframe tbody tr th {\n",
       "        vertical-align: top;\n",
       "    }\n",
       "\n",
       "    .dataframe thead th {\n",
       "        text-align: right;\n",
       "    }\n",
       "</style>\n",
       "<table border=\"1\" class=\"dataframe\">\n",
       "  <thead>\n",
       "    <tr style=\"text-align: right;\">\n",
       "      <th></th>\n",
       "      <th>Eye_Clinic_No</th>\n",
       "      <th>Gender</th>\n",
       "      <th>Age</th>\n",
       "      <th>Diagnosed_Year</th>\n",
       "      <th>Right_VA</th>\n",
       "      <th>Left_VA</th>\n",
       "      <th>Right_Retinopathy</th>\n",
       "      <th>Left_Retinopathy</th>\n",
       "      <th>DiagnosedYears</th>\n",
       "    </tr>\n",
       "  </thead>\n",
       "  <tbody>\n",
       "    <tr>\n",
       "      <th>3</th>\n",
       "      <td>0001</td>\n",
       "      <td>0</td>\n",
       "      <td>67</td>\n",
       "      <td>1999</td>\n",
       "      <td>6/6</td>\n",
       "      <td>6/6-</td>\n",
       "      <td>Severe_DR</td>\n",
       "      <td>Moderate_DR</td>\n",
       "      <td>21</td>\n",
       "    </tr>\n",
       "    <tr>\n",
       "      <th>4</th>\n",
       "      <td>0005</td>\n",
       "      <td>0</td>\n",
       "      <td>60</td>\n",
       "      <td>2018</td>\n",
       "      <td>6/12</td>\n",
       "      <td>6/6-</td>\n",
       "      <td>No_DR</td>\n",
       "      <td>No_DR</td>\n",
       "      <td>2</td>\n",
       "    </tr>\n",
       "    <tr>\n",
       "      <th>5</th>\n",
       "      <td>0027</td>\n",
       "      <td>0</td>\n",
       "      <td>57</td>\n",
       "      <td>2017</td>\n",
       "      <td>6/6</td>\n",
       "      <td>6/6</td>\n",
       "      <td>No_DR</td>\n",
       "      <td>No_DR</td>\n",
       "      <td>3</td>\n",
       "    </tr>\n",
       "    <tr>\n",
       "      <th>12</th>\n",
       "      <td>0036</td>\n",
       "      <td>0</td>\n",
       "      <td>70</td>\n",
       "      <td>2003</td>\n",
       "      <td>6/36</td>\n",
       "      <td>6/12+</td>\n",
       "      <td>PDR</td>\n",
       "      <td>PDR</td>\n",
       "      <td>17</td>\n",
       "    </tr>\n",
       "    <tr>\n",
       "      <th>14</th>\n",
       "      <td>0039</td>\n",
       "      <td>0</td>\n",
       "      <td>66</td>\n",
       "      <td>2009</td>\n",
       "      <td>6/9</td>\n",
       "      <td>6/9-</td>\n",
       "      <td>No_DR</td>\n",
       "      <td>No_DR</td>\n",
       "      <td>11</td>\n",
       "    </tr>\n",
       "  </tbody>\n",
       "</table>\n",
       "</div>"
      ],
      "text/plain": [
       "   Eye_Clinic_No  Gender Age  Diagnosed_Year Right_VA Left_VA  \\\n",
       "3           0001       0  67            1999      6/6    6/6-   \n",
       "4           0005       0  60            2018     6/12    6/6-   \n",
       "5           0027       0  57            2017      6/6     6/6   \n",
       "12          0036       0  70            2003     6/36   6/12+   \n",
       "14          0039       0  66            2009      6/9    6/9-   \n",
       "\n",
       "   Right_Retinopathy Left_Retinopathy  DiagnosedYears  \n",
       "3          Severe_DR      Moderate_DR              21  \n",
       "4              No_DR            No_DR               2  \n",
       "5              No_DR            No_DR               3  \n",
       "12               PDR              PDR              17  \n",
       "14             No_DR            No_DR              11  "
      ]
     },
     "execution_count": 41,
     "metadata": {},
     "output_type": "execute_result"
    }
   ],
   "source": [
    "array = ['6/6', '6/12', '6/36', '6/9', '6/18', '6/24', '1/60', '1',\n",
    "       '2/60', '3/60']\n",
    "\n",
    "df_OD_VA = df_Year.loc[df_Year['Right_VA'].isin(array)]\n",
    "df_OD_VA.head()"
   ]
  },
  {
   "cell_type": "code",
   "execution_count": 42,
   "metadata": {},
   "outputs": [
    {
     "data": {
      "text/plain": [
       "array(['6/6', '6/12', '6/36', '6/9', '6/18', '6/24', '1/60', '1', '2/60',\n",
       "       '3/60'], dtype=object)"
      ]
     },
     "execution_count": 42,
     "metadata": {},
     "output_type": "execute_result"
    }
   ],
   "source": [
    "# Check the unique values in OD_VA\n",
    "df_OD_VA.Right_VA.unique()"
   ]
  },
  {
   "cell_type": "code",
   "execution_count": 43,
   "metadata": {},
   "outputs": [
    {
     "name": "stderr",
     "output_type": "stream",
     "text": [
      "C:\\Users\\saral\\AppData\\Local\\Continuum\\anaconda3\\lib\\site-packages\\ipykernel_launcher.py:1: SettingWithCopyWarning: \n",
      "A value is trying to be set on a copy of a slice from a DataFrame.\n",
      "Try using .loc[row_indexer,col_indexer] = value instead\n",
      "\n",
      "See the caveats in the documentation: http://pandas.pydata.org/pandas-docs/stable/indexing.html#indexing-view-versus-copy\n",
      "  \"\"\"Entry point for launching an IPython kernel.\n",
      "C:\\Users\\saral\\AppData\\Local\\Continuum\\anaconda3\\lib\\site-packages\\ipykernel_launcher.py:2: SettingWithCopyWarning: \n",
      "A value is trying to be set on a copy of a slice from a DataFrame.\n",
      "Try using .loc[row_indexer,col_indexer] = value instead\n",
      "\n",
      "See the caveats in the documentation: http://pandas.pydata.org/pandas-docs/stable/indexing.html#indexing-view-versus-copy\n",
      "  \n",
      "C:\\Users\\saral\\AppData\\Local\\Continuum\\anaconda3\\lib\\site-packages\\ipykernel_launcher.py:3: SettingWithCopyWarning: \n",
      "A value is trying to be set on a copy of a slice from a DataFrame.\n",
      "Try using .loc[row_indexer,col_indexer] = value instead\n",
      "\n",
      "See the caveats in the documentation: http://pandas.pydata.org/pandas-docs/stable/indexing.html#indexing-view-versus-copy\n",
      "  This is separate from the ipykernel package so we can avoid doing imports until\n",
      "C:\\Users\\saral\\AppData\\Local\\Continuum\\anaconda3\\lib\\site-packages\\ipykernel_launcher.py:4: SettingWithCopyWarning: \n",
      "A value is trying to be set on a copy of a slice from a DataFrame.\n",
      "Try using .loc[row_indexer,col_indexer] = value instead\n",
      "\n",
      "See the caveats in the documentation: http://pandas.pydata.org/pandas-docs/stable/indexing.html#indexing-view-versus-copy\n",
      "  after removing the cwd from sys.path.\n",
      "C:\\Users\\saral\\AppData\\Local\\Continuum\\anaconda3\\lib\\site-packages\\ipykernel_launcher.py:5: SettingWithCopyWarning: \n",
      "A value is trying to be set on a copy of a slice from a DataFrame.\n",
      "Try using .loc[row_indexer,col_indexer] = value instead\n",
      "\n",
      "See the caveats in the documentation: http://pandas.pydata.org/pandas-docs/stable/indexing.html#indexing-view-versus-copy\n",
      "  \"\"\"\n",
      "C:\\Users\\saral\\AppData\\Local\\Continuum\\anaconda3\\lib\\site-packages\\ipykernel_launcher.py:6: SettingWithCopyWarning: \n",
      "A value is trying to be set on a copy of a slice from a DataFrame.\n",
      "Try using .loc[row_indexer,col_indexer] = value instead\n",
      "\n",
      "See the caveats in the documentation: http://pandas.pydata.org/pandas-docs/stable/indexing.html#indexing-view-versus-copy\n",
      "  \n",
      "C:\\Users\\saral\\AppData\\Local\\Continuum\\anaconda3\\lib\\site-packages\\ipykernel_launcher.py:7: SettingWithCopyWarning: \n",
      "A value is trying to be set on a copy of a slice from a DataFrame.\n",
      "Try using .loc[row_indexer,col_indexer] = value instead\n",
      "\n",
      "See the caveats in the documentation: http://pandas.pydata.org/pandas-docs/stable/indexing.html#indexing-view-versus-copy\n",
      "  import sys\n",
      "C:\\Users\\saral\\AppData\\Local\\Continuum\\anaconda3\\lib\\site-packages\\ipykernel_launcher.py:8: SettingWithCopyWarning: \n",
      "A value is trying to be set on a copy of a slice from a DataFrame.\n",
      "Try using .loc[row_indexer,col_indexer] = value instead\n",
      "\n",
      "See the caveats in the documentation: http://pandas.pydata.org/pandas-docs/stable/indexing.html#indexing-view-versus-copy\n",
      "  \n",
      "C:\\Users\\saral\\AppData\\Local\\Continuum\\anaconda3\\lib\\site-packages\\ipykernel_launcher.py:9: SettingWithCopyWarning: \n",
      "A value is trying to be set on a copy of a slice from a DataFrame.\n",
      "Try using .loc[row_indexer,col_indexer] = value instead\n",
      "\n",
      "See the caveats in the documentation: http://pandas.pydata.org/pandas-docs/stable/indexing.html#indexing-view-versus-copy\n",
      "  if __name__ == '__main__':\n"
     ]
    }
   ],
   "source": [
    "#replace values with a proper value\n",
    "\n",
    "df_OD_VA['Right_VA'] = df_OD_VA['Right_VA'].str.replace('6/6', '0.0')\n",
    "df_OD_VA['Right_VA'] = df_OD_VA['Right_VA'].str.replace('6/12', '0.30')\n",
    "df_OD_VA['Right_VA'] = df_OD_VA['Right_VA'].str.replace('6/36', '0.78')\n",
    "df_OD_VA['Right_VA'] = df_OD_VA['Right_VA'].str.replace('6/9', '0.18')\n",
    "df_OD_VA['Right_VA'] = df_OD_VA['Right_VA'].str.replace('6/18', '0.48')\n",
    "df_OD_VA['Right_VA'] = df_OD_VA['Right_VA'].str.replace('6/24', '0.60')\n",
    "df_OD_VA['Right_VA'] = df_OD_VA['Right_VA'].str.replace('1/60', '1.78')\n",
    "df_OD_VA['Right_VA'] = df_OD_VA['Right_VA'].str.replace('2/60', '1.48')\n",
    "df_OD_VA['Right_VA'] = df_OD_VA['Right_VA'].str.replace('3/60', '1.30')\n"
   ]
  },
  {
   "cell_type": "code",
   "execution_count": 44,
   "metadata": {},
   "outputs": [
    {
     "data": {
      "text/plain": [
       "array(['0.0', '0.30', '0.78', '0.18', '0.48', '0.60', '1.78', '1', '1.48',\n",
       "       '1.30'], dtype=object)"
      ]
     },
     "execution_count": 44,
     "metadata": {},
     "output_type": "execute_result"
    }
   ],
   "source": [
    "# Check the unique values in OD_VA\n",
    "df_OD_VA.Right_VA.unique()"
   ]
  },
  {
   "cell_type": "code",
   "execution_count": 45,
   "metadata": {},
   "outputs": [
    {
     "name": "stderr",
     "output_type": "stream",
     "text": [
      "C:\\Users\\saral\\AppData\\Local\\Continuum\\anaconda3\\lib\\site-packages\\ipykernel_launcher.py:1: SettingWithCopyWarning: \n",
      "A value is trying to be set on a copy of a slice from a DataFrame.\n",
      "Try using .loc[row_indexer,col_indexer] = value instead\n",
      "\n",
      "See the caveats in the documentation: http://pandas.pydata.org/pandas-docs/stable/indexing.html#indexing-view-versus-copy\n",
      "  \"\"\"Entry point for launching an IPython kernel.\n"
     ]
    }
   ],
   "source": [
    "df_OD_VA['Right_VA'] = df_OD_VA['Right_VA'].astype(float)"
   ]
  },
  {
   "cell_type": "code",
   "execution_count": 46,
   "metadata": {},
   "outputs": [
    {
     "data": {
      "text/plain": [
       "array([0.  , 0.3 , 0.78, 0.18, 0.48, 0.6 , 1.78, 1.  , 1.48, 1.3 ])"
      ]
     },
     "execution_count": 46,
     "metadata": {},
     "output_type": "execute_result"
    }
   ],
   "source": [
    "# Check the unique values in OD_VA\n",
    "df_OD_VA.Right_VA.unique()"
   ]
  },
  {
   "cell_type": "code",
   "execution_count": 47,
   "metadata": {},
   "outputs": [
    {
     "data": {
      "text/plain": [
       "Eye_Clinic_No         object\n",
       "Gender                 int32\n",
       "Age                   object\n",
       "Diagnosed_Year         int32\n",
       "Right_VA             float64\n",
       "Left_VA               object\n",
       "Right_Retinopathy     object\n",
       "Left_Retinopathy      object\n",
       "DiagnosedYears         int32\n",
       "dtype: object"
      ]
     },
     "execution_count": 47,
     "metadata": {},
     "output_type": "execute_result"
    }
   ],
   "source": [
    "df_OD_VA.dtypes"
   ]
  },
  {
   "cell_type": "markdown",
   "metadata": {},
   "source": [
    "##### Clean column Left_VA"
   ]
  },
  {
   "cell_type": "code",
   "execution_count": 48,
   "metadata": {},
   "outputs": [
    {
     "data": {
      "text/plain": [
       "array(['6/6-', '6/6', '6/12+', '6/9-', '6/24', '6/12', '6/18(+)', '6/60',\n",
       "       '(6/12-)', '6/9', '6/9(-)', '6/6(-)', '6/24+', '6/12-', '6/18',\n",
       "       '6/36-', '6/9+', '(6/6)', '(6/6-)', nan, '2/60', '6/36', '6/24-',\n",
       "       '(6/9+)', '6/18+', '1/60', '6/36+', '6/18-', '3/60', '(6/9-)',\n",
       "       'N0', '(6/24+)', 'HM', '(6/18)', '(6/9)', '(6/36)', '6/9-)',\n",
       "       '6/9)', '(4/60)', '(6/9+) ', '(6/12)', '(6/18-)', '(6/12+)',\n",
       "       '(6/24)', '(6/60)', '(2/60)', '(', '(6/18+)', '(6/', '(1/60)',\n",
       "       \"(6'/6)\", '(6/24-)', '(3/60)'], dtype=object)"
      ]
     },
     "execution_count": 48,
     "metadata": {},
     "output_type": "execute_result"
    }
   ],
   "source": [
    "# Check the unique values in OS_VA\n",
    "df_OD_VA.Left_VA.unique()"
   ]
  },
  {
   "cell_type": "code",
   "execution_count": 49,
   "metadata": {},
   "outputs": [
    {
     "name": "stderr",
     "output_type": "stream",
     "text": [
      "C:\\Users\\saral\\AppData\\Local\\Continuum\\anaconda3\\lib\\site-packages\\ipykernel_launcher.py:1: SettingWithCopyWarning: \n",
      "A value is trying to be set on a copy of a slice from a DataFrame.\n",
      "Try using .loc[row_indexer,col_indexer] = value instead\n",
      "\n",
      "See the caveats in the documentation: http://pandas.pydata.org/pandas-docs/stable/indexing.html#indexing-view-versus-copy\n",
      "  \"\"\"Entry point for launching an IPython kernel.\n"
     ]
    }
   ],
   "source": [
    "df_OD_VA['Left_VA'] = df_OD_VA['Left_VA'].str.replace('[=+_()-]', '')"
   ]
  },
  {
   "cell_type": "code",
   "execution_count": 50,
   "metadata": {},
   "outputs": [
    {
     "name": "stderr",
     "output_type": "stream",
     "text": [
      "C:\\Users\\saral\\AppData\\Local\\Continuum\\anaconda3\\lib\\site-packages\\ipykernel_launcher.py:1: SettingWithCopyWarning: \n",
      "A value is trying to be set on a copy of a slice from a DataFrame.\n",
      "Try using .loc[row_indexer,col_indexer] = value instead\n",
      "\n",
      "See the caveats in the documentation: http://pandas.pydata.org/pandas-docs/stable/indexing.html#indexing-view-versus-copy\n",
      "  \"\"\"Entry point for launching an IPython kernel.\n"
     ]
    }
   ],
   "source": [
    "df_OD_VA['Left_VA'] = df_OD_VA['Left_VA'].str.replace(\" \", \"\")"
   ]
  },
  {
   "cell_type": "code",
   "execution_count": 51,
   "metadata": {},
   "outputs": [
    {
     "data": {
      "text/plain": [
       "array(['6/6', '6/12', '6/9', '6/24', '6/18', '6/60', '6/36', nan, '2/60',\n",
       "       '1/60', '3/60', 'N0', 'HM', '4/60', '', '6/', \"6'/6\"], dtype=object)"
      ]
     },
     "execution_count": 51,
     "metadata": {},
     "output_type": "execute_result"
    }
   ],
   "source": [
    "# Check the unique values in OS_VA\n",
    "df_OD_VA.Left_VA.unique()"
   ]
  },
  {
   "cell_type": "code",
   "execution_count": 52,
   "metadata": {
    "scrolled": true
   },
   "outputs": [
    {
     "data": {
      "text/html": [
       "<div>\n",
       "<style scoped>\n",
       "    .dataframe tbody tr th:only-of-type {\n",
       "        vertical-align: middle;\n",
       "    }\n",
       "\n",
       "    .dataframe tbody tr th {\n",
       "        vertical-align: top;\n",
       "    }\n",
       "\n",
       "    .dataframe thead th {\n",
       "        text-align: right;\n",
       "    }\n",
       "</style>\n",
       "<table border=\"1\" class=\"dataframe\">\n",
       "  <thead>\n",
       "    <tr style=\"text-align: right;\">\n",
       "      <th></th>\n",
       "      <th>Eye_Clinic_No</th>\n",
       "      <th>Gender</th>\n",
       "      <th>Age</th>\n",
       "      <th>Diagnosed_Year</th>\n",
       "      <th>Right_VA</th>\n",
       "      <th>Left_VA</th>\n",
       "      <th>Right_Retinopathy</th>\n",
       "      <th>Left_Retinopathy</th>\n",
       "      <th>DiagnosedYears</th>\n",
       "    </tr>\n",
       "  </thead>\n",
       "  <tbody>\n",
       "    <tr>\n",
       "      <th>3</th>\n",
       "      <td>0001</td>\n",
       "      <td>0</td>\n",
       "      <td>67</td>\n",
       "      <td>1999</td>\n",
       "      <td>0.00</td>\n",
       "      <td>6/6</td>\n",
       "      <td>Severe_DR</td>\n",
       "      <td>Moderate_DR</td>\n",
       "      <td>21</td>\n",
       "    </tr>\n",
       "    <tr>\n",
       "      <th>4</th>\n",
       "      <td>0005</td>\n",
       "      <td>0</td>\n",
       "      <td>60</td>\n",
       "      <td>2018</td>\n",
       "      <td>0.30</td>\n",
       "      <td>6/6</td>\n",
       "      <td>No_DR</td>\n",
       "      <td>No_DR</td>\n",
       "      <td>2</td>\n",
       "    </tr>\n",
       "    <tr>\n",
       "      <th>5</th>\n",
       "      <td>0027</td>\n",
       "      <td>0</td>\n",
       "      <td>57</td>\n",
       "      <td>2017</td>\n",
       "      <td>0.00</td>\n",
       "      <td>6/6</td>\n",
       "      <td>No_DR</td>\n",
       "      <td>No_DR</td>\n",
       "      <td>3</td>\n",
       "    </tr>\n",
       "    <tr>\n",
       "      <th>12</th>\n",
       "      <td>0036</td>\n",
       "      <td>0</td>\n",
       "      <td>70</td>\n",
       "      <td>2003</td>\n",
       "      <td>0.78</td>\n",
       "      <td>6/12</td>\n",
       "      <td>PDR</td>\n",
       "      <td>PDR</td>\n",
       "      <td>17</td>\n",
       "    </tr>\n",
       "    <tr>\n",
       "      <th>14</th>\n",
       "      <td>0039</td>\n",
       "      <td>0</td>\n",
       "      <td>66</td>\n",
       "      <td>2009</td>\n",
       "      <td>0.18</td>\n",
       "      <td>6/9</td>\n",
       "      <td>No_DR</td>\n",
       "      <td>No_DR</td>\n",
       "      <td>11</td>\n",
       "    </tr>\n",
       "  </tbody>\n",
       "</table>\n",
       "</div>"
      ],
      "text/plain": [
       "   Eye_Clinic_No  Gender Age  Diagnosed_Year  Right_VA Left_VA  \\\n",
       "3           0001       0  67            1999      0.00     6/6   \n",
       "4           0005       0  60            2018      0.30     6/6   \n",
       "5           0027       0  57            2017      0.00     6/6   \n",
       "12          0036       0  70            2003      0.78    6/12   \n",
       "14          0039       0  66            2009      0.18     6/9   \n",
       "\n",
       "   Right_Retinopathy Left_Retinopathy  DiagnosedYears  \n",
       "3          Severe_DR      Moderate_DR              21  \n",
       "4              No_DR            No_DR               2  \n",
       "5              No_DR            No_DR               3  \n",
       "12               PDR              PDR              17  \n",
       "14             No_DR            No_DR              11  "
      ]
     },
     "execution_count": 52,
     "metadata": {},
     "output_type": "execute_result"
    }
   ],
   "source": [
    "array = ['6/6', '6/12', '6/9', '6/24', '6/18', '6/60', '6/36', '2/60',\n",
    "       '1/60', '3/60', '4/60', \"6'/6\"]\n",
    "\n",
    "df_OS_VA = df_OD_VA.loc[df_OD_VA['Left_VA'].isin(array)]\n",
    "df_OS_VA.head()"
   ]
  },
  {
   "cell_type": "code",
   "execution_count": 53,
   "metadata": {},
   "outputs": [
    {
     "name": "stderr",
     "output_type": "stream",
     "text": [
      "C:\\Users\\saral\\AppData\\Local\\Continuum\\anaconda3\\lib\\site-packages\\ipykernel_launcher.py:1: SettingWithCopyWarning: \n",
      "A value is trying to be set on a copy of a slice from a DataFrame.\n",
      "Try using .loc[row_indexer,col_indexer] = value instead\n",
      "\n",
      "See the caveats in the documentation: http://pandas.pydata.org/pandas-docs/stable/indexing.html#indexing-view-versus-copy\n",
      "  \"\"\"Entry point for launching an IPython kernel.\n"
     ]
    }
   ],
   "source": [
    "df_OS_VA['Left_VA'] = df_OS_VA['Left_VA'].str.replace(\"6'/6\", '6/6')"
   ]
  },
  {
   "cell_type": "code",
   "execution_count": 54,
   "metadata": {},
   "outputs": [
    {
     "data": {
      "text/plain": [
       "array(['6/6', '6/12', '6/9', '6/24', '6/18', '6/60', '6/36', '2/60',\n",
       "       '1/60', '3/60', '4/60'], dtype=object)"
      ]
     },
     "execution_count": 54,
     "metadata": {},
     "output_type": "execute_result"
    }
   ],
   "source": [
    "# Check the unique values in OS_VA\n",
    "df_OS_VA.Left_VA.unique()"
   ]
  },
  {
   "cell_type": "code",
   "execution_count": 55,
   "metadata": {},
   "outputs": [
    {
     "name": "stderr",
     "output_type": "stream",
     "text": [
      "C:\\Users\\saral\\AppData\\Local\\Continuum\\anaconda3\\lib\\site-packages\\ipykernel_launcher.py:1: SettingWithCopyWarning: \n",
      "A value is trying to be set on a copy of a slice from a DataFrame.\n",
      "Try using .loc[row_indexer,col_indexer] = value instead\n",
      "\n",
      "See the caveats in the documentation: http://pandas.pydata.org/pandas-docs/stable/indexing.html#indexing-view-versus-copy\n",
      "  \"\"\"Entry point for launching an IPython kernel.\n"
     ]
    }
   ],
   "source": [
    "df_OS_VA['Left_VA'] = df_OS_VA['Left_VA'].str.replace('6/60', '1')"
   ]
  },
  {
   "cell_type": "code",
   "execution_count": 56,
   "metadata": {},
   "outputs": [
    {
     "name": "stderr",
     "output_type": "stream",
     "text": [
      "C:\\Users\\saral\\AppData\\Local\\Continuum\\anaconda3\\lib\\site-packages\\ipykernel_launcher.py:1: SettingWithCopyWarning: \n",
      "A value is trying to be set on a copy of a slice from a DataFrame.\n",
      "Try using .loc[row_indexer,col_indexer] = value instead\n",
      "\n",
      "See the caveats in the documentation: http://pandas.pydata.org/pandas-docs/stable/indexing.html#indexing-view-versus-copy\n",
      "  \"\"\"Entry point for launching an IPython kernel.\n",
      "C:\\Users\\saral\\AppData\\Local\\Continuum\\anaconda3\\lib\\site-packages\\ipykernel_launcher.py:2: SettingWithCopyWarning: \n",
      "A value is trying to be set on a copy of a slice from a DataFrame.\n",
      "Try using .loc[row_indexer,col_indexer] = value instead\n",
      "\n",
      "See the caveats in the documentation: http://pandas.pydata.org/pandas-docs/stable/indexing.html#indexing-view-versus-copy\n",
      "  \n",
      "C:\\Users\\saral\\AppData\\Local\\Continuum\\anaconda3\\lib\\site-packages\\ipykernel_launcher.py:3: SettingWithCopyWarning: \n",
      "A value is trying to be set on a copy of a slice from a DataFrame.\n",
      "Try using .loc[row_indexer,col_indexer] = value instead\n",
      "\n",
      "See the caveats in the documentation: http://pandas.pydata.org/pandas-docs/stable/indexing.html#indexing-view-versus-copy\n",
      "  This is separate from the ipykernel package so we can avoid doing imports until\n",
      "C:\\Users\\saral\\AppData\\Local\\Continuum\\anaconda3\\lib\\site-packages\\ipykernel_launcher.py:4: SettingWithCopyWarning: \n",
      "A value is trying to be set on a copy of a slice from a DataFrame.\n",
      "Try using .loc[row_indexer,col_indexer] = value instead\n",
      "\n",
      "See the caveats in the documentation: http://pandas.pydata.org/pandas-docs/stable/indexing.html#indexing-view-versus-copy\n",
      "  after removing the cwd from sys.path.\n",
      "C:\\Users\\saral\\AppData\\Local\\Continuum\\anaconda3\\lib\\site-packages\\ipykernel_launcher.py:5: SettingWithCopyWarning: \n",
      "A value is trying to be set on a copy of a slice from a DataFrame.\n",
      "Try using .loc[row_indexer,col_indexer] = value instead\n",
      "\n",
      "See the caveats in the documentation: http://pandas.pydata.org/pandas-docs/stable/indexing.html#indexing-view-versus-copy\n",
      "  \"\"\"\n",
      "C:\\Users\\saral\\AppData\\Local\\Continuum\\anaconda3\\lib\\site-packages\\ipykernel_launcher.py:6: SettingWithCopyWarning: \n",
      "A value is trying to be set on a copy of a slice from a DataFrame.\n",
      "Try using .loc[row_indexer,col_indexer] = value instead\n",
      "\n",
      "See the caveats in the documentation: http://pandas.pydata.org/pandas-docs/stable/indexing.html#indexing-view-versus-copy\n",
      "  \n",
      "C:\\Users\\saral\\AppData\\Local\\Continuum\\anaconda3\\lib\\site-packages\\ipykernel_launcher.py:7: SettingWithCopyWarning: \n",
      "A value is trying to be set on a copy of a slice from a DataFrame.\n",
      "Try using .loc[row_indexer,col_indexer] = value instead\n",
      "\n",
      "See the caveats in the documentation: http://pandas.pydata.org/pandas-docs/stable/indexing.html#indexing-view-versus-copy\n",
      "  import sys\n",
      "C:\\Users\\saral\\AppData\\Local\\Continuum\\anaconda3\\lib\\site-packages\\ipykernel_launcher.py:8: SettingWithCopyWarning: \n",
      "A value is trying to be set on a copy of a slice from a DataFrame.\n",
      "Try using .loc[row_indexer,col_indexer] = value instead\n",
      "\n",
      "See the caveats in the documentation: http://pandas.pydata.org/pandas-docs/stable/indexing.html#indexing-view-versus-copy\n",
      "  \n",
      "C:\\Users\\saral\\AppData\\Local\\Continuum\\anaconda3\\lib\\site-packages\\ipykernel_launcher.py:9: SettingWithCopyWarning: \n",
      "A value is trying to be set on a copy of a slice from a DataFrame.\n",
      "Try using .loc[row_indexer,col_indexer] = value instead\n",
      "\n",
      "See the caveats in the documentation: http://pandas.pydata.org/pandas-docs/stable/indexing.html#indexing-view-versus-copy\n",
      "  if __name__ == '__main__':\n",
      "C:\\Users\\saral\\AppData\\Local\\Continuum\\anaconda3\\lib\\site-packages\\ipykernel_launcher.py:10: SettingWithCopyWarning: \n",
      "A value is trying to be set on a copy of a slice from a DataFrame.\n",
      "Try using .loc[row_indexer,col_indexer] = value instead\n",
      "\n",
      "See the caveats in the documentation: http://pandas.pydata.org/pandas-docs/stable/indexing.html#indexing-view-versus-copy\n",
      "  # Remove the CWD from sys.path while we load stuff.\n"
     ]
    }
   ],
   "source": [
    "#replace values with a proper value\n",
    "\n",
    "df_OS_VA['Left_VA'] = df_OS_VA['Left_VA'].str.replace('6/6', '0.0')\n",
    "df_OS_VA['Left_VA'] = df_OS_VA['Left_VA'].str.replace('6/12', '0.30')\n",
    "df_OS_VA['Left_VA'] = df_OS_VA['Left_VA'].str.replace('6/9', '0.18')\n",
    "df_OS_VA['Left_VA'] = df_OS_VA['Left_VA'].str.replace('6/24', '0.60')\n",
    "df_OS_VA['Left_VA'] = df_OS_VA['Left_VA'].str.replace('6/18', '0.48')\n",
    "df_OS_VA['Left_VA'] = df_OS_VA['Left_VA'].str.replace('6/36', '0.78')\n",
    "df_OS_VA['Left_VA'] = df_OS_VA['Left_VA'].str.replace('2/60', '1.48')\n",
    "df_OS_VA['Left_VA'] = df_OS_VA['Left_VA'].str.replace('1/60', '1.78')\n",
    "df_OS_VA['Left_VA'] = df_OS_VA['Left_VA'].str.replace('3/60', '1.30')\n",
    "df_OS_VA['Left_VA'] = df_OS_VA['Left_VA'].str.replace('4/60', '1.18')\n"
   ]
  },
  {
   "cell_type": "code",
   "execution_count": 57,
   "metadata": {},
   "outputs": [
    {
     "data": {
      "text/plain": [
       "array(['0.0', '0.30', '0.18', '0.60', '0.48', '1', '0.78', '1.48', '1.78',\n",
       "       '1.30', '1.18'], dtype=object)"
      ]
     },
     "execution_count": 57,
     "metadata": {},
     "output_type": "execute_result"
    }
   ],
   "source": [
    "# Check the unique values in OS_VA\n",
    "df_OS_VA.Left_VA.unique()"
   ]
  },
  {
   "cell_type": "code",
   "execution_count": 58,
   "metadata": {},
   "outputs": [
    {
     "name": "stderr",
     "output_type": "stream",
     "text": [
      "C:\\Users\\saral\\AppData\\Local\\Continuum\\anaconda3\\lib\\site-packages\\ipykernel_launcher.py:1: SettingWithCopyWarning: \n",
      "A value is trying to be set on a copy of a slice from a DataFrame.\n",
      "Try using .loc[row_indexer,col_indexer] = value instead\n",
      "\n",
      "See the caveats in the documentation: http://pandas.pydata.org/pandas-docs/stable/indexing.html#indexing-view-versus-copy\n",
      "  \"\"\"Entry point for launching an IPython kernel.\n"
     ]
    }
   ],
   "source": [
    "df_OS_VA['Left_VA'] = df_OS_VA['Left_VA'].astype(float)"
   ]
  },
  {
   "cell_type": "code",
   "execution_count": 59,
   "metadata": {},
   "outputs": [
    {
     "data": {
      "text/plain": [
       "Eye_Clinic_No         object\n",
       "Gender                 int32\n",
       "Age                   object\n",
       "Diagnosed_Year         int32\n",
       "Right_VA             float64\n",
       "Left_VA              float64\n",
       "Right_Retinopathy     object\n",
       "Left_Retinopathy      object\n",
       "DiagnosedYears         int32\n",
       "dtype: object"
      ]
     },
     "execution_count": 59,
     "metadata": {},
     "output_type": "execute_result"
    }
   ],
   "source": [
    "df_OS_VA.dtypes"
   ]
  },
  {
   "cell_type": "markdown",
   "metadata": {},
   "source": [
    "##### Clean column Age"
   ]
  },
  {
   "cell_type": "code",
   "execution_count": 60,
   "metadata": {},
   "outputs": [
    {
     "data": {
      "text/plain": [
       "array([67, 60, 57, 70, 66, 69, 56, 49, 37, 59, 27, 71, 75, 52, 62, 58, 47,\n",
       "       73, 63, 79, 78, 42, 65, 43, 72, 48, 54, 36, 40, 76, nan, 53, 39,\n",
       "       68, 61, 51, 77, 50, 64, 41, 88, 80, 74, 55, 44, 38, 81, 46, 45, 30,\n",
       "       35, 23, 34, 82, 83, 29, 32, 31, 33, 20], dtype=object)"
      ]
     },
     "execution_count": 60,
     "metadata": {},
     "output_type": "execute_result"
    }
   ],
   "source": [
    "# Check the unique values in OS_VA\n",
    "df_OS_VA.Age.unique()"
   ]
  },
  {
   "cell_type": "code",
   "execution_count": 61,
   "metadata": {
    "scrolled": true
   },
   "outputs": [
    {
     "data": {
      "text/html": [
       "<div>\n",
       "<style scoped>\n",
       "    .dataframe tbody tr th:only-of-type {\n",
       "        vertical-align: middle;\n",
       "    }\n",
       "\n",
       "    .dataframe tbody tr th {\n",
       "        vertical-align: top;\n",
       "    }\n",
       "\n",
       "    .dataframe thead th {\n",
       "        text-align: right;\n",
       "    }\n",
       "</style>\n",
       "<table border=\"1\" class=\"dataframe\">\n",
       "  <thead>\n",
       "    <tr style=\"text-align: right;\">\n",
       "      <th></th>\n",
       "      <th>Eye_Clinic_No</th>\n",
       "      <th>Gender</th>\n",
       "      <th>Age</th>\n",
       "      <th>Diagnosed_Year</th>\n",
       "      <th>Right_VA</th>\n",
       "      <th>Left_VA</th>\n",
       "      <th>Right_Retinopathy</th>\n",
       "      <th>Left_Retinopathy</th>\n",
       "      <th>DiagnosedYears</th>\n",
       "    </tr>\n",
       "  </thead>\n",
       "  <tbody>\n",
       "    <tr>\n",
       "      <th>3</th>\n",
       "      <td>0001</td>\n",
       "      <td>0</td>\n",
       "      <td>67</td>\n",
       "      <td>1999</td>\n",
       "      <td>0.00</td>\n",
       "      <td>0.00</td>\n",
       "      <td>Severe_DR</td>\n",
       "      <td>Moderate_DR</td>\n",
       "      <td>21</td>\n",
       "    </tr>\n",
       "    <tr>\n",
       "      <th>4</th>\n",
       "      <td>0005</td>\n",
       "      <td>0</td>\n",
       "      <td>60</td>\n",
       "      <td>2018</td>\n",
       "      <td>0.30</td>\n",
       "      <td>0.00</td>\n",
       "      <td>No_DR</td>\n",
       "      <td>No_DR</td>\n",
       "      <td>2</td>\n",
       "    </tr>\n",
       "    <tr>\n",
       "      <th>5</th>\n",
       "      <td>0027</td>\n",
       "      <td>0</td>\n",
       "      <td>57</td>\n",
       "      <td>2017</td>\n",
       "      <td>0.00</td>\n",
       "      <td>0.00</td>\n",
       "      <td>No_DR</td>\n",
       "      <td>No_DR</td>\n",
       "      <td>3</td>\n",
       "    </tr>\n",
       "    <tr>\n",
       "      <th>12</th>\n",
       "      <td>0036</td>\n",
       "      <td>0</td>\n",
       "      <td>70</td>\n",
       "      <td>2003</td>\n",
       "      <td>0.78</td>\n",
       "      <td>0.30</td>\n",
       "      <td>PDR</td>\n",
       "      <td>PDR</td>\n",
       "      <td>17</td>\n",
       "    </tr>\n",
       "    <tr>\n",
       "      <th>14</th>\n",
       "      <td>0039</td>\n",
       "      <td>0</td>\n",
       "      <td>66</td>\n",
       "      <td>2009</td>\n",
       "      <td>0.18</td>\n",
       "      <td>0.18</td>\n",
       "      <td>No_DR</td>\n",
       "      <td>No_DR</td>\n",
       "      <td>11</td>\n",
       "    </tr>\n",
       "  </tbody>\n",
       "</table>\n",
       "</div>"
      ],
      "text/plain": [
       "   Eye_Clinic_No  Gender Age  Diagnosed_Year  Right_VA  Left_VA  \\\n",
       "3           0001       0  67            1999      0.00     0.00   \n",
       "4           0005       0  60            2018      0.30     0.00   \n",
       "5           0027       0  57            2017      0.00     0.00   \n",
       "12          0036       0  70            2003      0.78     0.30   \n",
       "14          0039       0  66            2009      0.18     0.18   \n",
       "\n",
       "   Right_Retinopathy Left_Retinopathy  DiagnosedYears  \n",
       "3          Severe_DR      Moderate_DR              21  \n",
       "4              No_DR            No_DR               2  \n",
       "5              No_DR            No_DR               3  \n",
       "12               PDR              PDR              17  \n",
       "14             No_DR            No_DR              11  "
      ]
     },
     "execution_count": 61,
     "metadata": {},
     "output_type": "execute_result"
    }
   ],
   "source": [
    "array = [67, 60, 57, 70, 66, 69, 56, 49, 37, 59, 27, 71, 75, 52, 62, 58, 47,\n",
    "       73, 63, 79, 78, 42, 65, 43, 72, 48, 54, 36, 40, 53, 76,39,\n",
    "       68, 61, 51, 77, 50, 64, 41, 88, 80, 74, 55, 44, 38, 81, 46, 45, 30,\n",
    "       35, 23, 34, 82, 83, 29, 32, 31, 33, 20]\n",
    "\n",
    "df_Age = df_OS_VA.loc[df_OS_VA['Age'].isin(array)]\n",
    "df_Age.head()"
   ]
  },
  {
   "cell_type": "code",
   "execution_count": 62,
   "metadata": {},
   "outputs": [
    {
     "name": "stderr",
     "output_type": "stream",
     "text": [
      "C:\\Users\\saral\\AppData\\Local\\Continuum\\anaconda3\\lib\\site-packages\\ipykernel_launcher.py:1: SettingWithCopyWarning: \n",
      "A value is trying to be set on a copy of a slice from a DataFrame.\n",
      "Try using .loc[row_indexer,col_indexer] = value instead\n",
      "\n",
      "See the caveats in the documentation: http://pandas.pydata.org/pandas-docs/stable/indexing.html#indexing-view-versus-copy\n",
      "  \"\"\"Entry point for launching an IPython kernel.\n"
     ]
    }
   ],
   "source": [
    "df_Age['Age'] = df_Age['Age'].astype(int)"
   ]
  },
  {
   "cell_type": "code",
   "execution_count": 63,
   "metadata": {},
   "outputs": [
    {
     "data": {
      "text/plain": [
       "Index(['Eye_Clinic_No', 'Gender', 'Age', 'Diagnosed_Year', 'Right_VA',\n",
       "       'Left_VA', 'Right_Retinopathy', 'Left_Retinopathy', 'DiagnosedYears'],\n",
       "      dtype='object')"
      ]
     },
     "execution_count": 63,
     "metadata": {},
     "output_type": "execute_result"
    }
   ],
   "source": [
    "df_Age.columns"
   ]
  },
  {
   "cell_type": "code",
   "execution_count": 64,
   "metadata": {},
   "outputs": [],
   "source": [
    "df1 = df_Age[['Gender', 'Age', 'Right_VA','Left_VA', 'DiagnosedYears','Left_Retinopathy']]"
   ]
  },
  {
   "cell_type": "code",
   "execution_count": 65,
   "metadata": {},
   "outputs": [
    {
     "data": {
      "text/plain": [
       "Gender              0.0\n",
       "Age                 0.0\n",
       "Right_VA            0.0\n",
       "Left_VA             0.0\n",
       "DiagnosedYears      0.0\n",
       "Left_Retinopathy    0.0\n",
       "dtype: float64"
      ]
     },
     "execution_count": 65,
     "metadata": {},
     "output_type": "execute_result"
    }
   ],
   "source": [
    "# let's check the null percentage for each column\n",
    "round(100*(df1.isnull().sum()/len(df1.index)), 2)"
   ]
  },
  {
   "cell_type": "code",
   "execution_count": 66,
   "metadata": {},
   "outputs": [
    {
     "data": {
      "text/plain": [
       "Gender                int32\n",
       "Age                   int32\n",
       "Right_VA            float64\n",
       "Left_VA             float64\n",
       "DiagnosedYears        int32\n",
       "Left_Retinopathy     object\n",
       "dtype: object"
      ]
     },
     "execution_count": 66,
     "metadata": {},
     "output_type": "execute_result"
    }
   ],
   "source": [
    "# Get info about the dataset\n",
    "df1.dtypes"
   ]
  },
  {
   "cell_type": "code",
   "execution_count": 67,
   "metadata": {},
   "outputs": [
    {
     "data": {
      "text/plain": [
       "(1062, 6)"
      ]
     },
     "execution_count": 67,
     "metadata": {},
     "output_type": "execute_result"
    }
   ],
   "source": [
    "df1.shape"
   ]
  },
  {
   "cell_type": "code",
   "execution_count": 68,
   "metadata": {},
   "outputs": [
    {
     "data": {
      "text/html": [
       "<div>\n",
       "<style scoped>\n",
       "    .dataframe tbody tr th:only-of-type {\n",
       "        vertical-align: middle;\n",
       "    }\n",
       "\n",
       "    .dataframe tbody tr th {\n",
       "        vertical-align: top;\n",
       "    }\n",
       "\n",
       "    .dataframe thead th {\n",
       "        text-align: right;\n",
       "    }\n",
       "</style>\n",
       "<table border=\"1\" class=\"dataframe\">\n",
       "  <thead>\n",
       "    <tr style=\"text-align: right;\">\n",
       "      <th></th>\n",
       "      <th>Gender</th>\n",
       "      <th>Age</th>\n",
       "      <th>Right_VA</th>\n",
       "      <th>Left_VA</th>\n",
       "      <th>DiagnosedYears</th>\n",
       "      <th>Left_Retinopathy</th>\n",
       "    </tr>\n",
       "  </thead>\n",
       "  <tbody>\n",
       "    <tr>\n",
       "      <th>3</th>\n",
       "      <td>0</td>\n",
       "      <td>67</td>\n",
       "      <td>0.00</td>\n",
       "      <td>0.00</td>\n",
       "      <td>21</td>\n",
       "      <td>Moderate_DR</td>\n",
       "    </tr>\n",
       "    <tr>\n",
       "      <th>4</th>\n",
       "      <td>0</td>\n",
       "      <td>60</td>\n",
       "      <td>0.30</td>\n",
       "      <td>0.00</td>\n",
       "      <td>2</td>\n",
       "      <td>No_DR</td>\n",
       "    </tr>\n",
       "    <tr>\n",
       "      <th>5</th>\n",
       "      <td>0</td>\n",
       "      <td>57</td>\n",
       "      <td>0.00</td>\n",
       "      <td>0.00</td>\n",
       "      <td>3</td>\n",
       "      <td>No_DR</td>\n",
       "    </tr>\n",
       "    <tr>\n",
       "      <th>12</th>\n",
       "      <td>0</td>\n",
       "      <td>70</td>\n",
       "      <td>0.78</td>\n",
       "      <td>0.30</td>\n",
       "      <td>17</td>\n",
       "      <td>PDR</td>\n",
       "    </tr>\n",
       "    <tr>\n",
       "      <th>14</th>\n",
       "      <td>0</td>\n",
       "      <td>66</td>\n",
       "      <td>0.18</td>\n",
       "      <td>0.18</td>\n",
       "      <td>11</td>\n",
       "      <td>No_DR</td>\n",
       "    </tr>\n",
       "  </tbody>\n",
       "</table>\n",
       "</div>"
      ],
      "text/plain": [
       "    Gender  Age  Right_VA  Left_VA  DiagnosedYears Left_Retinopathy\n",
       "3        0   67      0.00     0.00              21      Moderate_DR\n",
       "4        0   60      0.30     0.00               2            No_DR\n",
       "5        0   57      0.00     0.00               3            No_DR\n",
       "12       0   70      0.78     0.30              17              PDR\n",
       "14       0   66      0.18     0.18              11            No_DR"
      ]
     },
     "execution_count": 68,
     "metadata": {},
     "output_type": "execute_result"
    }
   ],
   "source": [
    "df1.head()"
   ]
  },
  {
   "cell_type": "code",
   "execution_count": 69,
   "metadata": {},
   "outputs": [
    {
     "data": {
      "text/plain": [
       "No_DR          759\n",
       "Mild_DR        179\n",
       "Moderate_DR     61\n",
       "Severe_DR       34\n",
       "PDR             29\n",
       "Name: Left_Retinopathy, dtype: int64"
      ]
     },
     "execution_count": 69,
     "metadata": {},
     "output_type": "execute_result"
    }
   ],
   "source": [
    "df1.Left_Retinopathy.value_counts()"
   ]
  },
  {
   "cell_type": "markdown",
   "metadata": {},
   "source": [
    "# Analyzing Data"
   ]
  },
  {
   "cell_type": "code",
   "execution_count": 70,
   "metadata": {},
   "outputs": [
    {
     "data": {
      "image/png": "[encoded data removed]",
      "text/plain": [
       "<Figure size 432x288 with 1 Axes>"
      ]
     },
     "metadata": {
      "needs_background": "light"
     },
     "output_type": "display_data"
    }
   ],
   "source": [
    "sns.countplot(x=\"Left_Retinopathy\", data=df1,palette=\"mako_r\", order = df1['Left_Retinopathy'].value_counts().index )\n",
    "plt.show()"
   ]
  },
  {
   "cell_type": "code",
   "execution_count": 71,
   "metadata": {},
   "outputs": [
    {
     "name": "stdout",
     "output_type": "stream",
     "text": [
      "Percentage of patients who have No DR: 71.47%\n",
      "Percentage of patients who have Mild DR: 16.85%\n",
      "Percentage of patients who have Moderate DR: 5.74%\n",
      "Percentage of patients who have Severe DR: 3.20%\n",
      "Percentage of patients who have  PDR: 2.73%\n"
     ]
    }
   ],
   "source": [
    "NoDR = len(df1[df1.Left_Retinopathy == 'No_DR'])\n",
    "MildDR = len(df1[df1.Left_Retinopathy == 'Mild_DR'])\n",
    "ModerateDR = len(df1[df1.Left_Retinopathy == 'Moderate_DR'])\n",
    "SevereDR = len(df1[df1.Left_Retinopathy == 'Severe_DR'])\n",
    "PDR = len(df1[df1.Left_Retinopathy == 'PDR'])\n",
    "\n",
    "\n",
    "print(\"Percentage of patients who have No DR: {:.2f}%\".format((NoDR / (len(df1.Left_Retinopathy))*100)))\n",
    "print(\"Percentage of patients who have Mild DR: {:.2f}%\".format((MildDR / (len(df1.Left_Retinopathy))*100)))\n",
    "print(\"Percentage of patients who have Moderate DR: {:.2f}%\".format((ModerateDR / (len(df1.Left_Retinopathy))*100)))\n",
    "print(\"Percentage of patients who have Severe DR: {:.2f}%\".format((SevereDR / (len(df1.Left_Retinopathy))*100)))\n",
    "print(\"Percentage of patients who have  PDR: {:.2f}%\".format((PDR / (len(df1.Left_Retinopathy))*100)))\n",
    "\n"
   ]
  },
  {
   "cell_type": "code",
   "execution_count": 72,
   "metadata": {},
   "outputs": [
    {
     "data": {
      "image/png": "[encoded data removed]",
      "text/plain": [
       "<Figure size 432x288 with 1 Axes>"
      ]
     },
     "metadata": {
      "needs_background": "light"
     },
     "output_type": "display_data"
    }
   ],
   "source": [
    "sns.countplot(x='Gender', data=df1, palette=\"bwr\",order = df1['Gender'].value_counts().index )\n",
    "plt.xlabel(\"Gender (0 = female, 1= male)\")\n",
    "plt.show()"
   ]
  },
  {
   "cell_type": "code",
   "execution_count": 73,
   "metadata": {},
   "outputs": [
    {
     "name": "stdout",
     "output_type": "stream",
     "text": [
      "Percentage of Female Patients: 66.85%\n",
      "Percentage of Male Patients: 33.15%\n"
     ]
    }
   ],
   "source": [
    "countFemale = len(df1[df1.Gender == 0])\n",
    "countMale = len(df1[df1.Gender == 1])\n",
    "print(\"Percentage of Female Patients: {:.2f}%\".format((countFemale / (len(df1.Gender))*100)))\n",
    "print(\"Percentage of Male Patients: {:.2f}%\".format((countMale / (len(df1.Gender))*100)))"
   ]
  },
  {
   "cell_type": "code",
   "execution_count": 74,
   "metadata": {},
   "outputs": [
    {
     "data": {
      "image/png": "[encoded data removed]",
      "text/plain": [
       "<Figure size 1440x432 with 1 Axes>"
      ]
     },
     "metadata": {
      "needs_background": "light"
     },
     "output_type": "display_data"
    }
   ],
   "source": [
    "pd.crosstab(df1.Age,df1.Left_Retinopathy).plot(kind=\"bar\",figsize=(20,6))\n",
    "plt.title('DR Frequency for Ages')\n",
    "plt.xlabel('Age')\n",
    "plt.ylabel('Frequency')\n",
    "#plt.savefig('heartDiseaseAndAges.png')\n",
    "plt.show()"
   ]
  },
  {
   "cell_type": "code",
   "execution_count": 75,
   "metadata": {},
   "outputs": [
    {
     "data": {
      "image/png": "[encoded data removed]",
      "text/plain": [
       "<Figure size 1080x432 with 1 Axes>"
      ]
     },
     "metadata": {
      "needs_background": "light"
     },
     "output_type": "display_data"
    }
   ],
   "source": [
    "pd.crosstab(df1.Gender,df1.Left_Retinopathy).plot(kind=\"bar\",figsize=(15,6),color=['#306754','#E56717','#4CC417','#FFD801','#FF0000'])\n",
    "plt.title('DR Frequency for Gender')\n",
    "plt.xlabel('Gender (0 = Female, 1 = Male)')\n",
    "plt.xticks(rotation=0)\n",
    "#plt.legend([\"No_DR\", \"Mild_DR\", \"Moderate_DR\", \"Severe_DR\" ,\"PDR\"])\n",
    "plt.ylabel('Frequency')\n",
    "plt.show()\n",
    "\n"
   ]
  },
  {
   "cell_type": "code",
   "execution_count": 76,
   "metadata": {},
   "outputs": [
    {
     "data": {
      "text/plain": [
       "Text(0, 0.5, 'Maximum OD_VA Rate')"
      ]
     },
     "execution_count": 76,
     "metadata": {},
     "output_type": "execute_result"
    },
    {
     "data": {
      "image/png": "[encoded data removed]",
      "text/plain": [
       "<Figure size 1440x720 with 1 Axes>"
      ]
     },
     "metadata": {
      "needs_background": "light"
     },
     "output_type": "display_data"
    }
   ],
   "source": [
    "plt.figure(figsize=(20,10))\n",
    "\n",
    "plt.scatter(x=df1.Age[df1.Left_Retinopathy== 'No_DR'], y=df1.Right_VA[(df1.Left_Retinopathy=='No_DR')], c=\"red\")\n",
    "plt.scatter(x=df1.Age[df1.Left_Retinopathy== 'Mild_DR'], y=df1.Right_VA[(df1.Left_Retinopathy== 'Mild_DR')], c=\"green\")\n",
    "plt.scatter(x=df1.Age[df1.Left_Retinopathy== 'Moderate_DR'], y=df1.Right_VA[(df1.Left_Retinopathy== 'Moderate_DR')], c=\"yellow\")\n",
    "plt.scatter(x=df1.Age[df1.Left_Retinopathy== 'Severe_DR'], y=df1.Right_VA[(df1.Left_Retinopathy== 'Severe_DR')], c=\"blue\")\n",
    "plt.scatter(x=df1.Age[df1.Left_Retinopathy== 'PDR'], y=df1.Right_VA[(df1.Left_Retinopathy== 'PDR')], c=\"black\")\n",
    "\n",
    "\n",
    "plt.legend([\"No_DR\", \"Mild_DR\",\"Moderate_DR\",\"Severe_DR\",\"PRD\"])\n",
    "plt.xlabel(\"Age\")\n",
    "plt.ylabel(\"Maximum OD_VA Rate\")\n"
   ]
  },
  {
   "cell_type": "code",
   "execution_count": 77,
   "metadata": {},
   "outputs": [
    {
     "data": {
      "text/plain": [
       "Text(0, 0.5, 'Maximum OS_VA Rate')"
      ]
     },
     "execution_count": 77,
     "metadata": {},
     "output_type": "execute_result"
    },
    {
     "data": {
      "image/png": "[encoded data removed]",
      "text/plain": [
       "<Figure size 1440x720 with 1 Axes>"
      ]
     },
     "metadata": {
      "needs_background": "light"
     },
     "output_type": "display_data"
    }
   ],
   "source": [
    "plt.figure(figsize=(20,10))\n",
    "\n",
    "plt.scatter(x=df1.Age[df1.Left_Retinopathy== 'No_DR'], y=df1.Left_VA[(df1.Left_Retinopathy=='No_DR')], c=\"red\")\n",
    "plt.scatter(x=df1.Age[df1.Left_Retinopathy== 'Mild_DR'], y=df1.Left_VA[(df1.Left_Retinopathy== 'Mild_DR')], c=\"green\")\n",
    "plt.scatter(x=df1.Age[df1.Left_Retinopathy== 'Moderate_DR'], y=df1.Left_VA[(df1.Left_Retinopathy== 'Moderate_DR')], c=\"yellow\")\n",
    "plt.scatter(x=df1.Age[df1.Left_Retinopathy== 'Severe_DR'], y=df1.Left_VA[(df1.Left_Retinopathy== 'Severe_DR')], c=\"blue\")\n",
    "plt.scatter(x=df1.Age[df1.Left_Retinopathy== 'PDR'], y=df1.Left_VA[(df1.Left_Retinopathy== 'PDR')], c=\"black\")\n",
    "\n",
    "\n",
    "plt.legend([\"No_DR\", \"Mild_DR\",\"Moderate_DR\",\"Severe_DR\",\"PRD\"])\n",
    "plt.xlabel(\"Age\")\n",
    "plt.ylabel(\"Maximum OS_VA Rate\")\n"
   ]
  },
  {
   "cell_type": "code",
   "execution_count": 78,
   "metadata": {
    "scrolled": true
   },
   "outputs": [
    {
     "data": {
      "image/png": "[encoded data removed]",
      "text/plain": [
       "<Figure size 360x360 with 2 Axes>"
      ]
     },
     "metadata": {
      "needs_background": "light"
     },
     "output_type": "display_data"
    }
   ],
   "source": [
    "f,ax = plt.subplots(figsize=(5, 5))\n",
    "sns.heatmap(df1[[\"Gender\",\"Age\",\"DiagnosedYears\",\"Right_VA\",\"Left_VA\"]].corr(), annot=True,  fmt= '.1f',ax=ax)\n",
    "plt.show()"
   ]
  },
  {
   "cell_type": "code",
   "execution_count": 79,
   "metadata": {},
   "outputs": [
    {
     "data": {
      "image/png": "[encoded data removed]",
      "text/plain": [
       "<Figure size 360x360 with 2 Axes>"
      ]
     },
     "metadata": {
      "needs_background": "light"
     },
     "output_type": "display_data"
    }
   ],
   "source": [
    "f,ax = plt.subplots(figsize=(5, 5))\n",
    "\n",
    "ax = sns.heatmap(df1[df1['Left_Retinopathy']=='PDR'][[\"Gender\",\"Age\",\"DiagnosedYears\",\"Right_VA\",\"Left_VA\"]].corr(),annot=True,  fmt= '.1f',ax = ax)\n",
    "ax.set_title('PDR')\n",
    "\n",
    "plt.show()"
   ]
  },
  {
   "cell_type": "code",
   "execution_count": 80,
   "metadata": {},
   "outputs": [
    {
     "data": {
      "text/plain": [
       "array(['Moderate_DR', 'No_DR', 'PDR', 'Severe_DR', 'Mild_DR'],\n",
       "      dtype=object)"
      ]
     },
     "execution_count": 80,
     "metadata": {},
     "output_type": "execute_result"
    }
   ],
   "source": [
    "# Check the unique values in OS_VA\n",
    "df1.Left_Retinopathy.unique()"
   ]
  },
  {
   "cell_type": "code",
   "execution_count": 81,
   "metadata": {},
   "outputs": [
    {
     "data": {
      "text/plain": [
       "Text(0.5, 1, 'PDR')"
      ]
     },
     "execution_count": 81,
     "metadata": {},
     "output_type": "execute_result"
    },
    {
     "data": {
      "image/png": "[encoded data removed]",
      "text/plain": [
       "<Figure size 1600x300 with 10 Axes>"
      ]
     },
     "metadata": {
      "needs_background": "light"
     },
     "output_type": "display_data"
    }
   ],
   "source": [
    "fig, axes = plt.subplots(nrows=1, ncols=5,figsize=(16, 3))\n",
    "fig.set_dpi(100)\n",
    "ax = sns.heatmap(df1[df1['Left_Retinopathy']=='No_DR'][[\"Gender\",\"Age\",\"DiagnosedYears\",\"Right_VA\",\"Left_VA\"]].corr(), ax = axes[0], cmap='coolwarm')\n",
    "ax.set_title('No DR')\n",
    "\n",
    "ax = sns.heatmap(df1[df1['Left_Retinopathy']=='Mild_DR'][[\"Gender\",\"Age\",\"DiagnosedYears\",\"Right_VA\",\"Left_VA\"]].corr(), ax = axes[1], cmap='coolwarm')\n",
    "ax.set_title('Mild DR')\n",
    "\n",
    "ax = sns.heatmap(df1[df1['Left_Retinopathy']=='Moderate_DR'][[\"Gender\",\"Age\",\"DiagnosedYears\",\"Right_VA\",\"Left_VA\"]].corr(), ax = axes[2], cmap='coolwarm')\n",
    "ax.set_title('Moderate DR')\n",
    "\n",
    "ax = sns.heatmap(df1[df1['Left_Retinopathy']=='Severe_DR'][[\"Gender\",\"Age\",\"DiagnosedYears\",\"Right_VA\",\"Left_VA\"]].corr(), ax = axes[3], cmap='coolwarm')\n",
    "ax.set_title('Severe DR')\n",
    "\n",
    "ax = sns.heatmap(df1[df1['Left_Retinopathy']=='PDR'][[\"Gender\",\"Age\",\"DiagnosedYears\",\"Right_VA\",\"Left_VA\"]].corr(), ax = axes[4], cmap='coolwarm')\n",
    "ax.set_title('PDR')"
   ]
  },
  {
   "cell_type": "code",
   "execution_count": 82,
   "metadata": {},
   "outputs": [
    {
     "name": "stderr",
     "output_type": "stream",
     "text": [
      "C:\\Users\\saral\\AppData\\Local\\Continuum\\anaconda3\\lib\\site-packages\\seaborn\\regression.py:546: UserWarning: The `size` paramter has been renamed to `height`; please update your code.\n",
      "  warnings.warn(msg, UserWarning)\n"
     ]
    },
    {
     "data": {
      "text/plain": [
       "Text(0.5, 1, 'Equatorial coordinates')"
      ]
     },
     "execution_count": 82,
     "metadata": {},
     "output_type": "execute_result"
    },
    {
     "data": {
      "image/png": "[encoded data removed]",
      "text/plain": [
       "<Figure size 967x432 with 1 Axes>"
      ]
     },
     "metadata": {
      "needs_background": "light"
     },
     "output_type": "display_data"
    }
   ],
   "source": [
    "sns.lmplot(x='Right_VA', y='Left_VA', data=df1, hue='Left_Retinopathy', fit_reg=False, palette='coolwarm', size=6, aspect=2)\n",
    "plt.title('Equatorial coordinates')"
   ]
  },
  {
   "cell_type": "code",
   "execution_count": 83,
   "metadata": {},
   "outputs": [
    {
     "data": {
      "image/png": "[encoded data removed]",
      "text/plain": [
       "<Figure size 432x288 with 1 Axes>"
      ]
     },
     "metadata": {
      "needs_background": "light"
     },
     "output_type": "display_data"
    }
   ],
   "source": [
    "sns.countplot(x=\"Left_Retinopathy\", data=df1,palette=\"mako_r\", order = df1['Left_Retinopathy'].value_counts().index )\n",
    "plt.show()"
   ]
  },
  {
   "cell_type": "markdown",
   "metadata": {},
   "source": [
    "## Balancing data"
   ]
  },
  {
   "cell_type": "code",
   "execution_count": 84,
   "metadata": {},
   "outputs": [
    {
     "data": {
      "text/plain": [
       "(1062, 6)"
      ]
     },
     "execution_count": 84,
     "metadata": {},
     "output_type": "execute_result"
    }
   ],
   "source": [
    "df1.shape"
   ]
  },
  {
   "cell_type": "code",
   "execution_count": 85,
   "metadata": {},
   "outputs": [
    {
     "data": {
      "text/plain": [
       "No_DR          759\n",
       "Mild_DR        179\n",
       "Moderate_DR     61\n",
       "Severe_DR       34\n",
       "PDR             29\n",
       "Name: Left_Retinopathy, dtype: int64"
      ]
     },
     "execution_count": 85,
     "metadata": {},
     "output_type": "execute_result"
    }
   ],
   "source": [
    "df1.Left_Retinopathy.value_counts()"
   ]
  },
  {
   "cell_type": "code",
   "execution_count": 86,
   "metadata": {},
   "outputs": [],
   "source": [
    "from sklearn.utils import resample"
   ]
  },
  {
   "cell_type": "code",
   "execution_count": 87,
   "metadata": {},
   "outputs": [],
   "source": [
    "# Separate majority and minority classes\n",
    "NoDR = df1[df1.Left_Retinopathy == \"No_DR\"]\n",
    "MildDR = df1[df1.Left_Retinopathy == \"Mild_DR\"]\n",
    "ModerateDR = df1[df1.Left_Retinopathy == \"Moderate_DR\"]\n",
    "SevereDR = df1[df1.Left_Retinopathy == \"Severe_DR\"]\n",
    "PDR = df1[df1.Left_Retinopathy == \"PDR\"]\n"
   ]
  },
  {
   "cell_type": "code",
   "execution_count": 88,
   "metadata": {},
   "outputs": [],
   "source": [
    "# Upsample no class\n",
    "No_upsampled = resample(NoDR, \n",
    "                                 replace=True,     # sample with replacement\n",
    "                                 n_samples=400    # to match majority class\n",
    "                                 ) "
   ]
  },
  {
   "cell_type": "code",
   "execution_count": 89,
   "metadata": {},
   "outputs": [],
   "source": [
    "# Upsample mild class\n",
    "MildDR_upsampled = resample(MildDR, \n",
    "                                 replace=True,     # sample with replacement\n",
    "                                 n_samples=400    # to match majority class\n",
    "                                 ) "
   ]
  },
  {
   "cell_type": "code",
   "execution_count": 90,
   "metadata": {},
   "outputs": [],
   "source": [
    "# Upsample ModerateDR class\n",
    "ModerateDR_upsampled = resample(ModerateDR, \n",
    "                                 replace=True,     # sample with replacement\n",
    "                                 n_samples=400    # to match majority class\n",
    "                                 ) "
   ]
  },
  {
   "cell_type": "code",
   "execution_count": 91,
   "metadata": {},
   "outputs": [],
   "source": [
    "# Upsample SevereDR class\n",
    "SevereDR_upsampled = resample(SevereDR, \n",
    "                                 replace=True,     # sample with replacement\n",
    "                                 n_samples=400    # to match majority class\n",
    "                                 ) "
   ]
  },
  {
   "cell_type": "code",
   "execution_count": 92,
   "metadata": {},
   "outputs": [],
   "source": [
    "# Upsample PDR class\n",
    "PDR_upsampled = resample(PDR, \n",
    "                                 replace=True,     # sample with replacement\n",
    "                                 n_samples=400    # to match majority class\n",
    "                                 ) "
   ]
  },
  {
   "cell_type": "code",
   "execution_count": 93,
   "metadata": {},
   "outputs": [],
   "source": [
    "# Combine majority class with upsampled minority class\n",
    "df_upsampled = pd.concat([No_upsampled, MildDR_upsampled,ModerateDR_upsampled,SevereDR_upsampled,PDR_upsampled])"
   ]
  },
  {
   "cell_type": "code",
   "execution_count": 94,
   "metadata": {},
   "outputs": [],
   "source": [
    "df4 = df_upsampled.sample(frac=1,replace = False, random_state= 42 )"
   ]
  },
  {
   "cell_type": "code",
   "execution_count": 95,
   "metadata": {},
   "outputs": [
    {
     "data": {
      "text/plain": [
       "Severe_DR      400\n",
       "Mild_DR        400\n",
       "Moderate_DR    400\n",
       "PDR            400\n",
       "No_DR          400\n",
       "Name: Left_Retinopathy, dtype: int64"
      ]
     },
     "execution_count": 95,
     "metadata": {},
     "output_type": "execute_result"
    }
   ],
   "source": [
    " #Display new class counts\n",
    "df4.Left_Retinopathy.value_counts()"
   ]
  },
  {
   "cell_type": "code",
   "execution_count": 96,
   "metadata": {
    "scrolled": true
   },
   "outputs": [
    {
     "data": {
      "image/png": "[encoded data removed]",
      "text/plain": [
       "<Figure size 432x288 with 1 Axes>"
      ]
     },
     "metadata": {
      "needs_background": "light"
     },
     "output_type": "display_data"
    }
   ],
   "source": [
    "sns.countplot(\"Left_Retinopathy\",data = df4,palette=\"mako_r\")\n",
    "plt.show()"
   ]
  },
  {
   "cell_type": "code",
   "execution_count": 97,
   "metadata": {},
   "outputs": [],
   "source": [
    "df4 = df4.reset_index()"
   ]
  },
  {
   "cell_type": "code",
   "execution_count": 98,
   "metadata": {},
   "outputs": [
    {
     "data": {
      "text/html": [
       "<div>\n",
       "<style scoped>\n",
       "    .dataframe tbody tr th:only-of-type {\n",
       "        vertical-align: middle;\n",
       "    }\n",
       "\n",
       "    .dataframe tbody tr th {\n",
       "        vertical-align: top;\n",
       "    }\n",
       "\n",
       "    .dataframe thead th {\n",
       "        text-align: right;\n",
       "    }\n",
       "</style>\n",
       "<table border=\"1\" class=\"dataframe\">\n",
       "  <thead>\n",
       "    <tr style=\"text-align: right;\">\n",
       "      <th></th>\n",
       "      <th>index</th>\n",
       "      <th>Gender</th>\n",
       "      <th>Age</th>\n",
       "      <th>Right_VA</th>\n",
       "      <th>Left_VA</th>\n",
       "      <th>DiagnosedYears</th>\n",
       "      <th>Left_Retinopathy</th>\n",
       "    </tr>\n",
       "  </thead>\n",
       "  <tbody>\n",
       "    <tr>\n",
       "      <th>0</th>\n",
       "      <td>843</td>\n",
       "      <td>1</td>\n",
       "      <td>73</td>\n",
       "      <td>1.48</td>\n",
       "      <td>1.18</td>\n",
       "      <td>16</td>\n",
       "      <td>PDR</td>\n",
       "    </tr>\n",
       "    <tr>\n",
       "      <th>1</th>\n",
       "      <td>437</td>\n",
       "      <td>0</td>\n",
       "      <td>61</td>\n",
       "      <td>0.00</td>\n",
       "      <td>0.18</td>\n",
       "      <td>4</td>\n",
       "      <td>No_DR</td>\n",
       "    </tr>\n",
       "    <tr>\n",
       "      <th>2</th>\n",
       "      <td>1502</td>\n",
       "      <td>0</td>\n",
       "      <td>58</td>\n",
       "      <td>0.18</td>\n",
       "      <td>0.18</td>\n",
       "      <td>6</td>\n",
       "      <td>Severe_DR</td>\n",
       "    </tr>\n",
       "    <tr>\n",
       "      <th>3</th>\n",
       "      <td>258</td>\n",
       "      <td>1</td>\n",
       "      <td>66</td>\n",
       "      <td>0.00</td>\n",
       "      <td>0.00</td>\n",
       "      <td>23</td>\n",
       "      <td>Moderate_DR</td>\n",
       "    </tr>\n",
       "    <tr>\n",
       "      <th>4</th>\n",
       "      <td>355</td>\n",
       "      <td>1</td>\n",
       "      <td>60</td>\n",
       "      <td>0.30</td>\n",
       "      <td>0.18</td>\n",
       "      <td>22</td>\n",
       "      <td>Severe_DR</td>\n",
       "    </tr>\n",
       "  </tbody>\n",
       "</table>\n",
       "</div>"
      ],
      "text/plain": [
       "   index  Gender  Age  Right_VA  Left_VA  DiagnosedYears Left_Retinopathy\n",
       "0    843       1   73      1.48     1.18              16              PDR\n",
       "1    437       0   61      0.00     0.18               4            No_DR\n",
       "2   1502       0   58      0.18     0.18               6        Severe_DR\n",
       "3    258       1   66      0.00     0.00              23      Moderate_DR\n",
       "4    355       1   60      0.30     0.18              22        Severe_DR"
      ]
     },
     "execution_count": 98,
     "metadata": {},
     "output_type": "execute_result"
    }
   ],
   "source": [
    "df4.head()"
   ]
  },
  {
   "cell_type": "code",
   "execution_count": 99,
   "metadata": {},
   "outputs": [],
   "source": [
    "# encode class labels to integers\n",
    "le = LabelEncoder()\n",
    "y_encoded = le.fit_transform(df4['Left_Retinopathy'])\n",
    "df4['Left_Retinopathy'] = y_encoded\n"
   ]
  },
  {
   "cell_type": "code",
   "execution_count": 100,
   "metadata": {},
   "outputs": [
    {
     "data": {
      "text/html": [
       "<div>\n",
       "<style scoped>\n",
       "    .dataframe tbody tr th:only-of-type {\n",
       "        vertical-align: middle;\n",
       "    }\n",
       "\n",
       "    .dataframe tbody tr th {\n",
       "        vertical-align: top;\n",
       "    }\n",
       "\n",
       "    .dataframe thead th {\n",
       "        text-align: right;\n",
       "    }\n",
       "</style>\n",
       "<table border=\"1\" class=\"dataframe\">\n",
       "  <thead>\n",
       "    <tr style=\"text-align: right;\">\n",
       "      <th></th>\n",
       "      <th>index</th>\n",
       "      <th>Gender</th>\n",
       "      <th>Age</th>\n",
       "      <th>Right_VA</th>\n",
       "      <th>Left_VA</th>\n",
       "      <th>DiagnosedYears</th>\n",
       "      <th>Left_Retinopathy</th>\n",
       "    </tr>\n",
       "  </thead>\n",
       "  <tbody>\n",
       "    <tr>\n",
       "      <th>0</th>\n",
       "      <td>843</td>\n",
       "      <td>1</td>\n",
       "      <td>73</td>\n",
       "      <td>1.48</td>\n",
       "      <td>1.18</td>\n",
       "      <td>16</td>\n",
       "      <td>3</td>\n",
       "    </tr>\n",
       "    <tr>\n",
       "      <th>1</th>\n",
       "      <td>437</td>\n",
       "      <td>0</td>\n",
       "      <td>61</td>\n",
       "      <td>0.00</td>\n",
       "      <td>0.18</td>\n",
       "      <td>4</td>\n",
       "      <td>2</td>\n",
       "    </tr>\n",
       "    <tr>\n",
       "      <th>2</th>\n",
       "      <td>1502</td>\n",
       "      <td>0</td>\n",
       "      <td>58</td>\n",
       "      <td>0.18</td>\n",
       "      <td>0.18</td>\n",
       "      <td>6</td>\n",
       "      <td>4</td>\n",
       "    </tr>\n",
       "    <tr>\n",
       "      <th>3</th>\n",
       "      <td>258</td>\n",
       "      <td>1</td>\n",
       "      <td>66</td>\n",
       "      <td>0.00</td>\n",
       "      <td>0.00</td>\n",
       "      <td>23</td>\n",
       "      <td>1</td>\n",
       "    </tr>\n",
       "    <tr>\n",
       "      <th>4</th>\n",
       "      <td>355</td>\n",
       "      <td>1</td>\n",
       "      <td>60</td>\n",
       "      <td>0.30</td>\n",
       "      <td>0.18</td>\n",
       "      <td>22</td>\n",
       "      <td>4</td>\n",
       "    </tr>\n",
       "  </tbody>\n",
       "</table>\n",
       "</div>"
      ],
      "text/plain": [
       "   index  Gender  Age  Right_VA  Left_VA  DiagnosedYears  Left_Retinopathy\n",
       "0    843       1   73      1.48     1.18              16                 3\n",
       "1    437       0   61      0.00     0.18               4                 2\n",
       "2   1502       0   58      0.18     0.18               6                 4\n",
       "3    258       1   66      0.00     0.00              23                 1\n",
       "4    355       1   60      0.30     0.18              22                 4"
      ]
     },
     "execution_count": 100,
     "metadata": {},
     "output_type": "execute_result"
    }
   ],
   "source": [
    "df4.head()"
   ]
  },
  {
   "cell_type": "code",
   "execution_count": 101,
   "metadata": {},
   "outputs": [],
   "source": [
    "df4 = df4.drop('index', axis=1)"
   ]
  },
  {
   "cell_type": "code",
   "execution_count": 102,
   "metadata": {},
   "outputs": [],
   "source": [
    "scaler = MinMaxScaler()\n",
    "sdss = scaler.fit_transform(df4.drop('Left_Retinopathy', axis=1))"
   ]
  },
  {
   "cell_type": "code",
   "execution_count": 103,
   "metadata": {},
   "outputs": [],
   "source": [
    "X_train, X_test, y_train, y_test = train_test_split(sdss, df4['Left_Retinopathy'], test_size=0.33)"
   ]
  },
  {
   "cell_type": "code",
   "execution_count": 104,
   "metadata": {},
   "outputs": [
    {
     "data": {
      "text/html": [
       "<div>\n",
       "<style scoped>\n",
       "    .dataframe tbody tr th:only-of-type {\n",
       "        vertical-align: middle;\n",
       "    }\n",
       "\n",
       "    .dataframe tbody tr th {\n",
       "        vertical-align: top;\n",
       "    }\n",
       "\n",
       "    .dataframe thead th {\n",
       "        text-align: right;\n",
       "    }\n",
       "</style>\n",
       "<table border=\"1\" class=\"dataframe\">\n",
       "  <thead>\n",
       "    <tr style=\"text-align: right;\">\n",
       "      <th></th>\n",
       "      <th>Gender</th>\n",
       "      <th>Age</th>\n",
       "      <th>Right_VA</th>\n",
       "      <th>Left_VA</th>\n",
       "      <th>DiagnosedYears</th>\n",
       "      <th>Left_Retinopathy</th>\n",
       "    </tr>\n",
       "  </thead>\n",
       "  <tbody>\n",
       "    <tr>\n",
       "      <th>0</th>\n",
       "      <td>1</td>\n",
       "      <td>73</td>\n",
       "      <td>1.48</td>\n",
       "      <td>1.18</td>\n",
       "      <td>16</td>\n",
       "      <td>3</td>\n",
       "    </tr>\n",
       "    <tr>\n",
       "      <th>1</th>\n",
       "      <td>0</td>\n",
       "      <td>61</td>\n",
       "      <td>0.00</td>\n",
       "      <td>0.18</td>\n",
       "      <td>4</td>\n",
       "      <td>2</td>\n",
       "    </tr>\n",
       "    <tr>\n",
       "      <th>2</th>\n",
       "      <td>0</td>\n",
       "      <td>58</td>\n",
       "      <td>0.18</td>\n",
       "      <td>0.18</td>\n",
       "      <td>6</td>\n",
       "      <td>4</td>\n",
       "    </tr>\n",
       "    <tr>\n",
       "      <th>3</th>\n",
       "      <td>1</td>\n",
       "      <td>66</td>\n",
       "      <td>0.00</td>\n",
       "      <td>0.00</td>\n",
       "      <td>23</td>\n",
       "      <td>1</td>\n",
       "    </tr>\n",
       "    <tr>\n",
       "      <th>4</th>\n",
       "      <td>1</td>\n",
       "      <td>60</td>\n",
       "      <td>0.30</td>\n",
       "      <td>0.18</td>\n",
       "      <td>22</td>\n",
       "      <td>4</td>\n",
       "    </tr>\n",
       "  </tbody>\n",
       "</table>\n",
       "</div>"
      ],
      "text/plain": [
       "   Gender  Age  Right_VA  Left_VA  DiagnosedYears  Left_Retinopathy\n",
       "0       1   73      1.48     1.18              16                 3\n",
       "1       0   61      0.00     0.18               4                 2\n",
       "2       0   58      0.18     0.18               6                 4\n",
       "3       1   66      0.00     0.00              23                 1\n",
       "4       1   60      0.30     0.18              22                 4"
      ]
     },
     "execution_count": 104,
     "metadata": {},
     "output_type": "execute_result"
    }
   ],
   "source": [
    "df4.head()"
   ]
  },
  {
   "cell_type": "markdown",
   "metadata": {},
   "source": [
    "## K Nearest Neighbors"
   ]
  },
  {
   "cell_type": "code",
   "execution_count": 105,
   "metadata": {},
   "outputs": [
    {
     "name": "stdout",
     "output_type": "stream",
     "text": [
      "Scikit-Learn's K Nearest Neighbors Classifier's prediction accuracy is: 78.18\n",
      "Time consumed for training: 0.004 seconds\n",
      "Time consumed for prediction: 0.02448 seconds\n"
     ]
    }
   ],
   "source": [
    "knn = KNeighborsClassifier()\n",
    "training_start = time.perf_counter()\n",
    "knn.fit(X_train, y_train)\n",
    "training_end = time.perf_counter()\n",
    "prediction_start = time.perf_counter()\n",
    "preds = knn.predict(X_test)\n",
    "prediction_end = time.perf_counter()\n",
    "acc_knn = (preds == y_test).sum().astype(float) / len(preds)*100\n",
    "knn_train_time = training_end-training_start\n",
    "knn_prediction_time = prediction_end-prediction_start\n",
    "print(\"Scikit-Learn's K Nearest Neighbors Classifier's prediction accuracy is: %3.2f\" % (acc_knn))\n",
    "print(\"Time consumed for training: %4.3f seconds\" % (knn_train_time))\n",
    "print(\"Time consumed for prediction: %6.5f seconds\" % (knn_prediction_time))"
   ]
  },
  {
   "cell_type": "markdown",
   "metadata": {},
   "source": [
    "## Naive Bayes"
   ]
  },
  {
   "cell_type": "code",
   "execution_count": 106,
   "metadata": {},
   "outputs": [
    {
     "name": "stdout",
     "output_type": "stream",
     "text": [
      "Scikit-Learn's Gaussian Naive Bayes Classifier's prediction accuracy is: 34.55\n",
      "Time consumed for training: 0.001 seconds\n",
      "Time consumed for prediction: 0.00037 seconds\n"
     ]
    }
   ],
   "source": [
    "from sklearn.preprocessing import MaxAbsScaler\n",
    "scaler_gnb = MaxAbsScaler()\n",
    "sdss = scaler_gnb.fit_transform(df4.drop('Left_Retinopathy', axis=1))\n",
    "X_train_gnb, X_test_gnb, y_train_gnb, y_test_gnb = train_test_split(sdss, df4['Left_Retinopathy'], test_size=0.33)\n",
    "\n",
    "gnb = GaussianNB()\n",
    "training_start = time.perf_counter()\n",
    "gnb.fit(X_train_gnb, y_train_gnb)\n",
    "training_end = time.perf_counter()\n",
    "prediction_start = time.perf_counter()\n",
    "preds = gnb.predict(X_test_gnb)\n",
    "prediction_end = time.perf_counter()\n",
    "acc_gnb = (preds == y_test_gnb).sum().astype(float) / len(preds)*100\n",
    "gnb_train_time = training_end-training_start\n",
    "gnb_prediction_time = prediction_end-prediction_start\n",
    "print(\"Scikit-Learn's Gaussian Naive Bayes Classifier's prediction accuracy is: %3.2f\" % (acc_gnb))\n",
    "print(\"Time consumed for training: %4.3f seconds\" % (gnb_train_time))\n",
    "print(\"Time consumed for prediction: %6.5f seconds\" % (gnb_prediction_time))"
   ]
  },
  {
   "cell_type": "markdown",
   "metadata": {},
   "source": [
    "## XGBoost"
   ]
  },
  {
   "cell_type": "code",
   "execution_count": 107,
   "metadata": {},
   "outputs": [
    {
     "name": "stdout",
     "output_type": "stream",
     "text": [
      "XGBoost's prediction accuracy is: 89.85\n",
      "Time consumed for training: 0.974\n",
      "Time consumed for prediction: 0.00535 seconds\n"
     ]
    }
   ],
   "source": [
    "xgb = XGBClassifier(n_estimators=100)\n",
    "training_start = time.perf_counter()\n",
    "xgb.fit(X_train, y_train)\n",
    "training_end = time.perf_counter()\n",
    "prediction_start = time.perf_counter()\n",
    "preds = xgb.predict(X_test)\n",
    "prediction_end = time.perf_counter()\n",
    "acc_xgb = (preds == y_test).sum().astype(float) / len(preds)*100\n",
    "xgb_train_time = training_end-training_start\n",
    "xgb_prediction_time = prediction_end-prediction_start\n",
    "print(\"XGBoost's prediction accuracy is: %3.2f\" % (acc_xgb))\n",
    "print(\"Time consumed for training: %4.3f\" % (xgb_train_time))\n",
    "print(\"Time consumed for prediction: %6.5f seconds\" % (xgb_prediction_time))"
   ]
  },
  {
   "cell_type": "markdown",
   "metadata": {},
   "source": [
    "## Scitkit-Learn's Random Forest Classifier"
   ]
  },
  {
   "cell_type": "code",
   "execution_count": 108,
   "metadata": {},
   "outputs": [
    {
     "name": "stdout",
     "output_type": "stream",
     "text": [
      "Scikit-Learn's Random Forest Classifier's prediction accuracy is: 91.36\n",
      "Time consumed for training: 0.021 seconds\n",
      "Time consumed for prediction: 0.00247 seconds\n"
     ]
    }
   ],
   "source": [
    "rfc = RandomForestClassifier(n_estimators=10)\n",
    "training_start = time.perf_counter()\n",
    "rfc.fit(X_train, y_train)\n",
    "training_end = time.perf_counter()\n",
    "prediction_start = time.perf_counter()\n",
    "preds = rfc.predict(X_test)\n",
    "prediction_end = time.perf_counter()\n",
    "acc_rfc = (preds == y_test).sum().astype(float) / len(preds)*100\n",
    "rfc_train_time = training_end-training_start\n",
    "rfc_prediction_time = prediction_end-prediction_start\n",
    "print(\"Scikit-Learn's Random Forest Classifier's prediction accuracy is: %3.2f\" % (acc_rfc))\n",
    "print(\"Time consumed for training: %4.3f seconds\" % (rfc_train_time))\n",
    "print(\"Time consumed for prediction: %6.5f seconds\" % (rfc_prediction_time))"
   ]
  },
  {
   "cell_type": "markdown",
   "metadata": {},
   "source": [
    "## Support Vector Machine Classifier"
   ]
  },
  {
   "cell_type": "code",
   "execution_count": 109,
   "metadata": {},
   "outputs": [
    {
     "name": "stdout",
     "output_type": "stream",
     "text": [
      "Scikit-Learn's Support Vector Machine Classifier's prediction accuracy is: 38.64\n",
      "Time consumed for training: 0.070 seconds\n",
      "Time consumed for prediction: 0.01548 seconds\n"
     ]
    },
    {
     "name": "stderr",
     "output_type": "stream",
     "text": [
      "C:\\Users\\saral\\AppData\\Local\\Continuum\\anaconda3\\lib\\site-packages\\sklearn\\svm\\base.py:193: FutureWarning: The default value of gamma will change from 'auto' to 'scale' in version 0.22 to account better for unscaled features. Set gamma explicitly to 'auto' or 'scale' to avoid this warning.\n",
      "  \"avoid this warning.\", FutureWarning)\n"
     ]
    }
   ],
   "source": [
    "svc = SVC()\n",
    "training_start = time.perf_counter()\n",
    "svc.fit(X_train, y_train)\n",
    "training_end = time.perf_counter()\n",
    "prediction_start = time.perf_counter()\n",
    "preds = svc.predict(X_test)\n",
    "prediction_end = time.perf_counter()\n",
    "acc_svc = (preds == y_test).sum().astype(float) / len(preds)*100\n",
    "svc_train_time = training_end-training_start\n",
    "svc_prediction_time = prediction_end-prediction_start\n",
    "print(\"Scikit-Learn's Support Vector Machine Classifier's prediction accuracy is: %3.2f\" % (acc_svc))\n",
    "print(\"Time consumed for training: %4.3f seconds\" % (svc_train_time))\n",
    "print(\"Time consumed for prediction: %6.5f seconds\" % (svc_prediction_time))"
   ]
  },
  {
   "cell_type": "code",
   "execution_count": 110,
   "metadata": {},
   "outputs": [
    {
     "data": {
      "text/html": [
       "<div>\n",
       "<style scoped>\n",
       "    .dataframe tbody tr th:only-of-type {\n",
       "        vertical-align: middle;\n",
       "    }\n",
       "\n",
       "    .dataframe tbody tr th {\n",
       "        vertical-align: top;\n",
       "    }\n",
       "\n",
       "    .dataframe thead th {\n",
       "        text-align: right;\n",
       "    }\n",
       "</style>\n",
       "<table border=\"1\" class=\"dataframe\">\n",
       "  <thead>\n",
       "    <tr style=\"text-align: right;\">\n",
       "      <th></th>\n",
       "      <th>Accuracy</th>\n",
       "      <th>Runtime Training</th>\n",
       "      <th>Runtime Prediction</th>\n",
       "    </tr>\n",
       "    <tr>\n",
       "      <th>Model</th>\n",
       "      <th></th>\n",
       "      <th></th>\n",
       "      <th></th>\n",
       "    </tr>\n",
       "  </thead>\n",
       "  <tbody>\n",
       "    <tr>\n",
       "      <th>Random Forest</th>\n",
       "      <td>91.363636</td>\n",
       "      <td>0.021460</td>\n",
       "      <td>0.002467</td>\n",
       "    </tr>\n",
       "    <tr>\n",
       "      <th>XGBoost</th>\n",
       "      <td>89.848485</td>\n",
       "      <td>0.973916</td>\n",
       "      <td>0.005352</td>\n",
       "    </tr>\n",
       "    <tr>\n",
       "      <th>KNN</th>\n",
       "      <td>78.181818</td>\n",
       "      <td>0.004182</td>\n",
       "      <td>0.024484</td>\n",
       "    </tr>\n",
       "    <tr>\n",
       "      <th>SVC</th>\n",
       "      <td>38.636364</td>\n",
       "      <td>0.070096</td>\n",
       "      <td>0.015483</td>\n",
       "    </tr>\n",
       "    <tr>\n",
       "      <th>Naive Bayes</th>\n",
       "      <td>34.545455</td>\n",
       "      <td>0.000995</td>\n",
       "      <td>0.000373</td>\n",
       "    </tr>\n",
       "  </tbody>\n",
       "</table>\n",
       "</div>"
      ],
      "text/plain": [
       "                Accuracy  Runtime Training  Runtime Prediction\n",
       "Model                                                         \n",
       "Random Forest  91.363636          0.021460            0.002467\n",
       "XGBoost        89.848485          0.973916            0.005352\n",
       "KNN            78.181818          0.004182            0.024484\n",
       "SVC            38.636364          0.070096            0.015483\n",
       "Naive Bayes    34.545455          0.000995            0.000373"
      ]
     },
     "execution_count": 110,
     "metadata": {},
     "output_type": "execute_result"
    }
   ],
   "source": [
    "results = pd.DataFrame({\n",
    "    'Model': ['KNN', 'Naive Bayes', \n",
    "              'XGBoost', 'Random Forest', 'SVC'],\n",
    "    'Accuracy': [acc_knn, acc_gnb, acc_xgb, acc_rfc, acc_svc],\n",
    "    'Runtime Training': [knn_train_time, gnb_train_time, xgb_train_time, rfc_train_time, \n",
    "                         svc_train_time],\n",
    "    'Runtime Prediction': [knn_prediction_time, gnb_prediction_time, xgb_prediction_time, rfc_prediction_time,\n",
    "                          svc_prediction_time]})\n",
    "result_df = results.sort_values(by='Accuracy', ascending=False)\n",
    "result_df = result_df.set_index('Model')\n",
    "result_df\n"
   ]
  },
  {
   "cell_type": "markdown",
   "metadata": {},
   "source": [
    "# K Fold Cross Validation"
   ]
  },
  {
   "cell_type": "markdown",
   "metadata": {},
   "source": [
    "## Scikit-Learn's Random Forest Classifier"
   ]
  },
  {
   "cell_type": "code",
   "execution_count": 111,
   "metadata": {},
   "outputs": [
    {
     "name": "stdout",
     "output_type": "stream",
     "text": [
      "Scores: [0.875      0.875      0.90441176 0.89552239 0.87313433 0.91044776\n",
      " 0.92537313 0.91666667 0.86363636 0.90151515]\n",
      "Mean: 0.8940707558464362\n",
      "Standard Deviation: 0.020037606638612347\n"
     ]
    }
   ],
   "source": [
    "from sklearn.model_selection import cross_val_score\n",
    "rfc_cv = RandomForestClassifier(n_estimators=100)\n",
    "scores = cross_val_score(rfc_cv, X_train, y_train, cv=10, scoring = \"accuracy\")\n",
    "print(\"Scores:\", scores)\n",
    "print(\"Mean:\", scores.mean())\n",
    "print(\"Standard Deviation:\", scores.std())"
   ]
  },
  {
   "cell_type": "markdown",
   "metadata": {},
   "source": [
    "## XGBoost"
   ]
  },
  {
   "cell_type": "code",
   "execution_count": 112,
   "metadata": {},
   "outputs": [
    {
     "name": "stdout",
     "output_type": "stream",
     "text": [
      "Scores: [0.86029412 0.88235294 0.91911765 0.8880597  0.91044776 0.91791045\n",
      " 0.91791045 0.90909091 0.87121212 0.90909091]\n",
      "Mean: 0.8985487003485246\n",
      "Standard Deviation: 0.02029710186839586\n"
     ]
    }
   ],
   "source": [
    "xgb_cv = XGBClassifier(n_estimators=100)\n",
    "scores = cross_val_score(xgb_cv, X_train, y_train, cv=10, scoring = \"accuracy\")\n",
    "print(\"Scores:\", scores)\n",
    "print(\"Mean:\", scores.mean())\n",
    "print(\"Standard Deviation:\", scores.std())"
   ]
  },
  {
   "cell_type": "markdown",
   "metadata": {},
   "source": [
    "XGBoost showed a higher mean and lower standard deviation than the Scikit-Learn RFC. A high mean corresponds to a more stable performance and a low standard deviation corresponds to smaller range of results."
   ]
  },
  {
   "cell_type": "code",
   "execution_count": 113,
   "metadata": {},
   "outputs": [],
   "source": [
    "import pickle\n",
    "from sklearn import model_selection\n",
    "from sklearn.metrics import accuracy_score\n",
    "from matplotlib import pyplot"
   ]
  },
  {
   "cell_type": "markdown",
   "metadata": {},
   "source": [
    "### save model to file"
   ]
  },
  {
   "cell_type": "code",
   "execution_count": 114,
   "metadata": {},
   "outputs": [],
   "source": [
    "#pickle.dump(xgb, open(\"xgbModel_V1.pkl\", \"wb\"))"
   ]
  },
  {
   "cell_type": "code",
   "execution_count": 115,
   "metadata": {},
   "outputs": [],
   "source": [
    "\n",
    "pickle.dump(rfc, open(\"Random_Left.pkl\", \"wb\"))"
   ]
  },
  {
   "cell_type": "markdown",
   "metadata": {},
   "source": [
    "### load model from file"
   ]
  },
  {
   "cell_type": "code",
   "execution_count": 116,
   "metadata": {},
   "outputs": [],
   "source": [
    "#loaded_model = pickle.load(open(\"xgbModel_V1.pkl\", \"rb\"))"
   ]
  },
  {
   "cell_type": "code",
   "execution_count": 117,
   "metadata": {},
   "outputs": [],
   "source": [
    "loaded_model = pickle.load(open(\"Random_Left.pkl\", \"rb\"))"
   ]
  },
  {
   "cell_type": "code",
   "execution_count": 118,
   "metadata": {},
   "outputs": [],
   "source": [
    "# make predictions for test data\n",
    "y_pred = loaded_model.predict(X_test)\n",
    "predictions = [round(value) for value in y_pred]"
   ]
  },
  {
   "cell_type": "code",
   "execution_count": 119,
   "metadata": {},
   "outputs": [
    {
     "name": "stdout",
     "output_type": "stream",
     "text": [
      "Accuracy: 91.36%\n"
     ]
    }
   ],
   "source": [
    "# evaluate predictions\n",
    "accuracy = accuracy_score(y_test, predictions)\n",
    "print(\"Accuracy: %.2f%%\" % (accuracy * 100.0))"
   ]
  },
  {
   "cell_type": "code",
   "execution_count": 120,
   "metadata": {},
   "outputs": [
    {
     "name": "stdout",
     "output_type": "stream",
     "text": [
      "[1]\n"
     ]
    }
   ],
   "source": [
    "model= pickle.load(open('Random_Left.pkl','rb'))\n",
    "print(model.predict([[0,64,0.48,0.78,25]]))"
   ]
  },
  {
   "cell_type": "code",
   "execution_count": 121,
   "metadata": {},
   "outputs": [
    {
     "data": {
      "text/html": [
       "<div>\n",
       "<style scoped>\n",
       "    .dataframe tbody tr th:only-of-type {\n",
       "        vertical-align: middle;\n",
       "    }\n",
       "\n",
       "    .dataframe tbody tr th {\n",
       "        vertical-align: top;\n",
       "    }\n",
       "\n",
       "    .dataframe thead th {\n",
       "        text-align: right;\n",
       "    }\n",
       "</style>\n",
       "<table border=\"1\" class=\"dataframe\">\n",
       "  <thead>\n",
       "    <tr style=\"text-align: right;\">\n",
       "      <th></th>\n",
       "      <th>Gender</th>\n",
       "      <th>Age</th>\n",
       "      <th>Right_VA</th>\n",
       "      <th>Left_VA</th>\n",
       "      <th>HowLong</th>\n",
       "    </tr>\n",
       "  </thead>\n",
       "  <tbody>\n",
       "    <tr>\n",
       "      <th>0</th>\n",
       "      <td>0</td>\n",
       "      <td>60</td>\n",
       "      <td>0.00</td>\n",
       "      <td>0.18</td>\n",
       "      <td>11</td>\n",
       "    </tr>\n",
       "    <tr>\n",
       "      <th>1</th>\n",
       "      <td>0</td>\n",
       "      <td>45</td>\n",
       "      <td>0.60</td>\n",
       "      <td>0.18</td>\n",
       "      <td>13</td>\n",
       "    </tr>\n",
       "    <tr>\n",
       "      <th>2</th>\n",
       "      <td>0</td>\n",
       "      <td>52</td>\n",
       "      <td>0.18</td>\n",
       "      <td>0.00</td>\n",
       "      <td>16</td>\n",
       "    </tr>\n",
       "    <tr>\n",
       "      <th>3</th>\n",
       "      <td>1</td>\n",
       "      <td>65</td>\n",
       "      <td>0.18</td>\n",
       "      <td>0.30</td>\n",
       "      <td>14</td>\n",
       "    </tr>\n",
       "    <tr>\n",
       "      <th>4</th>\n",
       "      <td>1</td>\n",
       "      <td>63</td>\n",
       "      <td>0.30</td>\n",
       "      <td>0.60</td>\n",
       "      <td>5</td>\n",
       "    </tr>\n",
       "    <tr>\n",
       "      <th>5</th>\n",
       "      <td>1</td>\n",
       "      <td>59</td>\n",
       "      <td>0.60</td>\n",
       "      <td>0.60</td>\n",
       "      <td>7</td>\n",
       "    </tr>\n",
       "  </tbody>\n",
       "</table>\n",
       "</div>"
      ],
      "text/plain": [
       "   Gender  Age  Right_VA  Left_VA  HowLong\n",
       "0       0   60      0.00     0.18       11\n",
       "1       0   45      0.60     0.18       13\n",
       "2       0   52      0.18     0.00       16\n",
       "3       1   65      0.18     0.30       14\n",
       "4       1   63      0.30     0.60        5\n",
       "5       1   59      0.60     0.60        7"
      ]
     },
     "execution_count": 121,
     "metadata": {},
     "output_type": "execute_result"
    }
   ],
   "source": [
    "data_df= pd.read_csv(r'test.csv')\n",
    "data_df"
   ]
  },
  {
   "cell_type": "code",
   "execution_count": 122,
   "metadata": {},
   "outputs": [],
   "source": [
    "model= pickle.load(open('Random_Left.pkl','rb'))"
   ]
  },
  {
   "cell_type": "code",
   "execution_count": 123,
   "metadata": {},
   "outputs": [],
   "source": [
    "y_pred = rfc.predict(X_test)"
   ]
  },
  {
   "cell_type": "code",
   "execution_count": 124,
   "metadata": {
    "scrolled": true
   },
   "outputs": [
    {
     "name": "stdout",
     "output_type": "stream",
     "text": [
      "[[104   3  15   0   5]\n",
      " [  0 143   0   0   0]\n",
      " [ 22   5  93   4   3]\n",
      " [  0   0   0 123   0]\n",
      " [  0   0   0   0 140]]\n",
      "              precision    recall  f1-score   support\n",
      "\n",
      "           0       0.83      0.82      0.82       127\n",
      "           1       0.95      1.00      0.97       143\n",
      "           2       0.86      0.73      0.79       127\n",
      "           3       0.97      1.00      0.98       123\n",
      "           4       0.95      1.00      0.97       140\n",
      "\n",
      "    accuracy                           0.91       660\n",
      "   macro avg       0.91      0.91      0.91       660\n",
      "weighted avg       0.91      0.91      0.91       660\n",
      "\n",
      "0.9136363636363637\n"
     ]
    }
   ],
   "source": [
    "from sklearn.metrics import classification_report, confusion_matrix, accuracy_score\n",
    "\n",
    "print(confusion_matrix(y_test,y_pred))\n",
    "print(classification_report(y_test,y_pred))\n",
    "print(accuracy_score(y_test, y_pred))"
   ]
  },
  {
   "cell_type": "code",
   "execution_count": 125,
   "metadata": {},
   "outputs": [],
   "source": [
    "from sklearn.metrics import classification_report, confusion_matrix\n",
    "import itertools\n",
    "\n",
    "def plot_confusion_matrix(cm, classes,normalize=False, title= 'Confusion Matrix', cmap= plt.cm.Blues):\n",
    "    print(cm)\n",
    "    \n",
    "    plt.imshow(cm, interpolation='nearest', cmap=cmap)\n",
    "    plt.title(title)\n",
    "    plt.colorbar()\n",
    "    tick_marks= np.arange(len(classes))\n",
    "    plt.xticks(tick_marks, classes, rotation=45)\n",
    "    plt.yticks(tick_marks, classes)\n",
    "\n",
    "    fmt = '.2f' if normalize else 'd'\n",
    "    thresh = cm.max() / 2.\n",
    "    for i, j in itertools.product(range(cm.shape[0]), range(cm.shape[1])):\n",
    "        plt.text(j, i, format(cm[i, j], fmt),\n",
    "                     horizontalalignment=\"center\",\n",
    "                 color=\"white\" if cm[i, j] > thresh else \"black\")\n",
    "\n",
    "    plt.tight_layout()\n",
    "    plt.ylabel('True label')\n",
    "    plt.xlabel('Predicted label')"
   ]
  },
  {
   "cell_type": "code",
   "execution_count": 126,
   "metadata": {},
   "outputs": [
    {
     "name": "stdout",
     "output_type": "stream",
     "text": [
      "[[140   0   0   0   0]\n",
      " [  0 123   0   0   0]\n",
      " [  3   4  93   5  22]\n",
      " [  0   0   0 143   0]\n",
      " [  5   0  15   3 104]]\n"
     ]
    },
    {
     "data": {
      "image/png": "[encoded data removed]",
      "text/plain": [
       "<Figure size 432x288 with 2 Axes>"
      ]
     },
     "metadata": {
      "needs_background": "light"
     },
     "output_type": "display_data"
    }
   ],
   "source": [
    "cnf_matrix = confusion_matrix(y_test, y_pred, labels=[4,3,2,1,0])\n",
    "plt.figure()\n",
    "plot_confusion_matrix(cnf_matrix, classes=['PDR=4','Severe DR=3','Moderate DR=2','Mild DR=1','No DR=0' ],normalize= False,  title='Confusion matrix')"
   ]
  },
  {
   "cell_type": "code",
   "execution_count": null,
   "metadata": {},
   "outputs": [],
   "source": []
  },
  {
   "cell_type": "code",
   "execution_count": null,
   "metadata": {},
   "outputs": [],
   "source": []
  },
  {
   "cell_type": "code",
   "execution_count": 127,
   "metadata": {},
   "outputs": [],
   "source": [
    "y_pred = xgb.predict(X_test)"
   ]
  },
  {
   "cell_type": "code",
   "execution_count": 128,
   "metadata": {
    "scrolled": true
   },
   "outputs": [
    {
     "name": "stdout",
     "output_type": "stream",
     "text": [
      "[[ 97   5  23   0   2]\n",
      " [  0 143   0   0   0]\n",
      " [ 27   7  90   3   0]\n",
      " [  0   0   0 123   0]\n",
      " [  0   0   0   0 140]]\n",
      "              precision    recall  f1-score   support\n",
      "\n",
      "           0       0.78      0.76      0.77       127\n",
      "           1       0.92      1.00      0.96       143\n",
      "           2       0.80      0.71      0.75       127\n",
      "           3       0.98      1.00      0.99       123\n",
      "           4       0.99      1.00      0.99       140\n",
      "\n",
      "    accuracy                           0.90       660\n",
      "   macro avg       0.89      0.89      0.89       660\n",
      "weighted avg       0.89      0.90      0.90       660\n",
      "\n",
      "0.8984848484848484\n"
     ]
    }
   ],
   "source": [
    "from sklearn.metrics import classification_report, confusion_matrix, accuracy_score\n",
    "\n",
    "print(confusion_matrix(y_test,y_pred))\n",
    "print(classification_report(y_test,y_pred))\n",
    "print(accuracy_score(y_test, y_pred))"
   ]
  },
  {
   "cell_type": "code",
   "execution_count": 129,
   "metadata": {},
   "outputs": [],
   "source": [
    "from sklearn.metrics import classification_report, confusion_matrix\n",
    "import itertools\n",
    "\n",
    "def plot_confusion_matrix(cm, classes,normalize=False, title= 'Confusion Matrix', cmap= plt.cm.Blues):\n",
    "    print(cm)\n",
    "    \n",
    "    plt.imshow(cm, interpolation='nearest', cmap=cmap)\n",
    "    plt.title(title)\n",
    "    plt.colorbar()\n",
    "    tick_marks= np.arange(len(classes))\n",
    "    plt.xticks(tick_marks, classes, rotation=45)\n",
    "    plt.yticks(tick_marks, classes)\n",
    "\n",
    "    fmt = '.2f' if normalize else 'd'\n",
    "    thresh = cm.max() / 2.\n",
    "    for i, j in itertools.product(range(cm.shape[0]), range(cm.shape[1])):\n",
    "        plt.text(j, i, format(cm[i, j], fmt),\n",
    "                     horizontalalignment=\"center\",\n",
    "                 color=\"white\" if cm[i, j] > thresh else \"black\")\n",
    "\n",
    "    plt.tight_layout()\n",
    "    plt.ylabel('True label')\n",
    "    plt.xlabel('Predicted label')"
   ]
  },
  {
   "cell_type": "code",
   "execution_count": 134,
   "metadata": {},
   "outputs": [
    {
     "name": "stdout",
     "output_type": "stream",
     "text": [
      "[[140   0   0   0   0]\n",
      " [  0 123   0   0   0]\n",
      " [  0   3  90   7  27]\n",
      " [  0   0   0 143   0]\n",
      " [  2   0  23   5  97]]\n"
     ]
    },
    {
     "data": {
      "image/png": "[encoded data removed]",
      "text/plain": [
       "<Figure size 432x288 with 2 Axes>"
      ]
     },
     "metadata": {
      "needs_background": "light"
     },
     "output_type": "display_data"
    }
   ],
   "source": [
    "cnf_matrix = confusion_matrix(y_test, y_pred, labels=[4,3,2,1,0])\n",
    "plt.figure()\n",
    "plot_confusion_matrix(cnf_matrix, classes=['PDR=4','Severe DR=3','Moderate DR=2','Mild DR=1','No DR=0' ],normalize= False,  title='Left eye Confusion matrix')"
   ]
  },
  {
   "cell_type": "code",
   "execution_count": null,
   "metadata": {},
   "outputs": [],
   "source": []
  },
  {
   "cell_type": "markdown",
   "metadata": {},
   "source": [
    "### Test The Model"
   ]
  },
  {
   "cell_type": "code",
   "execution_count": 131,
   "metadata": {},
   "outputs": [],
   "source": [
    "def predict():\n",
    "    predict_df= data_df.filter(['Gender','Age','Right_VA', 'Left_VA','HowLong'])\n",
    "    predict= model.predict(predict_df)\n",
    "    output= pd.DataFrame({'Gender':predict_df.Gender,\n",
    "                          'Age':predict_df.Age,\n",
    "                          'Right_VA':predict_df.Right_VA,\n",
    "                          'Left_VA':predict_df.Left_VA,\n",
    "                          'HowLong':predict_df.HowLong,\n",
    "                         'Prediction_Class': predict})\n",
    "    return output.to_csv('predicted_Left.csv',index= False)\n"
   ]
  },
  {
   "cell_type": "code",
   "execution_count": 132,
   "metadata": {},
   "outputs": [],
   "source": [
    "predict()"
   ]
  },
  {
   "cell_type": "code",
   "execution_count": 133,
   "metadata": {},
   "outputs": [
    {
     "data": {
      "text/html": [
       "<div>\n",
       "<style scoped>\n",
       "    .dataframe tbody tr th:only-of-type {\n",
       "        vertical-align: middle;\n",
       "    }\n",
       "\n",
       "    .dataframe tbody tr th {\n",
       "        vertical-align: top;\n",
       "    }\n",
       "\n",
       "    .dataframe thead th {\n",
       "        text-align: right;\n",
       "    }\n",
       "</style>\n",
       "<table border=\"1\" class=\"dataframe\">\n",
       "  <thead>\n",
       "    <tr style=\"text-align: right;\">\n",
       "      <th></th>\n",
       "      <th>Gender</th>\n",
       "      <th>Age</th>\n",
       "      <th>Right_VA</th>\n",
       "      <th>Left_VA</th>\n",
       "      <th>HowLong</th>\n",
       "      <th>Prediction_Class</th>\n",
       "    </tr>\n",
       "  </thead>\n",
       "  <tbody>\n",
       "    <tr>\n",
       "      <th>0</th>\n",
       "      <td>0</td>\n",
       "      <td>60</td>\n",
       "      <td>0.00</td>\n",
       "      <td>0.18</td>\n",
       "      <td>11</td>\n",
       "      <td>2</td>\n",
       "    </tr>\n",
       "    <tr>\n",
       "      <th>1</th>\n",
       "      <td>0</td>\n",
       "      <td>45</td>\n",
       "      <td>0.60</td>\n",
       "      <td>0.18</td>\n",
       "      <td>13</td>\n",
       "      <td>0</td>\n",
       "    </tr>\n",
       "    <tr>\n",
       "      <th>2</th>\n",
       "      <td>0</td>\n",
       "      <td>52</td>\n",
       "      <td>0.18</td>\n",
       "      <td>0.00</td>\n",
       "      <td>16</td>\n",
       "      <td>0</td>\n",
       "    </tr>\n",
       "    <tr>\n",
       "      <th>3</th>\n",
       "      <td>1</td>\n",
       "      <td>65</td>\n",
       "      <td>0.18</td>\n",
       "      <td>0.30</td>\n",
       "      <td>14</td>\n",
       "      <td>2</td>\n",
       "    </tr>\n",
       "    <tr>\n",
       "      <th>4</th>\n",
       "      <td>1</td>\n",
       "      <td>63</td>\n",
       "      <td>0.30</td>\n",
       "      <td>0.60</td>\n",
       "      <td>5</td>\n",
       "      <td>4</td>\n",
       "    </tr>\n",
       "    <tr>\n",
       "      <th>5</th>\n",
       "      <td>1</td>\n",
       "      <td>59</td>\n",
       "      <td>0.60</td>\n",
       "      <td>0.60</td>\n",
       "      <td>7</td>\n",
       "      <td>4</td>\n",
       "    </tr>\n",
       "  </tbody>\n",
       "</table>\n",
       "</div>"
      ],
      "text/plain": [
       "   Gender  Age  Right_VA  Left_VA  HowLong  Prediction_Class\n",
       "0       0   60      0.00     0.18       11                 2\n",
       "1       0   45      0.60     0.18       13                 0\n",
       "2       0   52      0.18     0.00       16                 0\n",
       "3       1   65      0.18     0.30       14                 2\n",
       "4       1   63      0.30     0.60        5                 4\n",
       "5       1   59      0.60     0.60        7                 4"
      ]
     },
     "execution_count": 133,
     "metadata": {},
     "output_type": "execute_result"
    }
   ],
   "source": [
    "predicted_df= pd.read_csv(r'predicted_Left.csv')\n",
    "predicted_df"
   ]
  },
  {
   "cell_type": "code",
   "execution_count": null,
   "metadata": {},
   "outputs": [],
   "source": []
  },
  {
   "cell_type": "code",
   "execution_count": null,
   "metadata": {},
   "outputs": [],
   "source": []
  }
 ],
 "metadata": {
  "kernelspec": {
   "display_name": "Python 3",
   "language": "python",
   "name": "python3"
  },
  "language_info": {
   "codemirror_mode": {
    "name": "ipython",
    "version": 3
   },
   "file_extension": ".py",
   "mimetype": "text/x-python",
   "name": "python",
   "nbconvert_exporter": "python",
   "pygments_lexer": "ipython3",
   "version": "3.7.3"
  }
 },
 "nbformat": 4,
 "nbformat_minor": 2
}
