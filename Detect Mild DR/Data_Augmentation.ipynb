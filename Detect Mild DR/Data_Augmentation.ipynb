{
 "cells": [
  {
   "cell_type": "code",
   "execution_count": 1,
   "metadata": {},
   "outputs": [],
   "source": [
    "# Import required libraries\n",
    "\n",
    "import cv2\n",
    "import os\n",
    "import glob"
   ]
  },
  {
   "cell_type": "code",
   "execution_count": 2,
   "metadata": {},
   "outputs": [],
   "source": [
    "#function to rotate images t0 270\n",
    "\n",
    "def rotate_images_270(img):\n",
    "    \"\"\"\n",
    "    This function allows the images to be rotated 270 degrees\n",
    "    :param img: input image to be rotated\n",
    "    :return: rotated image\n",
    "    \"\"\"\n",
    "    assert (img is not None), \"No image to augment.\"\n",
    "    # get image height, width\n",
    "    (h, w) = img.shape[:2]\n",
    "    # calculate the center of the image\n",
    "    center = (w / 2, h / 2)\n",
    "\n",
    "    angle270 = 90\n",
    "\n",
    "    scale = 1.0\n",
    "\n",
    "    # Perform the counter clockwise rotation holding at the center\n",
    "    # 270 degrees\n",
    "    M = cv2.getRotationMatrix2D(center, angle270, scale)\n",
    "    rotated270 = cv2.warpAffine(img, M, (h, w))\n",
    "    return rotated270"
   ]
  },
  {
   "cell_type": "code",
   "execution_count": 3,
   "metadata": {},
   "outputs": [],
   "source": [
    "#function to rotate images t0 180\n",
    "\n",
    "def rotate_images_180(img):\n",
    "    \"\"\"\n",
    "    This function allows the images to be rotated 180 degrees\n",
    "    :param img: input image to be rotated\n",
    "    :return: rotated 180 degree image\n",
    "    \"\"\"\n",
    "    assert (img is not None), \"No image to augment.\"\n",
    "\n",
    "    # get image height, width\n",
    "    (h, w) = img.shape[:2]\n",
    "    # calculate the center of the image\n",
    "    center = (w / 2, h / 2)\n",
    "\n",
    "    angle180 = 0\n",
    "\n",
    "    scale = 1.0\n",
    "\n",
    "    # Perform the counter clockwise rotation holding at the center\n",
    "    # 180 degrees\n",
    "    M = cv2.getRotationMatrix2D(center, angle180, scale)\n",
    "    rotated180 = cv2.warpAffine(img, M, (h, w))\n",
    "\n",
    "    return rotated180"
   ]
  },
  {
   "cell_type": "code",
   "execution_count": 4,
   "metadata": {},
   "outputs": [],
   "source": [
    "def augment_images():\n",
    "    \"\"\"\n",
    "    This function allows us to use the rotating functions and rotate the images and eventually write the\n",
    "    images in a folder with a different name.\n",
    "    :return:\n",
    "    \"\"\"\n",
    "    mypath = 'C:/Users/Sarala/Desktop/MypartWithData/Images/Other/Pre_V2'\n",
    "    path = os.path.join(mypath, '*jpg')\n",
    "    files = glob.glob(path)\n",
    "    image_size = 512\n",
    "    images = []\n",
    "    for fl in files:\n",
    "        image = cv2.imread(fl)\n",
    "        image = cv2.resize(image, (image_size, image_size), 0, 0, cv2.INTER_LINEAR)\n",
    "        rotated_image270 = rotate_images_270(image)   # rotate 270\n",
    "        rotated_image180 = rotate_images_180(image)   # rotate 180\n",
    "        images.append(rotated_image270)  # images = np.array(images)\n",
    "        images.append(rotated_image180)\n",
    "\n",
    "    assert (len(images) > 0), \"No images were augmented. Maybe the image folder is empty.\"\n",
    "\n",
    "    for i, face in enumerate(images):\n",
    "        cv2.imwrite( \"C:/Users/Sarala/Desktop/MypartWithData/Images/Other/Pre_V2/Other_5\" + str(i) + \".jpg\", face)\n",
    "\n",
    "if __name__ == \"__main__\":\n",
    "     augment_images()"
   ]
  },
  {
   "cell_type": "code",
   "execution_count": null,
   "metadata": {},
   "outputs": [],
   "source": []
  },
  {
   "cell_type": "code",
   "execution_count": null,
   "metadata": {},
   "outputs": [],
   "source": []
  }
 ],
 "metadata": {
  "anaconda-cloud": {},
  "kernelspec": {
   "display_name": "Python 3",
   "language": "python",
   "name": "python3"
  },
  "language_info": {
   "codemirror_mode": {
    "name": "ipython",
    "version": 3
   },
   "file_extension": ".py",
   "mimetype": "text/x-python",
   "name": "python",
   "nbconvert_exporter": "python",
   "pygments_lexer": "ipython3",
   "version": "3.7.3"
  }
 },
 "nbformat": 4,
 "nbformat_minor": 1
}
