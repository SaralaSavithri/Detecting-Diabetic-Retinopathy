{
 "cells": [
  {
   "cell_type": "code",
   "execution_count": 7,
   "metadata": {},
   "outputs": [],
   "source": [
    "# Import required libraries\n",
    "\n",
    "import tensorflow as tf"
   ]
  },
  {
   "cell_type": "code",
   "execution_count": 8,
   "metadata": {},
   "outputs": [
    {
     "name": "stderr",
     "output_type": "stream",
     "text": [
      "Using TensorFlow backend.\n"
     ]
    }
   ],
   "source": [
    "import keras \n"
   ]
  },
  {
   "cell_type": "code",
   "execution_count": 9,
   "metadata": {},
   "outputs": [],
   "source": [
    "#print (\"TensorFlow version: \" + tf.__version__)"
   ]
  },
  {
   "cell_type": "code",
   "execution_count": 10,
   "metadata": {},
   "outputs": [],
   "source": [
    "import keras"
   ]
  },
  {
   "cell_type": "code",
   "execution_count": 11,
   "metadata": {},
   "outputs": [
    {
     "data": {
      "text/plain": [
       "'2.3.1'"
      ]
     },
     "execution_count": 11,
     "metadata": {},
     "output_type": "execute_result"
    }
   ],
   "source": [
    "keras.__version__"
   ]
  },
  {
   "cell_type": "code",
   "execution_count": 12,
   "metadata": {},
   "outputs": [],
   "source": [
    "#pip list"
   ]
  },
  {
   "cell_type": "code",
   "execution_count": 13,
   "metadata": {},
   "outputs": [],
   "source": [
    "import cv2\n",
    "#cv2.__version__\n"
   ]
  },
  {
   "cell_type": "code",
   "execution_count": 14,
   "metadata": {},
   "outputs": [],
   "source": [
    "import os"
   ]
  },
  {
   "cell_type": "code",
   "execution_count": 15,
   "metadata": {},
   "outputs": [],
   "source": [
    "import cv2, glob, os\n",
    "import numpy as np\n"
   ]
  },
  {
   "cell_type": "code",
   "execution_count": 16,
   "metadata": {},
   "outputs": [],
   "source": [
    "#This function estimates the radius of the retina\n",
    "\n",
    "def estimate_radius(img):\n",
    "    \n",
    "    mx = img[img.shape[0] // 2, :, :].sum(1)\n",
    "    rx = (mx > mx.mean() / 10).sum() / 2\n",
    "\n",
    "    my = img[:, img.shape[1] // 2, :].sum(1)\n",
    "    ry = (my > my.mean() / 10).sum() / 2\n",
    "\n",
    "    return (ry, rx)"
   ]
  },
  {
   "cell_type": "code",
   "execution_count": 17,
   "metadata": {},
   "outputs": [],
   "source": [
    "#This function crops the image in a specific fashion\n",
    "\n",
    "def crop_img(img, h, w):\n",
    "    \n",
    "    h_margin = (img.shape[0] - h) // 2 if img.shape[0] > h else 0\n",
    "    w_margin = (img.shape[1] - w) // 2 if img.shape[1] > w else 0\n",
    "\n",
    "    crop_img = img[h_margin:h + h_margin,w_margin:w + w_margin,:]\n",
    "\n",
    "    return crop_img"
   ]
  },
  {
   "cell_type": "code",
   "execution_count": 18,
   "metadata": {},
   "outputs": [],
   "source": [
    "#This function helps to subtract the blurs in the image by usign the guassian elimination function\n",
    "\n",
    "def subtract_gaussian_blur(img):\n",
    "    \n",
    "    gb_img = cv2.GaussianBlur(img, (0, 0), 5)\n",
    "\n",
    "    return cv2.addWeighted(img, 4, gb_img, -4, 128)"
   ]
  },
  {
   "cell_type": "code",
   "execution_count": 19,
   "metadata": {},
   "outputs": [],
   "source": [
    "#Removes the outer border of the retina\n",
    "\n",
    "def remove_outer_circle(a, p, r):\n",
    "    \n",
    "    b = np.zeros(a.shape, dtype=np.uint8)\n",
    "    cv2.circle(b, (a.shape[1] // 2, a.shape[0] // 2), int(r * p), (1, 1, 1), -1, 8, 0)\n",
    "\n",
    "    return a * b + 128 * (1 - b)\n",
    "    "
   ]
  },
  {
   "cell_type": "code",
   "execution_count": 20,
   "metadata": {},
   "outputs": [],
   "source": [
    "#Places the image in a square\n",
    "\n",
    "def place_in_square(img, r, h, w):\n",
    "    \n",
    "    new_img = np.zeros((2 * r, 2 * r, 3), dtype=np.uint8)\n",
    "    new_img += 128\n",
    "    new_img[r - h // 2:r - h // 2 + img.shape[0], r - w // 2:r - w // 2 + img.shape[1]] = img\n",
    "\n",
    "    return new_img"
   ]
  },
  {
   "cell_type": "code",
   "execution_count": 21,
   "metadata": {},
   "outputs": [
    {
     "name": "stdout",
     "output_type": "stream",
     "text": [
      "Writing to file..\n",
      "write complete\n",
      "Writing to file..\n",
      "write complete\n",
      "Writing to file..\n",
      "write complete\n",
      "Writing to file..\n",
      "write complete\n",
      "Writing to file..\n",
      "write complete\n",
      "Writing to file..\n",
      "write complete\n",
      "Writing to file..\n",
      "write complete\n",
      "Writing to file..\n",
      "write complete\n",
      "Writing to file..\n",
      "write complete\n",
      "Writing to file..\n",
      "write complete\n",
      "Writing to file..\n",
      "write complete\n",
      "Writing to file..\n",
      "write complete\n",
      "Writing to file..\n",
      "write complete\n",
      "Writing to file..\n",
      "write complete\n",
      "Writing to file..\n",
      "write complete\n",
      "Writing to file..\n",
      "write complete\n",
      "Writing to file..\n",
      "write complete\n",
      "Writing to file..\n",
      "write complete\n",
      "Writing to file..\n",
      "write complete\n",
      "Writing to file..\n",
      "write complete\n",
      "Writing to file..\n",
      "write complete\n",
      "Writing to file..\n",
      "write complete\n",
      "Writing to file..\n",
      "write complete\n",
      "Writing to file..\n",
      "write complete\n",
      "Writing to file..\n",
      "write complete\n",
      "Writing to file..\n",
      "write complete\n",
      "Writing to file..\n",
      "write complete\n",
      "Writing to file..\n",
      "write complete\n",
      "Writing to file..\n",
      "write complete\n",
      "Writing to file..\n",
      "write complete\n",
      "Writing to file..\n",
      "write complete\n",
      "Writing to file..\n",
      "write complete\n",
      "Writing to file..\n",
      "write complete\n",
      "Writing to file..\n",
      "write complete\n",
      "Writing to file..\n",
      "write complete\n",
      "Writing to file..\n",
      "write complete\n",
      "Writing to file..\n",
      "write complete\n",
      "Writing to file..\n",
      "write complete\n",
      "Writing to file..\n",
      "write complete\n",
      "Writing to file..\n",
      "write complete\n",
      "Writing to file..\n",
      "write complete\n",
      "Writing to file..\n",
      "write complete\n",
      "Writing to file..\n",
      "write complete\n",
      "Writing to file..\n",
      "write complete\n",
      "Writing to file..\n",
      "write complete\n",
      "Writing to file..\n",
      "write complete\n",
      "Writing to file..\n",
      "write complete\n",
      "Writing to file..\n",
      "write complete\n",
      "Writing to file..\n",
      "write complete\n",
      "Writing to file..\n",
      "write complete\n",
      "Writing to file..\n",
      "write complete\n"
     ]
    }
   ],
   "source": [
    "if __name__ == \"__main__\":\n",
    "\n",
    "    mypath = 'C:/Users/Sarala/Desktop/MypartWithData/Images/Other/Original'\n",
    "    path = os.path.join(mypath, '*jpg')\n",
    "    files = glob.glob(path)\n",
    "    image_size = 512\n",
    "    scale = 256  # target radius\n",
    "    images = []\n",
    "\n",
    "    for fl in files:\n",
    "        img = cv2.imread(fl)\n",
    "        ry, rx = estimate_radius(img)\n",
    "        resize_scale = scale / max(rx, ry)\n",
    "        w = min(int(rx * resize_scale * 2), scale * 2)\n",
    "        h = min(int(ry * resize_scale * 2), scale * 2)\n",
    "        img_resize = cv2.resize(img.copy(), (0, 0), fx=resize_scale, fy=resize_scale)\n",
    "        img_crop = crop_img(img_resize.copy(), h, w)\n",
    "        img_gbs = subtract_gaussian_blur(img_crop.copy())\n",
    "        #img_remove_outer = remove_outer_circle(img_gbs.copy(), 0.9, scale)\n",
    "        new_img = place_in_square(img_gbs.copy(), scale, h, w)\n",
    "        images.append(new_img)\n",
    "    outpath = os.path.join('C:/Users/Sarala/Desktop/MypartWithData/Images/Other/Original/', '*jpg')\n",
    "    for i, face in enumerate(images):\n",
    "        print(\"Writing to file..\")\n",
    "        cv2.imwrite(\"C:/Users/Sarala/Desktop/MypartWithData/Images/Other/Pre_V2/Other_2\" + str(i) + \".jpg\", face)\n",
    "        print(\"write complete\")\n"
   ]
  },
  {
   "cell_type": "code",
   "execution_count": null,
   "metadata": {},
   "outputs": [],
   "source": []
  }
 ],
 "metadata": {
  "anaconda-cloud": {},
  "kernelspec": {
   "display_name": "Python 3",
   "language": "python",
   "name": "python3"
  },
  "language_info": {
   "codemirror_mode": {
    "name": "ipython",
    "version": 3
   },
   "file_extension": ".py",
   "mimetype": "text/x-python",
   "name": "python",
   "nbconvert_exporter": "python",
   "pygments_lexer": "ipython3",
   "version": "3.7.3"
  }
 },
 "nbformat": 4,
 "nbformat_minor": 1
}
